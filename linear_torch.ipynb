{
 "cells": [
  {
   "cell_type": "code",
   "execution_count": 108,
   "id": "08f7b12b",
   "metadata": {},
   "outputs": [],
   "source": [
    "import numpy as np\n",
    "import torch\n",
    "import torch.nn.functional as F\n",
    "import torch.nn as nn\n",
    "# from torchvision import transforms, datasets\n",
    "from torch.utils.data import DataLoader, TensorDataset"
   ]
  },
  {
   "cell_type": "code",
   "execution_count": 57,
   "id": "49554778",
   "metadata": {},
   "outputs": [],
   "source": [
    "X = np.random.randn(50,3).astype('float32')\n",
    "y = np.arange(50).astype('float32')"
   ]
  },
  {
   "cell_type": "code",
   "execution_count": 58,
   "id": "c473daa1",
   "metadata": {},
   "outputs": [
    {
     "data": {
      "text/plain": [
       "((50, 3), (50,))"
      ]
     },
     "execution_count": 58,
     "metadata": {},
     "output_type": "execute_result"
    }
   ],
   "source": [
    "X.shape, y.shape"
   ]
  },
  {
   "cell_type": "code",
   "execution_count": 59,
   "id": "aa3c9de3",
   "metadata": {},
   "outputs": [],
   "source": [
    "X = torch.from_numpy(X)\n",
    "y = torch.from_numpy(y)"
   ]
  },
  {
   "cell_type": "code",
   "execution_count": 60,
   "id": "3b52d655",
   "metadata": {},
   "outputs": [
    {
     "data": {
      "text/plain": [
       "torch.float32"
      ]
     },
     "execution_count": 60,
     "metadata": {},
     "output_type": "execute_result"
    }
   ],
   "source": [
    "X.dtype"
   ]
  },
  {
   "cell_type": "code",
   "execution_count": 61,
   "id": "ddd20ed1",
   "metadata": {},
   "outputs": [],
   "source": [
    "model = nn.Linear(in_features=3, out_features=1)"
   ]
  },
  {
   "cell_type": "code",
   "execution_count": 62,
   "id": "bfa6d3c8",
   "metadata": {},
   "outputs": [
    {
     "data": {
      "text/plain": [
       "Parameter containing:\n",
       "tensor([-0.5483], requires_grad=True)"
      ]
     },
     "execution_count": 62,
     "metadata": {},
     "output_type": "execute_result"
    }
   ],
   "source": [
    "model.bias"
   ]
  },
  {
   "cell_type": "code",
   "execution_count": 63,
   "id": "5ff6ee69",
   "metadata": {},
   "outputs": [
    {
     "data": {
      "text/plain": [
       "Parameter containing:\n",
       "tensor([[ 0.3935,  0.1300, -0.5389]], requires_grad=True)"
      ]
     },
     "execution_count": 63,
     "metadata": {},
     "output_type": "execute_result"
    }
   ],
   "source": [
    "model.weight"
   ]
  },
  {
   "cell_type": "code",
   "execution_count": 64,
   "id": "52f8f0d0",
   "metadata": {},
   "outputs": [
    {
     "data": {
      "text/plain": [
       "torch.Size([50, 3])"
      ]
     },
     "execution_count": 64,
     "metadata": {},
     "output_type": "execute_result"
    }
   ],
   "source": [
    "X.shape"
   ]
  },
  {
   "cell_type": "code",
   "execution_count": 65,
   "id": "a90bab39",
   "metadata": {},
   "outputs": [],
   "source": [
    "data = TensorDataset(X, y)"
   ]
  },
  {
   "cell_type": "code",
   "execution_count": 66,
   "id": "7ab89fe2",
   "metadata": {},
   "outputs": [],
   "source": [
    "dataloader = DataLoader(data, batch_size = 5, shuffle = True)"
   ]
  },
  {
   "cell_type": "code",
   "execution_count": 67,
   "id": "93bbe914",
   "metadata": {},
   "outputs": [
    {
     "name": "stdout",
     "output_type": "stream",
     "text": [
      "[tensor([[-0.8461, -1.2546, -0.0845],\n",
      "        [-2.4318,  0.6787, -0.0854],\n",
      "        [-2.5484,  1.1510, -0.3819],\n",
      "        [-0.3490, -1.2392,  1.5621],\n",
      "        [-0.3439, -0.9672,  0.1829]]), tensor([32.,  9.,  8., 19., 36.])]\n"
     ]
    }
   ],
   "source": [
    "for d in dataloader:\n",
    "    print(d)\n",
    "    break"
   ]
  },
  {
   "cell_type": "code",
   "execution_count": 69,
   "id": "1ba4796f",
   "metadata": {},
   "outputs": [
    {
     "data": {
      "text/plain": [
       "<generator object Module.parameters at 0x7f2bbeac7d60>"
      ]
     },
     "execution_count": 69,
     "metadata": {},
     "output_type": "execute_result"
    }
   ],
   "source": [
    "model.parameters()"
   ]
  },
  {
   "cell_type": "code",
   "execution_count": 71,
   "id": "e6b6d69e",
   "metadata": {},
   "outputs": [],
   "source": [
    "preds = model(X)"
   ]
  },
  {
   "cell_type": "code",
   "execution_count": 73,
   "id": "2a2683c2",
   "metadata": {},
   "outputs": [
    {
     "data": {
      "text/plain": [
       "torch.Size([50, 1])"
      ]
     },
     "execution_count": 73,
     "metadata": {},
     "output_type": "execute_result"
    }
   ],
   "source": [
    "preds.shape"
   ]
  },
  {
   "cell_type": "code",
   "execution_count": 77,
   "id": "c92078e7",
   "metadata": {},
   "outputs": [],
   "source": [
    "loss_fn = F.mse_loss\n",
    "\n",
    "loss = (model(X), y)\n",
    "opt = torch.optim.SGD(model.parameters(), lr = 0.001)"
   ]
  },
  {
   "cell_type": "code",
   "execution_count": 105,
   "id": "0b1bc5d8",
   "metadata": {},
   "outputs": [],
   "source": [
    "def fit(num_epochs, model, opt, loss_f):\n",
    "    for epoch in range(num_epochs):\n",
    "        for dx, dy in dataloader:\n",
    "            preds = model(X)\n",
    "            loss = loss_f(preds, dy)\n",
    "            \n",
    "            loss.backward()\n",
    "            opt.step()\n",
    "            opt.zero_grad()\n",
    "        print(\"epoch {} / {} loss {}\".format(epoch, num_epochs, loss))\n",
    "    "
   ]
  },
  {
   "cell_type": "code",
   "execution_count": 106,
   "id": "81500dd3",
   "metadata": {},
   "outputs": [
    {
     "name": "stdout",
     "output_type": "stream",
     "text": [
      "epoch 0 / 20 loss 580.846435546875\n",
      "epoch 1 / 20 loss 839.104736328125\n",
      "epoch 2 / 20 loss 972.3665771484375\n",
      "epoch 3 / 20 loss 632.6762084960938\n",
      "epoch 4 / 20 loss 240.6192626953125\n",
      "epoch 5 / 20 loss 1294.6246337890625\n",
      "epoch 6 / 20 loss 726.031005859375\n",
      "epoch 7 / 20 loss 374.32513427734375\n",
      "epoch 8 / 20 loss 913.349853515625\n",
      "epoch 9 / 20 loss 991.7652587890625\n",
      "epoch 10 / 20 loss 192.74310302734375\n",
      "epoch 11 / 20 loss 939.0581665039062\n",
      "epoch 12 / 20 loss 536.3690795898438\n",
      "epoch 13 / 20 loss 586.2606811523438\n",
      "epoch 14 / 20 loss 672.8619384765625\n",
      "epoch 15 / 20 loss 431.0632019042969\n",
      "epoch 16 / 20 loss 539.615478515625\n",
      "epoch 17 / 20 loss 764.2916259765625\n",
      "epoch 18 / 20 loss 313.2334899902344\n",
      "epoch 19 / 20 loss 685.7833251953125\n"
     ]
    },
    {
     "name": "stderr",
     "output_type": "stream",
     "text": [
      "<ipython-input-105-4270ef452f31>:5: UserWarning: Using a target size (torch.Size([5])) that is different to the input size (torch.Size([50, 1])). This will likely lead to incorrect results due to broadcasting. Please ensure they have the same size.\n",
      "  loss = loss_f(preds, dy)\n"
     ]
    }
   ],
   "source": [
    "fit(20, model, opt, loss_fn)"
   ]
  },
  {
   "cell_type": "code",
   "execution_count": 85,
   "id": "ff9e61be",
   "metadata": {},
   "outputs": [],
   "source": [
    "[w, b] = model.parameters()"
   ]
  },
  {
   "cell_type": "code",
   "execution_count": 86,
   "id": "a36a458d",
   "metadata": {},
   "outputs": [
    {
     "data": {
      "text/plain": [
       "Parameter containing:\n",
       "tensor([[-0.2103, -0.5270, -0.8199]], requires_grad=True)"
      ]
     },
     "execution_count": 86,
     "metadata": {},
     "output_type": "execute_result"
    }
   ],
   "source": [
    "w"
   ]
  },
  {
   "cell_type": "code",
   "execution_count": 87,
   "id": "7d6a2776",
   "metadata": {},
   "outputs": [
    {
     "data": {
      "text/plain": [
       "Parameter containing:\n",
       "tensor([7.6947], requires_grad=True)"
      ]
     },
     "execution_count": 87,
     "metadata": {},
     "output_type": "execute_result"
    }
   ],
   "source": [
    "b"
   ]
  },
  {
   "cell_type": "code",
   "execution_count": 88,
   "id": "91ceab93",
   "metadata": {},
   "outputs": [],
   "source": [
    "b.backward()"
   ]
  },
  {
   "cell_type": "code",
   "execution_count": 89,
   "id": "bdfab11c",
   "metadata": {},
   "outputs": [
    {
     "data": {
      "text/plain": [
       "Parameter containing:\n",
       "tensor([7.6947], requires_grad=True)"
      ]
     },
     "execution_count": 89,
     "metadata": {},
     "output_type": "execute_result"
    }
   ],
   "source": [
    "b"
   ]
  },
  {
   "cell_type": "code",
   "execution_count": 101,
   "id": "b709fa7b",
   "metadata": {},
   "outputs": [],
   "source": [
    "class Linear(nn.Module):\n",
    "    def __init__(self, input_dim, output_dim):\n",
    "        super(Linear, self).__init__()\n",
    "        \n",
    "        # define the model\n",
    "        self.lin = nn.Linear(input_dim, output_dim)\n",
    "        \n",
    "    def forward(self, x):\n",
    "        return self.lin(x)\n",
    "        "
   ]
  },
  {
   "cell_type": "code",
   "execution_count": 102,
   "id": "dd4a00ed",
   "metadata": {},
   "outputs": [],
   "source": [
    "model = Linear(3, 1)"
   ]
  },
  {
   "cell_type": "code",
   "execution_count": 103,
   "id": "e54c7627",
   "metadata": {},
   "outputs": [],
   "source": [
    "??model"
   ]
  },
  {
   "cell_type": "code",
   "execution_count": 104,
   "id": "38f97b52",
   "metadata": {},
   "outputs": [
    {
     "data": {
      "text/plain": [
       "tensor([[-0.1958],\n",
       "        [-0.0582],\n",
       "        [ 1.2346],\n",
       "        [-0.0751],\n",
       "        [-0.0619],\n",
       "        [ 0.0379],\n",
       "        [ 2.1040],\n",
       "        [ 0.1666],\n",
       "        [ 0.8865],\n",
       "        [ 1.1963],\n",
       "        [ 2.2112],\n",
       "        [ 0.7989],\n",
       "        [ 1.1163],\n",
       "        [ 1.8148],\n",
       "        [ 0.0936],\n",
       "        [ 1.0000],\n",
       "        [ 0.2132],\n",
       "        [-0.0737],\n",
       "        [ 0.1083],\n",
       "        [ 2.0036],\n",
       "        [ 1.5071],\n",
       "        [-0.0634],\n",
       "        [ 0.4300],\n",
       "        [ 0.8826],\n",
       "        [-0.9491],\n",
       "        [-0.1594],\n",
       "        [-0.2819],\n",
       "        [-0.1745],\n",
       "        [ 1.8935],\n",
       "        [ 1.0469],\n",
       "        [ 0.9058],\n",
       "        [ 0.5774],\n",
       "        [ 1.3670],\n",
       "        [ 0.3633],\n",
       "        [-0.3624],\n",
       "        [ 0.0630],\n",
       "        [ 1.1683],\n",
       "        [ 0.6290],\n",
       "        [-0.3561],\n",
       "        [ 0.5396],\n",
       "        [-0.4981],\n",
       "        [-0.1064],\n",
       "        [-0.1042],\n",
       "        [ 0.8077],\n",
       "        [ 0.5297],\n",
       "        [ 0.5418],\n",
       "        [ 1.2165],\n",
       "        [ 0.7751],\n",
       "        [ 0.6705],\n",
       "        [-0.4451]], grad_fn=<AddmmBackward>)"
      ]
     },
     "execution_count": 104,
     "metadata": {},
     "output_type": "execute_result"
    }
   ],
   "source": [
    "model(X)"
   ]
  },
  {
   "cell_type": "code",
   "execution_count": null,
   "id": "e766c0dc",
   "metadata": {},
   "outputs": [],
   "source": []
  },
  {
   "cell_type": "code",
   "execution_count": null,
   "id": "e2d3a7e2",
   "metadata": {},
   "outputs": [],
   "source": []
  }
 ],
 "metadata": {
  "kernelspec": {
   "display_name": "Python 3",
   "language": "python",
   "name": "python3"
  },
  "language_info": {
   "codemirror_mode": {
    "name": "ipython",
    "version": 3
   },
   "file_extension": ".py",
   "mimetype": "text/x-python",
   "name": "python",
   "nbconvert_exporter": "python",
   "pygments_lexer": "ipython3",
   "version": "3.8.8"
  }
 },
 "nbformat": 4,
 "nbformat_minor": 5
}
