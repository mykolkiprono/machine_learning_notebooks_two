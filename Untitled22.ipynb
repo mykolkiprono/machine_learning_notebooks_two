{
 "cells": [
  {
   "cell_type": "code",
   "execution_count": 13,
   "id": "a76db14b",
   "metadata": {},
   "outputs": [],
   "source": [
    "# import stable_baselines3"
   ]
  },
  {
   "cell_type": "code",
   "execution_count": 1,
   "id": "d59aa279",
   "metadata": {},
   "outputs": [],
   "source": [
    "import tensorflow as tf\n",
    "import numpy as np\n",
    "import gym"
   ]
  },
  {
   "cell_type": "code",
   "execution_count": 4,
   "id": "a47f5436",
   "metadata": {},
   "outputs": [
    {
     "data": {
      "text/plain": [
       "array([-0.04906972, -0.00321822,  0.0131879 ,  0.00205091])"
      ]
     },
     "execution_count": 4,
     "metadata": {},
     "output_type": "execute_result"
    }
   ],
   "source": [
    "env = gym.make(\"CartPole-v0\")\n",
    "env.reset()"
   ]
  },
  {
   "cell_type": "code",
   "execution_count": 19,
   "id": "b485a0dc",
   "metadata": {},
   "outputs": [],
   "source": [
    "# ac\n",
    "# tion_space = env.action_space.n\n",
    "# state_space = env.state_space.n\n",
    "\n",
    "# action = env.action_space.n\n",
    "# action"
   ]
  },
  {
   "cell_type": "code",
   "execution_count": null,
   "id": "9bec0a2d",
   "metadata": {},
   "outputs": [],
   "source": [
    "done = False\n",
    "\n",
    "while not done:\n",
    "    for episodes in range(5):\n",
    "        env.reset()\n",
    "        action = 1\n",
    "        \n",
    "        action = np.random.choice(action)\n",
    "        env.render()\n",
    "env.close()"
   ]
  },
  {
   "cell_type": "code",
   "execution_count": null,
   "id": "a612690c",
   "metadata": {},
   "outputs": [],
   "source": []
  }
 ],
 "metadata": {
  "kernelspec": {
   "display_name": "Python 3",
   "language": "python",
   "name": "python3"
  },
  "language_info": {
   "codemirror_mode": {
    "name": "ipython",
    "version": 3
   },
   "file_extension": ".py",
   "mimetype": "text/x-python",
   "name": "python",
   "nbconvert_exporter": "python",
   "pygments_lexer": "ipython3",
   "version": "3.7.10"
  }
 },
 "nbformat": 4,
 "nbformat_minor": 5
}
