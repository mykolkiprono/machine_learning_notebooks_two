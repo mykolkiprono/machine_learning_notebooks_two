{
 "cells": [
  {
   "cell_type": "code",
   "execution_count": 1,
   "id": "0e15bd7e",
   "metadata": {},
   "outputs": [],
   "source": [
    "import torch\n",
    "from torch.utils.data import Dataset, dataloader"
   ]
  },
  {
   "cell_type": "code",
   "execution_count": 2,
   "id": "ce98a0c1",
   "metadata": {},
   "outputs": [
    {
     "ename": "NameError",
     "evalue": "name 'WineData' is not defined",
     "output_type": "error",
     "traceback": [
      "\u001b[0;31m---------------------------------------------------------------------------\u001b[0m",
      "\u001b[0;31mNameError\u001b[0m                                 Traceback (most recent call last)",
      "\u001b[0;32m<ipython-input-2-02d32ee1b9bb>\u001b[0m in \u001b[0;36m<module>\u001b[0;34m\u001b[0m\n\u001b[0;32m----> 1\u001b[0;31m \u001b[0mw\u001b[0m \u001b[0;34m=\u001b[0m \u001b[0mWineData\u001b[0m\u001b[0;34m[\u001b[0m\u001b[0;36m0\u001b[0m\u001b[0;34m]\u001b[0m\u001b[0;34m\u001b[0m\u001b[0;34m\u001b[0m\u001b[0m\n\u001b[0m",
      "\u001b[0;31mNameError\u001b[0m: name 'WineData' is not defined"
     ]
    }
   ],
   "source": [
    "w = WineData[0]\n",
    "\n",
    "len(w)"
   ]
  },
  {
   "cell_type": "code",
   "execution_count": null,
   "id": "b3c37dc7",
   "metadata": {},
   "outputs": [],
   "source": [
    "class WineData(Dataset):\n",
    "    def __init__(self):\n",
    "        # data loading\n",
    "        x,y = numpy.load_txt('', delimiter = ',', dtype = np.float32, skiprows = 1)\n",
    "        self.x = x[:1]\n",
    "        selfy = x[:, [0]] # n_samples, 1\n",
    "        \n",
    "    # dataset[0]a\n",
    "    def __getitem__(self, index):  \n",
    "        \n",
    "    def __len__(self):\n",
    "        "
   ]
  }
 ],
 "metadata": {
  "kernelspec": {
   "display_name": "Python 3",
   "language": "python",
   "name": "python3"
  },
  "language_info": {
   "codemirror_mode": {
    "name": "ipython",
    "version": 3
   },
   "file_extension": ".py",
   "mimetype": "text/x-python",
   "name": "python",
   "nbconvert_exporter": "python",
   "pygments_lexer": "ipython3",
   "version": "3.8.8"
  }
 },
 "nbformat": 4,
 "nbformat_minor": 5
}
