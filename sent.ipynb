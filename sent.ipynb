{
 "cells": [
  {
   "cell_type": "code",
   "execution_count": 39,
   "id": "57778452",
   "metadata": {},
   "outputs": [],
   "source": [
    "import tensorflow as tf\n",
    "from tensorflow import keras\n",
    "from tensorflow.keras.datasets import imdb\n",
    "from tensorflow.keras.preprocessing.sequence import pad_sequences\n",
    "from tensorflow.keras.layers import Dense, GlobalAveragePooling1D, Embedding"
   ]
  },
  {
   "cell_type": "code",
   "execution_count": 18,
   "id": "dff44190",
   "metadata": {},
   "outputs": [],
   "source": [
    "(train_data, test_data),(train_labels, test_labels) = imdb.load_data()"
   ]
  },
  {
   "cell_type": "code",
   "execution_count": 10,
   "id": "654c0b1f",
   "metadata": {},
   "outputs": [],
   "source": [
    "# tf.keras.datasets.imdb.get_word_index(path=\"imdb_word_index.json\")"
   ]
  },
  {
   "cell_type": "code",
   "execution_count": 22,
   "id": "a38eaacd",
   "metadata": {},
   "outputs": [],
   "source": [
    "word_index = tf.keras.datasets.imdb.get_word_index(path = \"imdb_word_index.json\")"
   ]
  },
  {
   "cell_type": "code",
   "execution_count": 27,
   "id": "6bc06a04",
   "metadata": {},
   "outputs": [],
   "source": [
    "reverse_index = dict((word, index) for (index,word) in word_index.items())"
   ]
  },
  {
   "cell_type": "code",
   "execution_count": 34,
   "id": "4ceca674",
   "metadata": {},
   "outputs": [],
   "source": [
    "decoded_sentence = \" \".join(reverse_index[i] for i in train_data[0])"
   ]
  },
  {
   "cell_type": "code",
   "execution_count": 35,
   "id": "0cecde81",
   "metadata": {},
   "outputs": [
    {
     "data": {
      "text/plain": [
       "\"the as you with out themselves powerful lets loves their becomes reaching had journalist of lot from anyone to have after out atmosphere never more room titillate it so heart shows to years of every never going villaronga help moments or of every chest visual movie except her was several of enough more with is now current film as you of mine potentially unfortunately of you than him that with out themselves her get for was camp of you movie sometimes movie that with scary but pratfalls to story wonderful that in seeing in character to of 70s musicians with heart had shadows they of here that with her serious to have does when from why what have critics they is you that isn't one will very to as itself with other tricky in of seen over landed for anyone of gilmore's br show's to whether from than out themselves history he name half some br of 'n odd was two most of mean for 1 any an boat she he should is thought frog but of script you not while history he heart to real at barrel but when from one bit then have two of script their with her nobody most that with wasn't to with armed acting watch an for with heartfelt film want an\""
      ]
     },
     "execution_count": 35,
     "metadata": {},
     "output_type": "execute_result"
    }
   ],
   "source": [
    "decoded_sentence"
   ]
  },
  {
   "cell_type": "code",
   "execution_count": 42,
   "id": "de0fb372",
   "metadata": {},
   "outputs": [],
   "source": [
    "train_data = pad_sequences(train_data, truncating = 'post', padding = 'post', maxlen = 256)"
   ]
  },
  {
   "cell_type": "code",
   "execution_count": 44,
   "id": "1296e789",
   "metadata": {},
   "outputs": [
    {
     "data": {
      "text/plain": [
       "(25000, 256)"
      ]
     },
     "execution_count": 44,
     "metadata": {},
     "output_type": "execute_result"
    }
   ],
   "source": [
    "train_data.shape"
   ]
  },
  {
   "cell_type": "code",
   "execution_count": 45,
   "id": "e9bdadac",
   "metadata": {},
   "outputs": [
    {
     "data": {
      "text/plain": [
       "(25000,)"
      ]
     },
     "execution_count": 45,
     "metadata": {},
     "output_type": "execute_result"
    }
   ],
   "source": [
    "train_labels.shape"
   ]
  },
  {
   "cell_type": "code",
   "execution_count": null,
   "id": "554368f1",
   "metadata": {},
   "outputs": [],
   "source": [
    "model = Sequential([\n",
    "    Dense(64,activation = 'relu', input_shape = (25000,256))\n",
    "    Dense(128,activation = 'relu', input_shape = (25000,256))\n",
    "    Dense(128,activation = 'relu', input_shape = (25000,256))\n",
    "    Dense(64,activation = 'relu', input_shape = (25000,256))\n",
    "    Dense(32,activation = 'relu', input_shape = (25000,256))\n",
    "    Dense(2,activation = '', input_shape = (25000,256))\n",
    "\n",
    "\n",
    "\n",
    "])"
   ]
  }
 ],
 "metadata": {
  "kernelspec": {
   "display_name": "Python 3",
   "language": "python",
   "name": "python3"
  },
  "language_info": {
   "codemirror_mode": {
    "name": "ipython",
    "version": 3
   },
   "file_extension": ".py",
   "mimetype": "text/x-python",
   "name": "python",
   "nbconvert_exporter": "python",
   "pygments_lexer": "ipython3",
   "version": "3.9.5"
  }
 },
 "nbformat": 4,
 "nbformat_minor": 5
}
