{
 "cells": [
  {
   "cell_type": "code",
   "execution_count": 1,
   "id": "f6c1a15d",
   "metadata": {},
   "outputs": [],
   "source": [
    "import tensorflow as tf"
   ]
  },
  {
   "cell_type": "code",
   "execution_count": 2,
   "id": "1373cc5c",
   "metadata": {},
   "outputs": [],
   "source": [
    "import numpy as np\n",
    "import matplotlib.pyplot as plt"
   ]
  },
  {
   "cell_type": "code",
   "execution_count": 3,
   "id": "0bd3d7a3",
   "metadata": {},
   "outputs": [],
   "source": [
    "# create features\n",
    "\n",
    "X = np.array([-7.0, -4.0, -1.0, 2.0,5.0,8.0,11.0,14.0])\n",
    "\n",
    "#  create labels\n",
    "\n",
    "y = np.array([3.0,6.0,9.0,12.0,15.0,18.0,21.0,24.0])\n",
    "# plt.scatter(X,y)"
   ]
  },
  {
   "cell_type": "code",
   "execution_count": 4,
   "id": "94324598",
   "metadata": {},
   "outputs": [
    {
     "data": {
      "text/plain": [
       "array([ 3.,  6.,  9., 12., 15., 18., 21., 24.])"
      ]
     },
     "execution_count": 4,
     "metadata": {},
     "output_type": "execute_result"
    }
   ],
   "source": [
    "X+10"
   ]
  },
  {
   "cell_type": "code",
   "execution_count": 5,
   "id": "4e3ae642",
   "metadata": {},
   "outputs": [
    {
     "data": {
      "text/plain": [
       "array([ True,  True,  True,  True,  True,  True,  True,  True])"
      ]
     },
     "execution_count": 5,
     "metadata": {},
     "output_type": "execute_result"
    }
   ],
   "source": [
    "y == X+10"
   ]
  },
  {
   "cell_type": "code",
   "execution_count": 6,
   "id": "f9e9fd7e",
   "metadata": {},
   "outputs": [
    {
     "data": {
      "text/plain": [
       "((), ())"
      ]
     },
     "execution_count": 6,
     "metadata": {},
     "output_type": "execute_result"
    }
   ],
   "source": [
    "#  Inpout and output shapes\n",
    "input_shape = X[0].shape\n",
    "output_shape = y[0].shape\n",
    "\n",
    "\n",
    "input_shape, output_shape"
   ]
  },
  {
   "cell_type": "code",
   "execution_count": 7,
   "id": "3c0fdd83",
   "metadata": {},
   "outputs": [
    {
     "data": {
      "text/plain": [
       "(TensorShape([]), TensorShape([]))"
      ]
     },
     "execution_count": 7,
     "metadata": {},
     "output_type": "execute_result"
    }
   ],
   "source": [
    "#  turn our numpy arays init tendors\n",
    "X = tf.constant(X)\n",
    "y = tf.constant(y)\n",
    "\n",
    "input_shape = X[0].shape\n",
    "output_shape = y[0].shape\n",
    "input_shape, output_shape"
   ]
  },
  {
   "cell_type": "markdown",
   "id": "f5441365",
   "metadata": {},
   "source": [
    "## steps in modelling with tensorflow\n",
    "\n",
    "1. Crteating a mode, layers and hidden layers of the deep learning model\n",
    "2. compilling a model - dfeine the loss function (in other words , the function which tells )\n",
    "3. fit the data to the model"
   ]
  },
  {
   "cell_type": "code",
   "execution_count": 8,
   "id": "c3c9da7c",
   "metadata": {},
   "outputs": [
    {
     "name": "stdout",
     "output_type": "stream",
     "text": [
      "Epoch 1/5\n",
      "1/1 - 1s - loss: 141.0943 - mae: 11.5048\n",
      "Epoch 2/5\n",
      "1/1 - 0s - loss: 78.3486 - mae: 7.3274\n",
      "Epoch 3/5\n",
      "1/1 - 0s - loss: 73.6895 - mae: 7.7554\n",
      "Epoch 4/5\n",
      "1/1 - 0s - loss: 71.2925 - mae: 7.4710\n",
      "Epoch 5/5\n",
      "1/1 - 0s - loss: 69.0506 - mae: 7.3841\n"
     ]
    },
    {
     "data": {
      "text/plain": [
       "<tensorflow.python.keras.callbacks.History at 0x7f7300764c90>"
      ]
     },
     "execution_count": 8,
     "metadata": {},
     "output_type": "execute_result"
    }
   ],
   "source": [
    "# set the random seed \n",
    "tf.random.set_seed(42)\n",
    "\n",
    "#  create a model using sequential API\n",
    "model = tf.keras.Sequential([\n",
    "    tf.keras.layers.Dense(1)\n",
    "])\n",
    "\n",
    "#  compile\n",
    "model.compile(loss = tf.keras.losses.mse, optimizer = tf.keras.optimizers.SGD(), metrics = [\"mae\"])\n",
    "\n",
    "#  fit the model\n",
    "\n",
    "model.fit(X, y, epochs = 5, verbose= 2)"
   ]
  },
  {
   "cell_type": "code",
   "execution_count": 9,
   "id": "96d2c250",
   "metadata": {},
   "outputs": [
    {
     "data": {
      "text/plain": [
       "(<tf.Tensor: shape=(8,), dtype=float64, numpy=array([-7., -4., -1.,  2.,  5.,  8., 11., 14.])>,\n",
       " <tf.Tensor: shape=(8,), dtype=float64, numpy=array([ 3.,  6.,  9., 12., 15., 18., 21., 24.])>)"
      ]
     },
     "execution_count": 9,
     "metadata": {},
     "output_type": "execute_result"
    }
   ],
   "source": [
    "#  make a prediction\n",
    "\n",
    "X, y"
   ]
  },
  {
   "cell_type": "code",
   "execution_count": 21,
   "id": "628cf824",
   "metadata": {},
   "outputs": [
    {
     "ename": "IndexError",
     "evalue": "index 1 is out of bounds for axis 0 with size 1",
     "output_type": "error",
     "traceback": [
      "\u001b[0;31m---------------------------------------------------------------------------\u001b[0m",
      "\u001b[0;31mIndexError\u001b[0m                                Traceback (most recent call last)",
      "\u001b[0;32m<ipython-input-21-121514082d71>\u001b[0m in \u001b[0;36m<module>\u001b[0;34m\u001b[0m\n\u001b[1;32m      2\u001b[0m \u001b[0;34m\u001b[0m\u001b[0m\n\u001b[1;32m      3\u001b[0m \u001b[0mc\u001b[0m \u001b[0;34m=\u001b[0m \u001b[0mmodel\u001b[0m\u001b[0;34m.\u001b[0m\u001b[0mpredict\u001b[0m\u001b[0;34m(\u001b[0m\u001b[0;34m[\u001b[0m\u001b[0;36m17.0\u001b[0m\u001b[0;34m]\u001b[0m\u001b[0;34m)\u001b[0m\u001b[0;34m\u001b[0m\u001b[0;34m\u001b[0m\u001b[0m\n\u001b[0;32m----> 4\u001b[0;31m \u001b[0mc\u001b[0m\u001b[0;34m[\u001b[0m\u001b[0;36m0\u001b[0m\u001b[0;34m]\u001b[0m\u001b[0;34m[\u001b[0m\u001b[0;36m1\u001b[0m\u001b[0;34m]\u001b[0m\u001b[0;34m\u001b[0m\u001b[0;34m\u001b[0m\u001b[0m\n\u001b[0m",
      "\u001b[0;31mIndexError\u001b[0m: index 1 is out of bounds for axis 0 with size 1"
     ]
    }
   ],
   "source": [
    "#  ttry and make a prediction\n",
    "\n",
    "c = model.predict([17.0])\n",
    "c[0][1]"
   ]
  },
  {
   "cell_type": "markdown",
   "id": "f8c668d3",
   "metadata": {},
   "source": [
    "## imporve our model\n",
    "## we can imporve a model by altering the stepss we took to crate the model\n",
    "1. we might need to addd more layers, increase the number of idden layers, change the activation function for each layer\n",
    "\n",
    "2. **compiling a model*** -here we mught need to change ethe loss "
   ]
  },
  {
   "cell_type": "code",
   "execution_count": null,
   "id": "e3f1174f",
   "metadata": {},
   "outputs": [],
   "source": [
    " "
   ]
  }
 ],
 "metadata": {
  "kernelspec": {
   "display_name": "Python 3",
   "language": "python",
   "name": "python3"
  },
  "language_info": {
   "codemirror_mode": {
    "name": "ipython",
    "version": 3
   },
   "file_extension": ".py",
   "mimetype": "text/x-python",
   "name": "python",
   "nbconvert_exporter": "python",
   "pygments_lexer": "ipython3",
   "version": "3.7.10"
  }
 },
 "nbformat": 4,
 "nbformat_minor": 5
}
