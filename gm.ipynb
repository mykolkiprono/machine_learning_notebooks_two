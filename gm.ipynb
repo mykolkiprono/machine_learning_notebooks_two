{
 "cells": [
  {
   "cell_type": "code",
   "execution_count": 1,
   "id": "e9311796",
   "metadata": {},
   "outputs": [
    {
     "name": "stdout",
     "output_type": "stream",
     "text": [
      "Automatically created module for IPython interactive environment\n"
     ]
    }
   ],
   "source": [
    "import numpy as np\n",
    "import matplotlib.pyplot as plt\n",
    "from sklearn.model_selection import StratifiedKFold\n",
    "from sklearn.mixture import GaussianMixture\n",
    "from sklearn.datasets import load_iris\n",
    "\n",
    "print(__doc__)"
   ]
  },
  {
   "cell_type": "code",
   "execution_count": 59,
   "id": "cef2b932",
   "metadata": {},
   "outputs": [],
   "source": [
    "X, y = load_iris(return_X_y = True)"
   ]
  },
  {
   "cell_type": "code",
   "execution_count": 7,
   "id": "9e92540f",
   "metadata": {},
   "outputs": [
    {
     "data": {
      "text/plain": [
       "GaussianMixture(n_components=3)"
      ]
     },
     "execution_count": 7,
     "metadata": {},
     "output_type": "execute_result"
    }
   ],
   "source": [
    "gmm = GaussianMixture(n_components = 3, covariance_type = 'full')\n",
    "\n",
    "gmm.fit(X)"
   ]
  },
  {
   "cell_type": "code",
   "execution_count": 6,
   "id": "dee05f8c",
   "metadata": {},
   "outputs": [
    {
     "data": {
      "text/plain": [
       "['__abstractmethods__',\n",
       " '__class__',\n",
       " '__delattr__',\n",
       " '__dict__',\n",
       " '__dir__',\n",
       " '__doc__',\n",
       " '__eq__',\n",
       " '__format__',\n",
       " '__ge__',\n",
       " '__getattribute__',\n",
       " '__getstate__',\n",
       " '__gt__',\n",
       " '__hash__',\n",
       " '__init__',\n",
       " '__init_subclass__',\n",
       " '__le__',\n",
       " '__lt__',\n",
       " '__module__',\n",
       " '__ne__',\n",
       " '__new__',\n",
       " '__reduce__',\n",
       " '__reduce_ex__',\n",
       " '__repr__',\n",
       " '__setattr__',\n",
       " '__setstate__',\n",
       " '__sizeof__',\n",
       " '__str__',\n",
       " '__subclasshook__',\n",
       " '__weakref__',\n",
       " '_abc_impl',\n",
       " '_check_initial_parameters',\n",
       " '_check_n_features',\n",
       " '_check_parameters',\n",
       " '_compute_lower_bound',\n",
       " '_e_step',\n",
       " '_estimate_log_prob',\n",
       " '_estimate_log_prob_resp',\n",
       " '_estimate_log_weights',\n",
       " '_estimate_weighted_log_prob',\n",
       " '_estimator_type',\n",
       " '_get_param_names',\n",
       " '_get_parameters',\n",
       " '_get_tags',\n",
       " '_initialize',\n",
       " '_initialize_parameters',\n",
       " '_m_step',\n",
       " '_more_tags',\n",
       " '_n_parameters',\n",
       " '_print_verbose_msg_init_beg',\n",
       " '_print_verbose_msg_init_end',\n",
       " '_print_verbose_msg_iter_end',\n",
       " '_repr_html_',\n",
       " '_repr_html_inner',\n",
       " '_repr_mimebundle_',\n",
       " '_set_parameters',\n",
       " '_validate_data',\n",
       " 'aic',\n",
       " 'bic',\n",
       " 'covariance_type',\n",
       " 'fit',\n",
       " 'fit_predict',\n",
       " 'get_params',\n",
       " 'init_params',\n",
       " 'max_iter',\n",
       " 'means_init',\n",
       " 'n_components',\n",
       " 'n_init',\n",
       " 'precisions_init',\n",
       " 'predict',\n",
       " 'predict_proba',\n",
       " 'random_state',\n",
       " 'reg_covar',\n",
       " 'sample',\n",
       " 'score',\n",
       " 'score_samples',\n",
       " 'set_params',\n",
       " 'tol',\n",
       " 'verbose',\n",
       " 'verbose_interval',\n",
       " 'warm_start',\n",
       " 'weights_init']"
      ]
     },
     "execution_count": 6,
     "metadata": {},
     "output_type": "execute_result"
    }
   ],
   "source": [
    "dir(gmm)"
   ]
  },
  {
   "cell_type": "code",
   "execution_count": 22,
   "id": "e3213329",
   "metadata": {},
   "outputs": [
    {
     "data": {
      "text/plain": [
       "<bound method GaussianMixture.bic of GaussianMixture(n_components=3)>"
      ]
     },
     "execution_count": 22,
     "metadata": {},
     "output_type": "execute_result"
    }
   ],
   "source": [
    "gmm.bic"
   ]
  },
  {
   "cell_type": "code",
   "execution_count": 46,
   "id": "33fc1989",
   "metadata": {},
   "outputs": [],
   "source": [
    "c = np.arange(50)\n",
    "y = np.arange(50, 100,1)\n",
    "x = np.array(np.meshgrid(c, y))"
   ]
  },
  {
   "cell_type": "code",
   "execution_count": 47,
   "id": "4d39f636",
   "metadata": {},
   "outputs": [
    {
     "data": {
      "text/plain": [
       "(2, 50, 50)"
      ]
     },
     "execution_count": 47,
     "metadata": {},
     "output_type": "execute_result"
    }
   ],
   "source": [
    "x.shape"
   ]
  },
  {
   "cell_type": "code",
   "execution_count": 54,
   "id": "a7c26f99",
   "metadata": {},
   "outputs": [
    {
     "data": {
      "image/png": "[encoded data removed]",
      "text/plain": [
       "<Figure size 432x288 with 1 Axes>"
      ]
     },
     "metadata": {
      "needs_background": "light"
     },
     "output_type": "display_data"
    }
   ],
   "source": [
    "plt.imshow(x[0])\n",
    "plt.show()"
   ]
  },
  {
   "cell_type": "code",
   "execution_count": 64,
   "id": "8a380deb",
   "metadata": {},
   "outputs": [],
   "source": [
    "from sklearn.linear_model import LogisticRegression\n",
    "from sklearn.model_selection import train_test_split"
   ]
  },
  {
   "cell_type": "code",
   "execution_count": 67,
   "id": "a0c1e9a2",
   "metadata": {},
   "outputs": [],
   "source": [
    "X_train, X_test, y_train, y_test = train_test_split(X, y, test_size = 0.2)"
   ]
  },
  {
   "cell_type": "code",
   "execution_count": 68,
   "id": "8ebdd15a",
   "metadata": {},
   "outputs": [],
   "source": [
    "preds = clf.predict(X_test)"
   ]
  },
  {
   "cell_type": "code",
   "execution_count": 95,
   "id": "f8353e10",
   "metadata": {},
   "outputs": [],
   "source": [
    "[x] = np.meshgrid(2*np.pi*np.arange(200)/12)"
   ]
  },
  {
   "cell_type": "code",
   "execution_count": 96,
   "id": "b6150f59",
   "metadata": {},
   "outputs": [
    {
     "data": {
      "text/plain": [
       "(200,)"
      ]
     },
     "execution_count": 96,
     "metadata": {},
     "output_type": "execute_result"
    }
   ],
   "source": [
    "x.shape"
   ]
  },
  {
   "cell_type": "code",
   "execution_count": 97,
   "id": "b8074746",
   "metadata": {},
   "outputs": [],
   "source": [
    "[x,y] = np.array(np.meshgrid(2*np.pi*np.arange(20)/12, 2*np.pi*np.arange(20)/34))"
   ]
  },
  {
   "cell_type": "code",
   "execution_count": 99,
   "id": "d89f8172",
   "metadata": {},
   "outputs": [
    {
     "data": {
      "text/plain": [
       "(20, 20)"
      ]
     },
     "execution_count": 99,
     "metadata": {},
     "output_type": "execute_result"
    }
   ],
   "source": [
    "x.shape"
   ]
  },
  {
   "cell_type": "code",
   "execution_count": null,
   "id": "6aea596f",
   "metadata": {},
   "outputs": [],
   "source": []
  },
  {
   "cell_type": "code",
   "execution_count": null,
   "id": "f9ddf71d",
   "metadata": {},
   "outputs": [],
   "source": []
  }
 ],
 "metadata": {
  "kernelspec": {
   "display_name": "Python 3",
   "language": "python",
   "name": "python3"
  },
  "language_info": {
   "codemirror_mode": {
    "name": "ipython",
    "version": 3
   },
   "file_extension": ".py",
   "mimetype": "text/x-python",
   "name": "python",
   "nbconvert_exporter": "python",
   "pygments_lexer": "ipython3",
   "version": "3.8.8"
  }
 },
 "nbformat": 4,
 "nbformat_minor": 5
}
