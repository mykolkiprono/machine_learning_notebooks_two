{
 "cells": [
  {
   "cell_type": "code",
   "execution_count": 73,
   "id": "d2c0c697",
   "metadata": {},
   "outputs": [],
   "source": [
    "from sklearn.datasets import load_iris\n",
    "from sklearn.ensemble import AdaBoostClassifier, GradientBoostingClassifier\n",
    "from sklearn.metrics import accuracy_score\n",
    "from sklearn.model_selection import train_test_split, cross_val_score, KFold\n",
    "from sklearn.model_selection import GridSearchCV\n",
    "from sklearn.pipeline import Pipeline"
   ]
  },
  {
   "cell_type": "code",
   "execution_count": 5,
   "id": "a3cfae9d",
   "metadata": {},
   "outputs": [],
   "source": [
    "X,y = load_iris(return_X_y = True)"
   ]
  },
  {
   "cell_type": "code",
   "execution_count": 15,
   "id": "5499e28f",
   "metadata": {},
   "outputs": [],
   "source": [
    "x_train, x_test, y_train, y_test = train_test_split(X, y, test_size = 0.2, random_state = 0)"
   ]
  },
  {
   "cell_type": "code",
   "execution_count": 9,
   "id": "da8c54e4",
   "metadata": {},
   "outputs": [],
   "source": [
    "clf = AdaBoostClassifier(n_estimators = 100, random_state = 1)"
   ]
  },
  {
   "cell_type": "code",
   "execution_count": 16,
   "id": "72f201f0",
   "metadata": {},
   "outputs": [
    {
     "data": {
      "text/plain": [
       "AdaBoostClassifier(n_estimators=100, random_state=1)"
      ]
     },
     "execution_count": 16,
     "metadata": {},
     "output_type": "execute_result"
    }
   ],
   "source": [
    "clf.fit(x_train,y_train)"
   ]
  },
  {
   "cell_type": "code",
   "execution_count": 17,
   "id": "f931764b",
   "metadata": {},
   "outputs": [
    {
     "data": {
      "text/plain": [
       "0.9583333333333334"
      ]
     },
     "execution_count": 17,
     "metadata": {},
     "output_type": "execute_result"
    }
   ],
   "source": [
    "clf.score(x_train, y_train)"
   ]
  },
  {
   "cell_type": "code",
   "execution_count": 18,
   "id": "533fbe40",
   "metadata": {},
   "outputs": [],
   "source": [
    "preds = clf.predict(x_test)"
   ]
  },
  {
   "cell_type": "code",
   "execution_count": 19,
   "id": "b0424e71",
   "metadata": {},
   "outputs": [
    {
     "data": {
      "text/plain": [
       "0.9"
      ]
     },
     "execution_count": 19,
     "metadata": {},
     "output_type": "execute_result"
    }
   ],
   "source": [
    "clf.score(x_test, y_test)"
   ]
  },
  {
   "cell_type": "code",
   "execution_count": 21,
   "id": "9346e9b3",
   "metadata": {},
   "outputs": [
    {
     "name": "stdout",
     "output_type": "stream",
     "text": [
      "              precision    recall  f1-score   support\n",
      "\n",
      "           0       1.00      1.00      1.00        11\n",
      "           1       0.81      1.00      0.90        13\n",
      "           2       1.00      0.50      0.67         6\n",
      "\n",
      "    accuracy                           0.90        30\n",
      "   macro avg       0.94      0.83      0.85        30\n",
      "weighted avg       0.92      0.90      0.89        30\n",
      "\n"
     ]
    }
   ],
   "source": [
    "print(metrics.classification_report(y_test, preds))"
   ]
  },
  {
   "cell_type": "code",
   "execution_count": 24,
   "id": "f461ba80",
   "metadata": {},
   "outputs": [],
   "source": [
    "pipe = Pipeline([\n",
    "    ('clf', AdaBoostClassifier())\n",
    "])"
   ]
  },
  {
   "cell_type": "code",
   "execution_count": 26,
   "id": "f1a0383b",
   "metadata": {},
   "outputs": [
    {
     "data": {
      "text/plain": [
       "{'memory': None,\n",
       " 'steps': [('clf', AdaBoostClassifier())],\n",
       " 'verbose': False,\n",
       " 'clf': AdaBoostClassifier(),\n",
       " 'clf__algorithm': 'SAMME.R',\n",
       " 'clf__base_estimator': None,\n",
       " 'clf__learning_rate': 1.0,\n",
       " 'clf__n_estimators': 50,\n",
       " 'clf__random_state': None}"
      ]
     },
     "execution_count": 26,
     "metadata": {},
     "output_type": "execute_result"
    }
   ],
   "source": [
    "pipe.get_params()"
   ]
  },
  {
   "cell_type": "code",
   "execution_count": 27,
   "id": "d28d87f0",
   "metadata": {},
   "outputs": [],
   "source": [
    "import numpy as np"
   ]
  },
  {
   "cell_type": "code",
   "execution_count": 31,
   "id": "8a4abf24",
   "metadata": {},
   "outputs": [],
   "source": [
    "lr = np.linspace(0,1,15)"
   ]
  },
  {
   "cell_type": "code",
   "execution_count": 54,
   "id": "46366675",
   "metadata": {},
   "outputs": [],
   "source": [
    "params = {'learning_rate': lr}"
   ]
  },
  {
   "cell_type": "code",
   "execution_count": 55,
   "id": "21835977",
   "metadata": {},
   "outputs": [],
   "source": [
    "search = GridSearchCV(estimator = clf, param_grid = params, cv = 5, refit = True)"
   ]
  },
  {
   "cell_type": "code",
   "execution_count": 56,
   "id": "26501a27",
   "metadata": {},
   "outputs": [
    {
     "name": "stderr",
     "output_type": "stream",
     "text": [
      "/home/mikey/anaconda3/lib/python3.8/site-packages/sklearn/model_selection/_validation.py:610: FitFailedWarning: Estimator fit failed. The score on this train-test partition for these parameters will be set to nan. Details: \n",
      "Traceback (most recent call last):\n",
      "  File \"/home/mikey/anaconda3/lib/python3.8/site-packages/sklearn/model_selection/_validation.py\", line 593, in _fit_and_score\n",
      "    estimator.fit(X_train, y_train, **fit_params)\n",
      "  File \"/home/mikey/anaconda3/lib/python3.8/site-packages/sklearn/ensemble/_weight_boosting.py\", line 443, in fit\n",
      "    return super().fit(X, y, sample_weight)\n",
      "  File \"/home/mikey/anaconda3/lib/python3.8/site-packages/sklearn/ensemble/_weight_boosting.py\", line 102, in fit\n",
      "    raise ValueError(\"learning_rate must be greater than zero\")\n",
      "ValueError: learning_rate must be greater than zero\n",
      "\n",
      "  warnings.warn(\"Estimator fit failed. The score on this train-test\"\n",
      "/home/mikey/anaconda3/lib/python3.8/site-packages/sklearn/model_selection/_validation.py:610: FitFailedWarning: Estimator fit failed. The score on this train-test partition for these parameters will be set to nan. Details: \n",
      "Traceback (most recent call last):\n",
      "  File \"/home/mikey/anaconda3/lib/python3.8/site-packages/sklearn/model_selection/_validation.py\", line 593, in _fit_and_score\n",
      "    estimator.fit(X_train, y_train, **fit_params)\n",
      "  File \"/home/mikey/anaconda3/lib/python3.8/site-packages/sklearn/ensemble/_weight_boosting.py\", line 443, in fit\n",
      "    return super().fit(X, y, sample_weight)\n",
      "  File \"/home/mikey/anaconda3/lib/python3.8/site-packages/sklearn/ensemble/_weight_boosting.py\", line 102, in fit\n",
      "    raise ValueError(\"learning_rate must be greater than zero\")\n",
      "ValueError: learning_rate must be greater than zero\n",
      "\n",
      "  warnings.warn(\"Estimator fit failed. The score on this train-test\"\n",
      "/home/mikey/anaconda3/lib/python3.8/site-packages/sklearn/model_selection/_validation.py:610: FitFailedWarning: Estimator fit failed. The score on this train-test partition for these parameters will be set to nan. Details: \n",
      "Traceback (most recent call last):\n",
      "  File \"/home/mikey/anaconda3/lib/python3.8/site-packages/sklearn/model_selection/_validation.py\", line 593, in _fit_and_score\n",
      "    estimator.fit(X_train, y_train, **fit_params)\n",
      "  File \"/home/mikey/anaconda3/lib/python3.8/site-packages/sklearn/ensemble/_weight_boosting.py\", line 443, in fit\n",
      "    return super().fit(X, y, sample_weight)\n",
      "  File \"/home/mikey/anaconda3/lib/python3.8/site-packages/sklearn/ensemble/_weight_boosting.py\", line 102, in fit\n",
      "    raise ValueError(\"learning_rate must be greater than zero\")\n",
      "ValueError: learning_rate must be greater than zero\n",
      "\n",
      "  warnings.warn(\"Estimator fit failed. The score on this train-test\"\n",
      "/home/mikey/anaconda3/lib/python3.8/site-packages/sklearn/model_selection/_validation.py:610: FitFailedWarning: Estimator fit failed. The score on this train-test partition for these parameters will be set to nan. Details: \n",
      "Traceback (most recent call last):\n",
      "  File \"/home/mikey/anaconda3/lib/python3.8/site-packages/sklearn/model_selection/_validation.py\", line 593, in _fit_and_score\n",
      "    estimator.fit(X_train, y_train, **fit_params)\n",
      "  File \"/home/mikey/anaconda3/lib/python3.8/site-packages/sklearn/ensemble/_weight_boosting.py\", line 443, in fit\n",
      "    return super().fit(X, y, sample_weight)\n",
      "  File \"/home/mikey/anaconda3/lib/python3.8/site-packages/sklearn/ensemble/_weight_boosting.py\", line 102, in fit\n",
      "    raise ValueError(\"learning_rate must be greater than zero\")\n",
      "ValueError: learning_rate must be greater than zero\n",
      "\n",
      "  warnings.warn(\"Estimator fit failed. The score on this train-test\"\n",
      "/home/mikey/anaconda3/lib/python3.8/site-packages/sklearn/model_selection/_validation.py:610: FitFailedWarning: Estimator fit failed. The score on this train-test partition for these parameters will be set to nan. Details: \n",
      "Traceback (most recent call last):\n",
      "  File \"/home/mikey/anaconda3/lib/python3.8/site-packages/sklearn/model_selection/_validation.py\", line 593, in _fit_and_score\n",
      "    estimator.fit(X_train, y_train, **fit_params)\n",
      "  File \"/home/mikey/anaconda3/lib/python3.8/site-packages/sklearn/ensemble/_weight_boosting.py\", line 443, in fit\n",
      "    return super().fit(X, y, sample_weight)\n",
      "  File \"/home/mikey/anaconda3/lib/python3.8/site-packages/sklearn/ensemble/_weight_boosting.py\", line 102, in fit\n",
      "    raise ValueError(\"learning_rate must be greater than zero\")\n",
      "ValueError: learning_rate must be greater than zero\n",
      "\n",
      "  warnings.warn(\"Estimator fit failed. The score on this train-test\"\n",
      "/home/mikey/anaconda3/lib/python3.8/site-packages/sklearn/model_selection/_search.py:918: UserWarning: One or more of the test scores are non-finite: [       nan 0.91666667 0.91666667 0.91666667 0.91666667 0.91666667\n",
      " 0.91666667 0.91666667 0.91666667 0.91666667 0.91666667 0.91666667\n",
      " 0.91666667 0.925      0.93333333]\n",
      "  warnings.warn(\n"
     ]
    },
    {
     "data": {
      "text/plain": [
       "GridSearchCV(cv=5,\n",
       "             estimator=AdaBoostClassifier(n_estimators=100, random_state=1),\n",
       "             param_grid={'learning_rate': array([0.        , 0.07142857, 0.14285714, 0.21428571, 0.28571429,\n",
       "       0.35714286, 0.42857143, 0.5       , 0.57142857, 0.64285714,\n",
       "       0.71428571, 0.78571429, 0.85714286, 0.92857143, 1.        ])})"
      ]
     },
     "execution_count": 56,
     "metadata": {},
     "output_type": "execute_result"
    }
   ],
   "source": [
    "search.fit(x_train, y_train)"
   ]
  },
  {
   "cell_type": "code",
   "execution_count": 59,
   "id": "d5dd59e4",
   "metadata": {},
   "outputs": [],
   "source": [
    "import pandas as pd"
   ]
  },
  {
   "cell_type": "code",
   "execution_count": 60,
   "id": "08acf252",
   "metadata": {},
   "outputs": [
    {
     "data": {
      "text/html": [
       "<div>\n",
       "<style scoped>\n",
       "    .dataframe tbody tr th:only-of-type {\n",
       "        vertical-align: middle;\n",
       "    }\n",
       "\n",
       "    .dataframe tbody tr th {\n",
       "        vertical-align: top;\n",
       "    }\n",
       "\n",
       "    .dataframe thead th {\n",
       "        text-align: right;\n",
       "    }\n",
       "</style>\n",
       "<table border=\"1\" class=\"dataframe\">\n",
       "  <thead>\n",
       "    <tr style=\"text-align: right;\">\n",
       "      <th></th>\n",
       "      <th>mean_fit_time</th>\n",
       "      <th>std_fit_time</th>\n",
       "      <th>mean_score_time</th>\n",
       "      <th>std_score_time</th>\n",
       "      <th>param_learning_rate</th>\n",
       "      <th>params</th>\n",
       "      <th>split0_test_score</th>\n",
       "      <th>split1_test_score</th>\n",
       "      <th>split2_test_score</th>\n",
       "      <th>split3_test_score</th>\n",
       "      <th>split4_test_score</th>\n",
       "      <th>mean_test_score</th>\n",
       "      <th>std_test_score</th>\n",
       "      <th>rank_test_score</th>\n",
       "    </tr>\n",
       "  </thead>\n",
       "  <tbody>\n",
       "    <tr>\n",
       "      <th>0</th>\n",
       "      <td>0.000472</td>\n",
       "      <td>0.000093</td>\n",
       "      <td>0.000000</td>\n",
       "      <td>0.000000</td>\n",
       "      <td>0.0</td>\n",
       "      <td>{'learning_rate': 0.0}</td>\n",
       "      <td>NaN</td>\n",
       "      <td>NaN</td>\n",
       "      <td>NaN</td>\n",
       "      <td>NaN</td>\n",
       "      <td>NaN</td>\n",
       "      <td>NaN</td>\n",
       "      <td>NaN</td>\n",
       "      <td>15</td>\n",
       "    </tr>\n",
       "    <tr>\n",
       "      <th>1</th>\n",
       "      <td>0.156362</td>\n",
       "      <td>0.007395</td>\n",
       "      <td>0.018989</td>\n",
       "      <td>0.000486</td>\n",
       "      <td>0.071429</td>\n",
       "      <td>{'learning_rate': 0.07142857142857142}</td>\n",
       "      <td>0.875000</td>\n",
       "      <td>0.875</td>\n",
       "      <td>1.0</td>\n",
       "      <td>0.916667</td>\n",
       "      <td>0.916667</td>\n",
       "      <td>0.916667</td>\n",
       "      <td>0.045644</td>\n",
       "      <td>3</td>\n",
       "    </tr>\n",
       "    <tr>\n",
       "      <th>2</th>\n",
       "      <td>0.152755</td>\n",
       "      <td>0.005576</td>\n",
       "      <td>0.019426</td>\n",
       "      <td>0.000565</td>\n",
       "      <td>0.142857</td>\n",
       "      <td>{'learning_rate': 0.14285714285714285}</td>\n",
       "      <td>0.875000</td>\n",
       "      <td>0.875</td>\n",
       "      <td>1.0</td>\n",
       "      <td>0.916667</td>\n",
       "      <td>0.916667</td>\n",
       "      <td>0.916667</td>\n",
       "      <td>0.045644</td>\n",
       "      <td>3</td>\n",
       "    </tr>\n",
       "    <tr>\n",
       "      <th>3</th>\n",
       "      <td>0.167198</td>\n",
       "      <td>0.012864</td>\n",
       "      <td>0.021603</td>\n",
       "      <td>0.002623</td>\n",
       "      <td>0.214286</td>\n",
       "      <td>{'learning_rate': 0.21428571428571427}</td>\n",
       "      <td>0.875000</td>\n",
       "      <td>0.875</td>\n",
       "      <td>1.0</td>\n",
       "      <td>0.916667</td>\n",
       "      <td>0.916667</td>\n",
       "      <td>0.916667</td>\n",
       "      <td>0.045644</td>\n",
       "      <td>3</td>\n",
       "    </tr>\n",
       "    <tr>\n",
       "      <th>4</th>\n",
       "      <td>0.164464</td>\n",
       "      <td>0.014062</td>\n",
       "      <td>0.020177</td>\n",
       "      <td>0.001112</td>\n",
       "      <td>0.285714</td>\n",
       "      <td>{'learning_rate': 0.2857142857142857}</td>\n",
       "      <td>0.875000</td>\n",
       "      <td>0.875</td>\n",
       "      <td>1.0</td>\n",
       "      <td>0.916667</td>\n",
       "      <td>0.916667</td>\n",
       "      <td>0.916667</td>\n",
       "      <td>0.045644</td>\n",
       "      <td>3</td>\n",
       "    </tr>\n",
       "    <tr>\n",
       "      <th>5</th>\n",
       "      <td>0.150250</td>\n",
       "      <td>0.005500</td>\n",
       "      <td>0.018796</td>\n",
       "      <td>0.000640</td>\n",
       "      <td>0.357143</td>\n",
       "      <td>{'learning_rate': 0.3571428571428571}</td>\n",
       "      <td>0.875000</td>\n",
       "      <td>0.875</td>\n",
       "      <td>1.0</td>\n",
       "      <td>0.916667</td>\n",
       "      <td>0.916667</td>\n",
       "      <td>0.916667</td>\n",
       "      <td>0.045644</td>\n",
       "      <td>3</td>\n",
       "    </tr>\n",
       "    <tr>\n",
       "      <th>6</th>\n",
       "      <td>0.169212</td>\n",
       "      <td>0.007852</td>\n",
       "      <td>0.020181</td>\n",
       "      <td>0.000839</td>\n",
       "      <td>0.428571</td>\n",
       "      <td>{'learning_rate': 0.42857142857142855}</td>\n",
       "      <td>0.875000</td>\n",
       "      <td>0.875</td>\n",
       "      <td>1.0</td>\n",
       "      <td>0.916667</td>\n",
       "      <td>0.916667</td>\n",
       "      <td>0.916667</td>\n",
       "      <td>0.045644</td>\n",
       "      <td>3</td>\n",
       "    </tr>\n",
       "    <tr>\n",
       "      <th>7</th>\n",
       "      <td>0.157454</td>\n",
       "      <td>0.010021</td>\n",
       "      <td>0.019291</td>\n",
       "      <td>0.001206</td>\n",
       "      <td>0.5</td>\n",
       "      <td>{'learning_rate': 0.5}</td>\n",
       "      <td>0.875000</td>\n",
       "      <td>0.875</td>\n",
       "      <td>1.0</td>\n",
       "      <td>0.916667</td>\n",
       "      <td>0.916667</td>\n",
       "      <td>0.916667</td>\n",
       "      <td>0.045644</td>\n",
       "      <td>3</td>\n",
       "    </tr>\n",
       "    <tr>\n",
       "      <th>8</th>\n",
       "      <td>0.150567</td>\n",
       "      <td>0.005184</td>\n",
       "      <td>0.019405</td>\n",
       "      <td>0.001189</td>\n",
       "      <td>0.571429</td>\n",
       "      <td>{'learning_rate': 0.5714285714285714}</td>\n",
       "      <td>0.875000</td>\n",
       "      <td>0.875</td>\n",
       "      <td>1.0</td>\n",
       "      <td>0.916667</td>\n",
       "      <td>0.916667</td>\n",
       "      <td>0.916667</td>\n",
       "      <td>0.045644</td>\n",
       "      <td>3</td>\n",
       "    </tr>\n",
       "    <tr>\n",
       "      <th>9</th>\n",
       "      <td>0.150165</td>\n",
       "      <td>0.003793</td>\n",
       "      <td>0.019563</td>\n",
       "      <td>0.000632</td>\n",
       "      <td>0.642857</td>\n",
       "      <td>{'learning_rate': 0.6428571428571428}</td>\n",
       "      <td>0.875000</td>\n",
       "      <td>0.875</td>\n",
       "      <td>1.0</td>\n",
       "      <td>0.916667</td>\n",
       "      <td>0.916667</td>\n",
       "      <td>0.916667</td>\n",
       "      <td>0.045644</td>\n",
       "      <td>3</td>\n",
       "    </tr>\n",
       "    <tr>\n",
       "      <th>10</th>\n",
       "      <td>0.149222</td>\n",
       "      <td>0.004329</td>\n",
       "      <td>0.018900</td>\n",
       "      <td>0.000327</td>\n",
       "      <td>0.714286</td>\n",
       "      <td>{'learning_rate': 0.7142857142857142}</td>\n",
       "      <td>0.875000</td>\n",
       "      <td>0.875</td>\n",
       "      <td>1.0</td>\n",
       "      <td>0.916667</td>\n",
       "      <td>0.916667</td>\n",
       "      <td>0.916667</td>\n",
       "      <td>0.045644</td>\n",
       "      <td>3</td>\n",
       "    </tr>\n",
       "    <tr>\n",
       "      <th>11</th>\n",
       "      <td>0.155097</td>\n",
       "      <td>0.012864</td>\n",
       "      <td>0.018984</td>\n",
       "      <td>0.000833</td>\n",
       "      <td>0.785714</td>\n",
       "      <td>{'learning_rate': 0.7857142857142857}</td>\n",
       "      <td>0.875000</td>\n",
       "      <td>0.875</td>\n",
       "      <td>1.0</td>\n",
       "      <td>0.916667</td>\n",
       "      <td>0.916667</td>\n",
       "      <td>0.916667</td>\n",
       "      <td>0.045644</td>\n",
       "      <td>3</td>\n",
       "    </tr>\n",
       "    <tr>\n",
       "      <th>12</th>\n",
       "      <td>0.153338</td>\n",
       "      <td>0.011030</td>\n",
       "      <td>0.018674</td>\n",
       "      <td>0.000524</td>\n",
       "      <td>0.857143</td>\n",
       "      <td>{'learning_rate': 0.8571428571428571}</td>\n",
       "      <td>0.875000</td>\n",
       "      <td>0.875</td>\n",
       "      <td>1.0</td>\n",
       "      <td>0.916667</td>\n",
       "      <td>0.916667</td>\n",
       "      <td>0.916667</td>\n",
       "      <td>0.045644</td>\n",
       "      <td>3</td>\n",
       "    </tr>\n",
       "    <tr>\n",
       "      <th>13</th>\n",
       "      <td>0.143699</td>\n",
       "      <td>0.000348</td>\n",
       "      <td>0.018420</td>\n",
       "      <td>0.000211</td>\n",
       "      <td>0.928571</td>\n",
       "      <td>{'learning_rate': 0.9285714285714285}</td>\n",
       "      <td>0.875000</td>\n",
       "      <td>0.875</td>\n",
       "      <td>1.0</td>\n",
       "      <td>0.958333</td>\n",
       "      <td>0.916667</td>\n",
       "      <td>0.925000</td>\n",
       "      <td>0.048591</td>\n",
       "      <td>2</td>\n",
       "    </tr>\n",
       "    <tr>\n",
       "      <th>14</th>\n",
       "      <td>0.148952</td>\n",
       "      <td>0.007360</td>\n",
       "      <td>0.018297</td>\n",
       "      <td>0.000236</td>\n",
       "      <td>1.0</td>\n",
       "      <td>{'learning_rate': 1.0}</td>\n",
       "      <td>0.916667</td>\n",
       "      <td>0.875</td>\n",
       "      <td>1.0</td>\n",
       "      <td>0.958333</td>\n",
       "      <td>0.916667</td>\n",
       "      <td>0.933333</td>\n",
       "      <td>0.042492</td>\n",
       "      <td>1</td>\n",
       "    </tr>\n",
       "  </tbody>\n",
       "</table>\n",
       "</div>"
      ],
      "text/plain": [
       "    mean_fit_time  std_fit_time  mean_score_time  std_score_time  \\\n",
       "0        0.000472      0.000093         0.000000        0.000000   \n",
       "1        0.156362      0.007395         0.018989        0.000486   \n",
       "2        0.152755      0.005576         0.019426        0.000565   \n",
       "3        0.167198      0.012864         0.021603        0.002623   \n",
       "4        0.164464      0.014062         0.020177        0.001112   \n",
       "5        0.150250      0.005500         0.018796        0.000640   \n",
       "6        0.169212      0.007852         0.020181        0.000839   \n",
       "7        0.157454      0.010021         0.019291        0.001206   \n",
       "8        0.150567      0.005184         0.019405        0.001189   \n",
       "9        0.150165      0.003793         0.019563        0.000632   \n",
       "10       0.149222      0.004329         0.018900        0.000327   \n",
       "11       0.155097      0.012864         0.018984        0.000833   \n",
       "12       0.153338      0.011030         0.018674        0.000524   \n",
       "13       0.143699      0.000348         0.018420        0.000211   \n",
       "14       0.148952      0.007360         0.018297        0.000236   \n",
       "\n",
       "   param_learning_rate                                  params  \\\n",
       "0                  0.0                  {'learning_rate': 0.0}   \n",
       "1             0.071429  {'learning_rate': 0.07142857142857142}   \n",
       "2             0.142857  {'learning_rate': 0.14285714285714285}   \n",
       "3             0.214286  {'learning_rate': 0.21428571428571427}   \n",
       "4             0.285714   {'learning_rate': 0.2857142857142857}   \n",
       "5             0.357143   {'learning_rate': 0.3571428571428571}   \n",
       "6             0.428571  {'learning_rate': 0.42857142857142855}   \n",
       "7                  0.5                  {'learning_rate': 0.5}   \n",
       "8             0.571429   {'learning_rate': 0.5714285714285714}   \n",
       "9             0.642857   {'learning_rate': 0.6428571428571428}   \n",
       "10            0.714286   {'learning_rate': 0.7142857142857142}   \n",
       "11            0.785714   {'learning_rate': 0.7857142857142857}   \n",
       "12            0.857143   {'learning_rate': 0.8571428571428571}   \n",
       "13            0.928571   {'learning_rate': 0.9285714285714285}   \n",
       "14                 1.0                  {'learning_rate': 1.0}   \n",
       "\n",
       "    split0_test_score  split1_test_score  split2_test_score  \\\n",
       "0                 NaN                NaN                NaN   \n",
       "1            0.875000              0.875                1.0   \n",
       "2            0.875000              0.875                1.0   \n",
       "3            0.875000              0.875                1.0   \n",
       "4            0.875000              0.875                1.0   \n",
       "5            0.875000              0.875                1.0   \n",
       "6            0.875000              0.875                1.0   \n",
       "7            0.875000              0.875                1.0   \n",
       "8            0.875000              0.875                1.0   \n",
       "9            0.875000              0.875                1.0   \n",
       "10           0.875000              0.875                1.0   \n",
       "11           0.875000              0.875                1.0   \n",
       "12           0.875000              0.875                1.0   \n",
       "13           0.875000              0.875                1.0   \n",
       "14           0.916667              0.875                1.0   \n",
       "\n",
       "    split3_test_score  split4_test_score  mean_test_score  std_test_score  \\\n",
       "0                 NaN                NaN              NaN             NaN   \n",
       "1            0.916667           0.916667         0.916667        0.045644   \n",
       "2            0.916667           0.916667         0.916667        0.045644   \n",
       "3            0.916667           0.916667         0.916667        0.045644   \n",
       "4            0.916667           0.916667         0.916667        0.045644   \n",
       "5            0.916667           0.916667         0.916667        0.045644   \n",
       "6            0.916667           0.916667         0.916667        0.045644   \n",
       "7            0.916667           0.916667         0.916667        0.045644   \n",
       "8            0.916667           0.916667         0.916667        0.045644   \n",
       "9            0.916667           0.916667         0.916667        0.045644   \n",
       "10           0.916667           0.916667         0.916667        0.045644   \n",
       "11           0.916667           0.916667         0.916667        0.045644   \n",
       "12           0.916667           0.916667         0.916667        0.045644   \n",
       "13           0.958333           0.916667         0.925000        0.048591   \n",
       "14           0.958333           0.916667         0.933333        0.042492   \n",
       "\n",
       "    rank_test_score  \n",
       "0                15  \n",
       "1                 3  \n",
       "2                 3  \n",
       "3                 3  \n",
       "4                 3  \n",
       "5                 3  \n",
       "6                 3  \n",
       "7                 3  \n",
       "8                 3  \n",
       "9                 3  \n",
       "10                3  \n",
       "11                3  \n",
       "12                3  \n",
       "13                2  \n",
       "14                1  "
      ]
     },
     "execution_count": 60,
     "metadata": {},
     "output_type": "execute_result"
    }
   ],
   "source": [
    "pd.DataFrame(search.cv_results_)"
   ]
  },
  {
   "cell_type": "code",
   "execution_count": 42,
   "id": "640f3e00",
   "metadata": {},
   "outputs": [
    {
     "data": {
      "text/plain": [
       "dict_keys(['algorithm', 'base_estimator', 'learning_rate', 'n_estimators', 'random_state'])"
      ]
     },
     "execution_count": 42,
     "metadata": {},
     "output_type": "execute_result"
    }
   ],
   "source": [
    "clf.get_params().keys()"
   ]
  },
  {
   "cell_type": "code",
   "execution_count": 61,
   "id": "be390886",
   "metadata": {},
   "outputs": [
    {
     "data": {
      "text/plain": [
       "array([2, 1, 0, 2, 0, 2, 0, 1, 1, 1, 1, 1, 1, 1, 1, 0, 1, 1, 0, 0, 1, 1,\n",
       "       0, 0, 1, 0, 0, 1, 1, 0])"
      ]
     },
     "execution_count": 61,
     "metadata": {},
     "output_type": "execute_result"
    }
   ],
   "source": [
    "search.predict(x_test)"
   ]
  },
  {
   "cell_type": "code",
   "execution_count": 64,
   "id": "06bf5b03",
   "metadata": {},
   "outputs": [
    {
     "data": {
      "text/plain": [
       "0.9"
      ]
     },
     "execution_count": 64,
     "metadata": {},
     "output_type": "execute_result"
    }
   ],
   "source": [
    "accuracy_score(preds, y_test)"
   ]
  },
  {
   "cell_type": "code",
   "execution_count": 67,
   "id": "06b254c2",
   "metadata": {},
   "outputs": [
    {
     "data": {
      "text/plain": [
       "0.9583333333333334"
      ]
     },
     "execution_count": 67,
     "metadata": {},
     "output_type": "execute_result"
    }
   ],
   "source": [
    "t = search.predict(x_train)\n",
    "\n",
    "accuracy_score(t, y_train)"
   ]
  },
  {
   "cell_type": "code",
   "execution_count": 74,
   "id": "178d615e",
   "metadata": {},
   "outputs": [
    {
     "data": {
      "text/plain": [
       "GradientBoostingClassifier()"
      ]
     },
     "execution_count": 74,
     "metadata": {},
     "output_type": "execute_result"
    }
   ],
   "source": [
    "clf2 = GradientBoostingClassifier(n_estimators = 100)\n",
    "\n",
    "clf2.fit(x_train, y_train)"
   ]
  },
  {
   "cell_type": "code",
   "execution_count": 75,
   "id": "7bf9e4fe",
   "metadata": {},
   "outputs": [],
   "source": [
    "preds = clf2.predict(x_test)"
   ]
  },
  {
   "cell_type": "code",
   "execution_count": 76,
   "id": "d92f4f93",
   "metadata": {},
   "outputs": [
    {
     "data": {
      "text/plain": [
       "1.0"
      ]
     },
     "execution_count": 76,
     "metadata": {},
     "output_type": "execute_result"
    }
   ],
   "source": [
    "accuracy_score(y_test, preds)"
   ]
  },
  {
   "cell_type": "code",
   "execution_count": 77,
   "id": "04cd7ee6",
   "metadata": {},
   "outputs": [],
   "source": [
    "x_pred = clf2.predict(x_train)"
   ]
  },
  {
   "cell_type": "code",
   "execution_count": 78,
   "id": "055a8a25",
   "metadata": {},
   "outputs": [
    {
     "data": {
      "text/plain": [
       "1.0"
      ]
     },
     "execution_count": 78,
     "metadata": {},
     "output_type": "execute_result"
    }
   ],
   "source": [
    "accuracy_score(y_train, x_pred)"
   ]
  },
  {
   "cell_type": "code",
   "execution_count": 79,
   "id": "fc6f016a",
   "metadata": {},
   "outputs": [],
   "source": [
    "from sklearn import metrics"
   ]
  },
  {
   "cell_type": "code",
   "execution_count": 82,
   "id": "cd715e40",
   "metadata": {},
   "outputs": [
    {
     "name": "stdout",
     "output_type": "stream",
     "text": [
      "              precision    recall  f1-score   support\n",
      "\n",
      "           0       1.00      1.00      1.00        11\n",
      "           1       1.00      1.00      1.00        13\n",
      "           2       1.00      1.00      1.00         6\n",
      "\n",
      "    accuracy                           1.00        30\n",
      "   macro avg       1.00      1.00      1.00        30\n",
      "weighted avg       1.00      1.00      1.00        30\n",
      "\n"
     ]
    }
   ],
   "source": [
    "print(metrics.classification_report(y_test, preds))"
   ]
  },
  {
   "cell_type": "code",
   "execution_count": 85,
   "id": "9569d9b7",
   "metadata": {},
   "outputs": [
    {
     "name": "stdout",
     "output_type": "stream",
     "text": [
      "              precision    recall  f1-score   support\n",
      "\n",
      "           0       1.00      1.00      1.00        39\n",
      "           1       1.00      1.00      1.00        37\n",
      "           2       1.00      1.00      1.00        44\n",
      "\n",
      "    accuracy                           1.00       120\n",
      "   macro avg       1.00      1.00      1.00       120\n",
      "weighted avg       1.00      1.00      1.00       120\n",
      "\n"
     ]
    }
   ],
   "source": [
    "print(metrics.classification_report(x_pred, y_train))"
   ]
  },
  {
   "cell_type": "code",
   "execution_count": null,
   "id": "b4347c1f",
   "metadata": {},
   "outputs": [],
   "source": []
  }
 ],
 "metadata": {
  "kernelspec": {
   "display_name": "Python 3",
   "language": "python",
   "name": "python3"
  },
  "language_info": {
   "codemirror_mode": {
    "name": "ipython",
    "version": 3
   },
   "file_extension": ".py",
   "mimetype": "text/x-python",
   "name": "python",
   "nbconvert_exporter": "python",
   "pygments_lexer": "ipython3",
   "version": "3.8.8"
  }
 },
 "nbformat": 4,
 "nbformat_minor": 5
}
