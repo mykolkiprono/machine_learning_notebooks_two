{
 "cells": [
  {
   "cell_type": "code",
   "execution_count": 2,
   "id": "47d5da1c",
   "metadata": {},
   "outputs": [],
   "source": [
    "import os\n",
    "import numpy as np\n",
    "import matplotlib.pyplot as plt\n",
    "\n",
    "import tensorflow as tf\n",
    "import keras\n",
    "from keras import Sequential\n",
    "from keras.layers import Dense, MaxPooling2D, Activation, Conv2D, Flatten\n",
    "from tensorflow.keras.optimizers import Adam"
   ]
  },
  {
   "cell_type": "code",
   "execution_count": 1,
   "id": "2e4dff7e",
   "metadata": {},
   "outputs": [],
   "source": [
    "batch_size = 32\n",
    "img_height = 200\n",
    "img_width = 150"
   ]
  },
  {
   "cell_type": "code",
   "execution_count": 3,
   "id": "b9232285",
   "metadata": {},
   "outputs": [
    {
     "name": "stdout",
     "output_type": "stream",
     "text": [
      "Found 8000 files belonging to 2 classes.\n",
      "Using 7200 files for training.\n"
     ]
    }
   ],
   "source": [
    "train_data = keras.preprocessing.image_dataset_from_directory(\n",
    "    \"/home/mikey/Downloads/image_dataset/dataset/training_set\",\n",
    "    labels = 'inferred',\n",
    "    label_mode = 'binary',\n",
    "    color_mode = 'rgb',\n",
    "    class_names = ['cats', 'dogs'],\n",
    "    image_size = (img_height, img_width),\n",
    "    batch_size = batch_size,\n",
    "    shuffle = True,\n",
    "    validation_split = 0.1,\n",
    "    seed = 0,\n",
    "    subset = 'training'\n",
    ")"
   ]
  },
  {
   "cell_type": "code",
   "execution_count": 4,
   "id": "ae3d4d70",
   "metadata": {},
   "outputs": [
    {
     "name": "stdout",
     "output_type": "stream",
     "text": [
      "Found 8000 files belonging to 2 classes.\n",
      "Using 800 files for validation.\n"
     ]
    }
   ],
   "source": [
    "validation_data = keras.preprocessing.image_dataset_from_directory(\n",
    "    \"/home/mikey/Downloads/image_dataset/dataset/training_set\",\n",
    "    labels = 'inferred',\n",
    "    label_mode = 'binary',\n",
    "    color_mode = 'rgb',\n",
    "    class_names = ['cats', 'dogs'],\n",
    "    image_size = (img_height, img_width),\n",
    "    batch_size = batch_size,\n",
    "    shuffle = True,\n",
    "    validation_split = 0.1,\n",
    "    seed = 0,\n",
    "    subset = 'validation'\n",
    ")"
   ]
  },
  {
   "cell_type": "code",
   "execution_count": 5,
   "id": "f21d1f41",
   "metadata": {},
   "outputs": [
    {
     "data": {
      "text/plain": [
       "['cats', 'dogs']"
      ]
     },
     "execution_count": 5,
     "metadata": {},
     "output_type": "execute_result"
    }
   ],
   "source": [
    "train_data.class_names"
   ]
  },
  {
   "cell_type": "code",
   "execution_count": 6,
   "id": "6244bbcc",
   "metadata": {},
   "outputs": [],
   "source": [
    "batch = next(iter(train_data))"
   ]
  },
  {
   "cell_type": "code",
   "execution_count": 7,
   "id": "5d850269",
   "metadata": {},
   "outputs": [],
   "source": [
    "model = Sequential([\n",
    "      Conv2D(filters = 32,kernel_size = (3,3),activation = 'relu',padding = 'same',input_shape = (200,150,3)),\n",
    "      MaxPooling2D(pool_size = (2,2),strides = 2),\n",
    "      Conv2D(filters = 64,kernel_size = (3,3),activation = 'relu',padding = 'same'),\n",
    "      Flatten(),\n",
    "      Dense(units = 2,activation = 'relu')\n",
    "])"
   ]
  },
  {
   "cell_type": "code",
   "execution_count": 8,
   "id": "95b2b822",
   "metadata": {},
   "outputs": [
    {
     "name": "stdout",
     "output_type": "stream",
     "text": [
      "Model: \"sequential\"\n",
      "_________________________________________________________________\n",
      "Layer (type)                 Output Shape              Param #   \n",
      "=================================================================\n",
      "conv2d (Conv2D)              (None, 200, 150, 32)      896       \n",
      "_________________________________________________________________\n",
      "max_pooling2d (MaxPooling2D) (None, 100, 75, 32)       0         \n",
      "_________________________________________________________________\n",
      "conv2d_1 (Conv2D)            (None, 100, 75, 64)       18496     \n",
      "_________________________________________________________________\n",
      "flatten (Flatten)            (None, 480000)            0         \n",
      "_________________________________________________________________\n",
      "dense (Dense)                (None, 2)                 960002    \n",
      "=================================================================\n",
      "Total params: 979,394\n",
      "Trainable params: 979,394\n",
      "Non-trainable params: 0\n",
      "_________________________________________________________________\n"
     ]
    }
   ],
   "source": [
    "model.summary()"
   ]
  },
  {
   "cell_type": "code",
   "execution_count": 11,
   "id": "ab513772",
   "metadata": {},
   "outputs": [],
   "source": [
    "model.compile(optimizer = Adam(learning_rate = 0.001),loss = 'binary_crossentropy',metrics = ['accuracy'])"
   ]
  },
  {
   "cell_type": "code",
   "execution_count": null,
   "id": "dbce2c20",
   "metadata": {},
   "outputs": [
    {
     "name": "stdout",
     "output_type": "stream",
     "text": [
      "Epoch 1/5\n",
      "225/225 - 494s - loss: 7.6998 - accuracy: 0.5006 - val_loss: 7.8282 - val_accuracy: 0.4925\n",
      "Epoch 2/5\n"
     ]
    }
   ],
   "source": [
    "model.fit(x = train_data,validation_data = validation_data,epochs = 5,verbose = 2)"
   ]
  },
  {
   "cell_type": "code",
   "execution_count": null,
   "id": "2a2e9afc",
   "metadata": {},
   "outputs": [],
   "source": []
  }
 ],
 "metadata": {
  "kernelspec": {
   "display_name": "Python 3",
   "language": "python",
   "name": "python3"
  },
  "language_info": {
   "codemirror_mode": {
    "name": "ipython",
    "version": 3
   },
   "file_extension": ".py",
   "mimetype": "text/x-python",
   "name": "python",
   "nbconvert_exporter": "python",
   "pygments_lexer": "ipython3",
   "version": "3.7.10"
  }
 },
 "nbformat": 4,
 "nbformat_minor": 5
}
