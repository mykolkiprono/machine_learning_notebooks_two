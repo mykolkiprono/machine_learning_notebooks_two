{
 "cells": [
  {
   "cell_type": "code",
   "execution_count": 1,
   "id": "fd1e2583",
   "metadata": {},
   "outputs": [],
   "source": [
    "import tensorflow as tf\n",
    "import numpy as np\n",
    "from tensorflow.keras.models import Sequential\n",
    "from tensorflow.keras.layers import Dense, Embedding, Flatten\n",
    "from tensorflow.keras.preprocessing.text import one_hot\n",
    "from tensorflow.keras.preprocessing.sequence import pad_sequences"
   ]
  },
  {
   "cell_type": "code",
   "execution_count": 2,
   "id": "bbe9a495",
   "metadata": {},
   "outputs": [],
   "source": [
    "reviews = [\"nice food\",\n",
    "          \"amazing restaurant\",\n",
    "           \"too good\",\n",
    "          \"Just loved it\",\n",
    "          \"will go again\",\n",
    "           \"horrible food\",\n",
    "          \"never go there\",\n",
    "          \"poor services\",\n",
    "           \"poor quality\",\n",
    "          \"needs improvement\"]\n",
    "\n",
    "sentiment = np.array([1,1,1,1,1,0,0,0,0,0])"
   ]
  },
  {
   "cell_type": "code",
   "execution_count": 3,
   "id": "639ce5c1",
   "metadata": {},
   "outputs": [
    {
     "name": "stdout",
     "output_type": "stream",
     "text": [
      "nice food\n",
      "amazing restaurant\n",
      "too good\n",
      "Just loved it\n",
      "will go again\n",
      "horrible food\n",
      "never go there\n",
      "poor services\n",
      "poor quality\n",
      "needs improvement\n"
     ]
    }
   ],
   "source": [
    "type(reviews)\n",
    "for i in reviews:\n",
    "    print(i)"
   ]
  },
  {
   "cell_type": "code",
   "execution_count": 4,
   "id": "c6e02a92",
   "metadata": {},
   "outputs": [],
   "source": [
    "from tensorflow.keras.preprocessing.text import Tokenizer\n",
    "# from sklearn.preprocessing import one_hot"
   ]
  },
  {
   "cell_type": "code",
   "execution_count": 5,
   "id": "673adc0c",
   "metadata": {},
   "outputs": [
    {
     "data": {
      "text/plain": [
       "[4, 3, 4]"
      ]
     },
     "execution_count": 5,
     "metadata": {},
     "output_type": "execute_result"
    }
   ],
   "source": [
    "one_hot(\"amazingrestaurbjxjdkdjdhidheidheihdiihhidhiesdbchdvchkvdhcadbkckcbkucvbcvsdyhkvhkcvdjbcbssnt bxsh uxb\", 5)"
   ]
  },
  {
   "cell_type": "code",
   "execution_count": 6,
   "id": "63146b69",
   "metadata": {},
   "outputs": [],
   "source": [
    "# dir(tf.keras.preprocessing.sequence)"
   ]
  },
  {
   "cell_type": "code",
   "execution_count": 7,
   "id": "c468bfa3",
   "metadata": {},
   "outputs": [
    {
     "data": {
      "text/plain": [
       "[[11, 6],\n",
       " [6, 29],\n",
       " [8, 9],\n",
       " [12, 1, 11],\n",
       " [22, 26, 25],\n",
       " [9, 6],\n",
       " [24, 26, 13],\n",
       " [9, 23],\n",
       " [9, 25],\n",
       " [20, 28]]"
      ]
     },
     "execution_count": 7,
     "metadata": {},
     "output_type": "execute_result"
    }
   ],
   "source": [
    "vocab_size = 30\n",
    "encoded_reviews =[one_hot(d, vocab_size) for d in reviews]\n",
    "encoded_reviews"
   ]
  },
  {
   "cell_type": "code",
   "execution_count": 8,
   "id": "6b9249bb",
   "metadata": {},
   "outputs": [
    {
     "data": {
      "text/plain": [
       "array([[11,  6,  0],\n",
       "       [ 6, 29,  0],\n",
       "       [ 8,  9,  0],\n",
       "       [12,  1, 11],\n",
       "       [22, 26, 25],\n",
       "       [ 9,  6,  0],\n",
       "       [24, 26, 13],\n",
       "       [ 9, 23,  0],\n",
       "       [ 9, 25,  0],\n",
       "       [20, 28,  0]], dtype=int32)"
      ]
     },
     "execution_count": 8,
     "metadata": {},
     "output_type": "execute_result"
    }
   ],
   "source": [
    "max_length = 3\n",
    "\n",
    "padded_reviews = pad_sequences(encoded_reviews, maxlen = max_length, padding = 'post')\n",
    "padded_reviews"
   ]
  },
  {
   "cell_type": "code",
   "execution_count": 9,
   "id": "670d356f",
   "metadata": {},
   "outputs": [],
   "source": [
    "embedded_vector_size = 4\n",
    "\n",
    "model = Sequential()\n",
    "model.add(Embedding(vocab_size, embedded_vector_size, input_length = max_length, name = \"embedding\"))\n",
    "model.add(Flatten())\n",
    "model.add(Dense(1, activation = 'sigmoid'))"
   ]
  },
  {
   "cell_type": "code",
   "execution_count": 10,
   "id": "55293e81",
   "metadata": {},
   "outputs": [],
   "source": [
    "X = padded_reviews\n",
    "y = sentiment"
   ]
  },
  {
   "cell_type": "code",
   "execution_count": 11,
   "id": "3df5192c",
   "metadata": {},
   "outputs": [
    {
     "name": "stdout",
     "output_type": "stream",
     "text": [
      "Model: \"sequential\"\n",
      "_________________________________________________________________\n",
      "Layer (type)                 Output Shape              Param #   \n",
      "=================================================================\n",
      "embedding (Embedding)        (None, 3, 4)              120       \n",
      "_________________________________________________________________\n",
      "flatten (Flatten)            (None, 12)                0         \n",
      "_________________________________________________________________\n",
      "dense (Dense)                (None, 1)                 13        \n",
      "=================================================================\n",
      "Total params: 133\n",
      "Trainable params: 133\n",
      "Non-trainable params: 0\n",
      "_________________________________________________________________\n"
     ]
    }
   ],
   "source": [
    "model.compile(optimizer = 'adam', loss = 'binary_crossentropy', metrics = ['accuracy'])\n",
    "model.summary()"
   ]
  },
  {
   "cell_type": "code",
   "execution_count": 53,
   "id": "e9aea9f9",
   "metadata": {},
   "outputs": [],
   "source": [
    "from tensorflow.keras.utils import plot_model"
   ]
  },
  {
   "cell_type": "code",
   "execution_count": 54,
   "id": "7b375d82",
   "metadata": {},
   "outputs": [
    {
     "name": "stdout",
     "output_type": "stream",
     "text": [
      "('Failed to import pydot. You must `pip install pydot` and install graphviz (https://graphviz.gitlab.io/download/), ', 'for `pydotprint` to work.')\n"
     ]
    }
   ],
   "source": [
    "plot_model(model)"
   ]
  },
  {
   "cell_type": "code",
   "execution_count": 57,
   "id": "469a01e8",
   "metadata": {},
   "outputs": [
    {
     "name": "stdout",
     "output_type": "stream",
     "text": [
      "Epoch 1/50\n",
      "1/1 - 0s - loss: 0.6969 - accuracy: 0.5000\n",
      "Epoch 2/50\n",
      "1/1 - 0s - loss: 0.6956 - accuracy: 0.6000\n",
      "Epoch 3/50\n",
      "1/1 - 0s - loss: 0.6943 - accuracy: 0.6000\n",
      "Epoch 4/50\n",
      "1/1 - 0s - loss: 0.6930 - accuracy: 0.6000\n",
      "Epoch 5/50\n",
      "1/1 - 0s - loss: 0.6917 - accuracy: 0.6000\n",
      "Epoch 6/50\n",
      "1/1 - 0s - loss: 0.6903 - accuracy: 0.6000\n",
      "Epoch 7/50\n",
      "1/1 - 0s - loss: 0.6890 - accuracy: 0.6000\n",
      "Epoch 8/50\n",
      "1/1 - 0s - loss: 0.6877 - accuracy: 0.6000\n",
      "Epoch 9/50\n",
      "1/1 - 0s - loss: 0.6864 - accuracy: 0.6000\n",
      "Epoch 10/50\n",
      "1/1 - 0s - loss: 0.6851 - accuracy: 0.6000\n",
      "Epoch 11/50\n",
      "1/1 - 0s - loss: 0.6838 - accuracy: 0.6000\n",
      "Epoch 12/50\n",
      "1/1 - 0s - loss: 0.6825 - accuracy: 0.6000\n",
      "Epoch 13/50\n",
      "1/1 - 0s - loss: 0.6812 - accuracy: 0.6000\n",
      "Epoch 14/50\n",
      "1/1 - 0s - loss: 0.6799 - accuracy: 0.6000\n",
      "Epoch 15/50\n",
      "1/1 - 0s - loss: 0.6786 - accuracy: 0.6000\n",
      "Epoch 16/50\n",
      "1/1 - 0s - loss: 0.6773 - accuracy: 0.9000\n",
      "Epoch 17/50\n",
      "1/1 - 0s - loss: 0.6760 - accuracy: 0.9000\n",
      "Epoch 18/50\n",
      "1/1 - 0s - loss: 0.6747 - accuracy: 0.9000\n",
      "Epoch 19/50\n",
      "1/1 - 0s - loss: 0.6733 - accuracy: 0.9000\n",
      "Epoch 20/50\n",
      "1/1 - 0s - loss: 0.6720 - accuracy: 0.9000\n",
      "Epoch 21/50\n",
      "1/1 - 0s - loss: 0.6707 - accuracy: 0.9000\n",
      "Epoch 22/50\n",
      "1/1 - 0s - loss: 0.6694 - accuracy: 0.9000\n",
      "Epoch 23/50\n",
      "1/1 - 0s - loss: 0.6681 - accuracy: 0.9000\n",
      "Epoch 24/50\n",
      "1/1 - 0s - loss: 0.6667 - accuracy: 0.9000\n",
      "Epoch 25/50\n",
      "1/1 - 0s - loss: 0.6654 - accuracy: 0.9000\n",
      "Epoch 26/50\n",
      "1/1 - 0s - loss: 0.6641 - accuracy: 0.9000\n",
      "Epoch 27/50\n",
      "1/1 - 0s - loss: 0.6627 - accuracy: 0.9000\n",
      "Epoch 28/50\n",
      "1/1 - 0s - loss: 0.6614 - accuracy: 0.9000\n",
      "Epoch 29/50\n",
      "1/1 - 0s - loss: 0.6600 - accuracy: 0.9000\n",
      "Epoch 30/50\n",
      "1/1 - 0s - loss: 0.6587 - accuracy: 0.9000\n",
      "Epoch 31/50\n",
      "1/1 - 0s - loss: 0.6573 - accuracy: 0.9000\n",
      "Epoch 32/50\n",
      "1/1 - 0s - loss: 0.6559 - accuracy: 0.9000\n",
      "Epoch 33/50\n",
      "1/1 - 0s - loss: 0.6546 - accuracy: 0.9000\n",
      "Epoch 34/50\n",
      "1/1 - 0s - loss: 0.6532 - accuracy: 0.9000\n",
      "Epoch 35/50\n",
      "1/1 - 0s - loss: 0.6518 - accuracy: 0.9000\n",
      "Epoch 36/50\n",
      "1/1 - 0s - loss: 0.6504 - accuracy: 0.9000\n",
      "Epoch 37/50\n",
      "1/1 - 0s - loss: 0.6490 - accuracy: 1.0000\n",
      "Epoch 38/50\n",
      "1/1 - 0s - loss: 0.6476 - accuracy: 1.0000\n",
      "Epoch 39/50\n",
      "1/1 - 0s - loss: 0.6462 - accuracy: 1.0000\n",
      "Epoch 40/50\n",
      "1/1 - 0s - loss: 0.6448 - accuracy: 1.0000\n",
      "Epoch 41/50\n",
      "1/1 - 0s - loss: 0.6433 - accuracy: 1.0000\n",
      "Epoch 42/50\n",
      "1/1 - 0s - loss: 0.6419 - accuracy: 1.0000\n",
      "Epoch 43/50\n",
      "1/1 - 0s - loss: 0.6405 - accuracy: 1.0000\n",
      "Epoch 44/50\n",
      "1/1 - 0s - loss: 0.6390 - accuracy: 1.0000\n",
      "Epoch 45/50\n",
      "1/1 - 0s - loss: 0.6376 - accuracy: 1.0000\n",
      "Epoch 46/50\n",
      "1/1 - 0s - loss: 0.6361 - accuracy: 1.0000\n",
      "Epoch 47/50\n",
      "1/1 - 0s - loss: 0.6346 - accuracy: 1.0000\n",
      "Epoch 48/50\n",
      "1/1 - 0s - loss: 0.6331 - accuracy: 1.0000\n",
      "Epoch 49/50\n",
      "1/1 - 0s - loss: 0.6316 - accuracy: 1.0000\n",
      "Epoch 50/50\n",
      "1/1 - 0s - loss: 0.6301 - accuracy: 1.0000\n"
     ]
    },
    {
     "data": {
      "text/plain": [
       "<tensorflow.python.keras.callbacks.History at 0x7f8a1154b250>"
      ]
     },
     "execution_count": 57,
     "metadata": {},
     "output_type": "execute_result"
    }
   ],
   "source": [
    "model.fit(X, y, verbose = 2, epochs = 50)"
   ]
  },
  {
   "cell_type": "code",
   "execution_count": 58,
   "id": "8d546ac6",
   "metadata": {},
   "outputs": [
    {
     "name": "stdout",
     "output_type": "stream",
     "text": [
      "1/1 [==============================] - 0s 332ms/step - loss: 0.6286 - accuracy: 1.0000\n"
     ]
    }
   ],
   "source": [
    "loss, accuracy = model.evaluate(X, y)"
   ]
  },
  {
   "cell_type": "code",
   "execution_count": 60,
   "id": "8731643a",
   "metadata": {},
   "outputs": [],
   "source": [
    "weights = model.get_layer('embedding').get_weights()[0]"
   ]
  },
  {
   "cell_type": "code",
   "execution_count": 61,
   "id": "b89952de",
   "metadata": {},
   "outputs": [
    {
     "data": {
      "text/plain": [
       "30"
      ]
     },
     "execution_count": 61,
     "metadata": {},
     "output_type": "execute_result"
    }
   ],
   "source": [
    "len(weights)"
   ]
  },
  {
   "cell_type": "code",
   "execution_count": 67,
   "id": "a8b58a6d",
   "metadata": {},
   "outputs": [
    {
     "data": {
      "text/plain": [
       "(array([0.02696124, 0.04967841, 0.0087657 , 0.04852789], dtype=float32),\n",
       " array([ 0.01712811, -0.04825655,  0.01921607, -0.01167389], dtype=float32))"
      ]
     },
     "execution_count": 67,
     "metadata": {},
     "output_type": "execute_result"
    }
   ],
   "source": [
    "weights[7], weights[8]"
   ]
  },
  {
   "cell_type": "code",
   "execution_count": 1,
   "id": "2c2d1c46",
   "metadata": {},
   "outputs": [
    {
     "ename": "ModuleNotFoundError",
     "evalue": "No module named 'ntlk'",
     "output_type": "error",
     "traceback": [
      "\u001b[0;31m---------------------------------------------------------------------------\u001b[0m",
      "\u001b[0;31mModuleNotFoundError\u001b[0m                       Traceback (most recent call last)",
      "\u001b[0;32m<ipython-input-1-58360c0dd42f>\u001b[0m in \u001b[0;36m<module>\u001b[0;34m\u001b[0m\n\u001b[0;32m----> 1\u001b[0;31m \u001b[0;32mimport\u001b[0m \u001b[0mntlk\u001b[0m\u001b[0;34m\u001b[0m\u001b[0;34m\u001b[0m\u001b[0m\n\u001b[0m",
      "\u001b[0;31mModuleNotFoundError\u001b[0m: No module named 'ntlk'"
     ]
    }
   ],
   "source": [
    "import ntlk"
   ]
  },
  {
   "cell_type": "code",
   "execution_count": null,
   "id": "9605aeec",
   "metadata": {},
   "outputs": [],
   "source": [
    "n"
   ]
  }
 ],
 "metadata": {
  "kernelspec": {
   "display_name": "Python 3",
   "language": "python",
   "name": "python3"
  },
  "language_info": {
   "codemirror_mode": {
    "name": "ipython",
    "version": 3
   },
   "file_extension": ".py",
   "mimetype": "text/x-python",
   "name": "python",
   "nbconvert_exporter": "python",
   "pygments_lexer": "ipython3",
   "version": "3.8.8"
  }
 },
 "nbformat": 4,
 "nbformat_minor": 5
}
