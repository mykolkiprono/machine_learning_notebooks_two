{
 "cells": [
  {
   "cell_type": "code",
   "execution_count": 1,
   "id": "0fede5c2",
   "metadata": {},
   "outputs": [],
   "source": [
    "import os\n",
    "\n",
    "import tensorflow as tf\n",
    "from tensorflow import keras\n",
    "from tensorflow.keras import layers\n",
    "from tensorflow.keras.preprocessing.image import ImageDataGenerator"
   ]
  },
  {
   "cell_type": "code",
   "execution_count": 8,
   "id": "4d6b6038",
   "metadata": {},
   "outputs": [],
   "source": [
    "tf.random.set_seed(123)\n",
    "\n",
    "img_height = 200\n",
    "img_width = 200\n",
    "\n",
    "batch_size = 64"
   ]
  },
  {
   "cell_type": "code",
   "execution_count": 34,
   "id": "a1113ffe",
   "metadata": {},
   "outputs": [
    {
     "name": "stdout",
     "output_type": "stream",
     "text": [
      "Found 4323 files belonging to 5 classes.\n",
      "Using 3891 files for training.\n",
      "Found 4323 files belonging to 5 classes.\n",
      "Using 432 files for validation.\n"
     ]
    }
   ],
   "source": [
    "ds_train = tf.keras.preprocessing.image_dataset_from_directory(\n",
    "    '/home/mikey/Downloads/flowers', labels = 'inferred',\n",
    "    label_mode = 'categorical',\n",
    "#     class_names = ,\n",
    "    color_mode = 'rgb',\n",
    "    batch_size = batch_size,\n",
    "    image_size = (img_height, img_width),\n",
    "    shuffle = True,\n",
    "    seed = 123,\n",
    "    validation_split = 0.1,\n",
    "    subset = 'training'    \n",
    ")\n",
    "\n",
    "ds_train = tf.keras.preprocessing.image_dataset_from_directory(\n",
    "    '/home/mikey/Downloads/flowers', labels = 'inferred',\n",
    "    label_mode = 'categorical',\n",
    "#     class_names = 'inferred',\n",
    "    color_mode = 'rgb',\n",
    "    batch_size = batch_size,\n",
    "    image_size = (img_height, img_width),\n",
    "    shuffle = True,\n",
    "    seed = 123,\n",
    "    validation_split = 0.1,\n",
    "    subset = 'validation'    \n",
    ")\n",
    "\n",
    "def augment(x, y):\n",
    "    image = tf,random_brifghtness(x, mx_delta = 0.05)"
   ]
  },
  {
   "cell_type": "code",
   "execution_count": 67,
   "id": "7946154f",
   "metadata": {},
   "outputs": [
    {
     "name": "stderr",
     "output_type": "stream",
     "text": [
      "Clipping input data to the valid range for imshow with RGB data ([0..1] for floats or [0..255] for integers).\n"
     ]
    },
    {
     "data": {
      "text/plain": [
       "<matplotlib.image.AxesImage at 0x7f0a891ac640>"
      ]
     },
     "execution_count": 67,
     "metadata": {},
     "output_type": "execute_result"
    },
    {
     "data": {
      "image/png": "[encoded data removed]",
      "text/plain": [
       "<Figure size 432x288 with 1 Axes>"
      ]
     },
     "metadata": {
      "needs_background": "light"
     },
     "output_type": "display_data"
    }
   ],
   "source": [
    "image, label = next(iter(ds_train))\n",
    "\n",
    "plt.imshow(image[0])"
   ]
  },
  {
   "cell_type": "code",
   "execution_count": 43,
   "id": "262c13cf",
   "metadata": {},
   "outputs": [
    {
     "name": "stdout",
     "output_type": "stream",
     "text": [
      "Found 4323 images belonging to 5 classes.\n"
     ]
    }
   ],
   "source": [
    "# Method 2\n",
    "\n",
    "datagen = ImageDataGenerator(\n",
    "    rescale = 1./255,\n",
    "    rotation_range = 5,\n",
    "    zoom_range = (0.95,0.95),\n",
    "    vertical_flip = False,\n",
    "    data_format = 'channels_last',\n",
    "    validation_split = 0.0,\n",
    "    dtype = tf.float32\n",
    ")\n",
    "\n",
    "train_generator = datagen.flow_from_directory(\n",
    "    '/home/mikey/Downloads/flowers',\n",
    "    target_size = (img_height, img_width),\n",
    "    batch_size = batch_size,\n",
    "    color_mode = 'rgb',\n",
    "    class_mode = 'sparse',\n",
    "    shuffle = True,\n",
    "    subset = 'training',\n",
    "    seed = 123\n",
    ")"
   ]
  },
  {
   "cell_type": "code",
   "execution_count": 49,
   "id": "0c7e55bc",
   "metadata": {},
   "outputs": [],
   "source": [
    "images,labels = next(train_generator)"
   ]
  },
  {
   "cell_type": "code",
   "execution_count": 69,
   "id": "3fa0f4bc",
   "metadata": {},
   "outputs": [],
   "source": [
    "import matplotlib.pyplot as plt\n",
    "images_and_labels = zip(images, labels)"
   ]
  },
  {
   "cell_type": "code",
   "execution_count": null,
   "id": "2a6e39e4",
   "metadata": {
    "scrolled": true
   },
   "outputs": [],
   "source": [
    "fig, ax = plt.subplots(figsize = (10,7))\n",
    "\n",
    "ax.imshow(image)\n",
    "ax.axis('off')\n",
    "plt.tight_layout()\n",
    "plt.show()"
   ]
  },
  {
   "cell_type": "code",
   "execution_count": null,
   "id": "58173efe",
   "metadata": {},
   "outputs": [],
   "source": [
    "vgg16model = tf.keras.applications.vgg16.VGG16()"
   ]
  },
  {
   "cell_type": "code",
   "execution_count": null,
   "id": "66502b32",
   "metadata": {},
   "outputs": [],
   "source": []
  }
 ],
 "metadata": {
  "kernelspec": {
   "display_name": "Python 3",
   "language": "python",
   "name": "python3"
  },
  "language_info": {
   "codemirror_mode": {
    "name": "ipython",
    "version": 3
   },
   "file_extension": ".py",
   "mimetype": "text/x-python",
   "name": "python",
   "nbconvert_exporter": "python",
   "pygments_lexer": "ipython3",
   "version": "3.9.5"
  }
 },
 "nbformat": 4,
 "nbformat_minor": 5
}
