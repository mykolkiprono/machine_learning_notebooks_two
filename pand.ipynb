{
 "cells": [
  {
   "cell_type": "code",
   "execution_count": 1,
   "id": "b9543519",
   "metadata": {},
   "outputs": [],
   "source": [
    "import pandas as pd\n",
    "import numpy as np\n",
    "\n",
    "import matplotlib.pyplot as plt"
   ]
  },
  {
   "cell_type": "code",
   "execution_count": 2,
   "id": "cffd6e0e",
   "metadata": {},
   "outputs": [],
   "source": [
    "dtypes = {'is_last': 'category','is_repeated': 'category'}"
   ]
  },
  {
   "cell_type": "code",
   "execution_count": null,
   "id": "16140bfc",
   "metadata": {},
   "outputs": [],
   "source": [
    "df = pd.read_csv(\"/home/mikey/Downloads/csv_datasets/archive(7)/caso_full.csv\", parse_dates = True, dtype = dtypes)"
   ]
  },
  {
   "cell_type": "code",
   "execution_count": 3,
   "id": "32b1d42b",
   "metadata": {},
   "outputs": [
    {
     "data": {
      "text/html": [
       "<div>\n",
       "<style scoped>\n",
       "    .dataframe tbody tr th:only-of-type {\n",
       "        vertical-align: middle;\n",
       "    }\n",
       "\n",
       "    .dataframe tbody tr th {\n",
       "        vertical-align: top;\n",
       "    }\n",
       "\n",
       "    .dataframe thead th {\n",
       "        text-align: right;\n",
       "    }\n",
       "</style>\n",
       "<table border=\"1\" class=\"dataframe\">\n",
       "  <thead>\n",
       "    <tr style=\"text-align: right;\">\n",
       "      <th></th>\n",
       "      <th>city</th>\n",
       "      <th>city_ibge_code</th>\n",
       "      <th>date</th>\n",
       "      <th>epidemiological_week</th>\n",
       "      <th>estimated_population</th>\n",
       "      <th>estimated_population_2019</th>\n",
       "      <th>is_last</th>\n",
       "      <th>is_repeated</th>\n",
       "      <th>last_available_confirmed</th>\n",
       "      <th>last_available_confirmed_per_100k_inhabitants</th>\n",
       "      <th>last_available_date</th>\n",
       "      <th>last_available_death_rate</th>\n",
       "      <th>last_available_deaths</th>\n",
       "      <th>order_for_place</th>\n",
       "      <th>place_type</th>\n",
       "      <th>state</th>\n",
       "      <th>new_confirmed</th>\n",
       "      <th>new_deaths</th>\n",
       "    </tr>\n",
       "  </thead>\n",
       "  <tbody>\n",
       "    <tr>\n",
       "      <th>0</th>\n",
       "      <td>Rio Branco</td>\n",
       "      <td>1200401.0</td>\n",
       "      <td>2020-03-17</td>\n",
       "      <td>202012</td>\n",
       "      <td>413418.0</td>\n",
       "      <td>407319.0</td>\n",
       "      <td>False</td>\n",
       "      <td>False</td>\n",
       "      <td>3</td>\n",
       "      <td>0.72566</td>\n",
       "      <td>2020-03-17</td>\n",
       "      <td>0.0</td>\n",
       "      <td>0</td>\n",
       "      <td>1</td>\n",
       "      <td>city</td>\n",
       "      <td>AC</td>\n",
       "      <td>3</td>\n",
       "      <td>0</td>\n",
       "    </tr>\n",
       "    <tr>\n",
       "      <th>1</th>\n",
       "      <td>NaN</td>\n",
       "      <td>12.0</td>\n",
       "      <td>2020-03-17</td>\n",
       "      <td>202012</td>\n",
       "      <td>894470.0</td>\n",
       "      <td>881935.0</td>\n",
       "      <td>False</td>\n",
       "      <td>False</td>\n",
       "      <td>3</td>\n",
       "      <td>0.33539</td>\n",
       "      <td>2020-03-17</td>\n",
       "      <td>0.0</td>\n",
       "      <td>0</td>\n",
       "      <td>1</td>\n",
       "      <td>state</td>\n",
       "      <td>AC</td>\n",
       "      <td>3</td>\n",
       "      <td>0</td>\n",
       "    </tr>\n",
       "    <tr>\n",
       "      <th>2</th>\n",
       "      <td>Rio Branco</td>\n",
       "      <td>1200401.0</td>\n",
       "      <td>2020-03-18</td>\n",
       "      <td>202012</td>\n",
       "      <td>413418.0</td>\n",
       "      <td>407319.0</td>\n",
       "      <td>False</td>\n",
       "      <td>False</td>\n",
       "      <td>3</td>\n",
       "      <td>0.72566</td>\n",
       "      <td>2020-03-18</td>\n",
       "      <td>0.0</td>\n",
       "      <td>0</td>\n",
       "      <td>2</td>\n",
       "      <td>city</td>\n",
       "      <td>AC</td>\n",
       "      <td>0</td>\n",
       "      <td>0</td>\n",
       "    </tr>\n",
       "    <tr>\n",
       "      <th>3</th>\n",
       "      <td>NaN</td>\n",
       "      <td>12.0</td>\n",
       "      <td>2020-03-18</td>\n",
       "      <td>202012</td>\n",
       "      <td>894470.0</td>\n",
       "      <td>881935.0</td>\n",
       "      <td>False</td>\n",
       "      <td>False</td>\n",
       "      <td>3</td>\n",
       "      <td>0.33539</td>\n",
       "      <td>2020-03-18</td>\n",
       "      <td>0.0</td>\n",
       "      <td>0</td>\n",
       "      <td>2</td>\n",
       "      <td>state</td>\n",
       "      <td>AC</td>\n",
       "      <td>0</td>\n",
       "      <td>0</td>\n",
       "    </tr>\n",
       "    <tr>\n",
       "      <th>4</th>\n",
       "      <td>Rio Branco</td>\n",
       "      <td>1200401.0</td>\n",
       "      <td>2020-03-19</td>\n",
       "      <td>202012</td>\n",
       "      <td>413418.0</td>\n",
       "      <td>407319.0</td>\n",
       "      <td>False</td>\n",
       "      <td>False</td>\n",
       "      <td>4</td>\n",
       "      <td>0.96754</td>\n",
       "      <td>2020-03-19</td>\n",
       "      <td>0.0</td>\n",
       "      <td>0</td>\n",
       "      <td>3</td>\n",
       "      <td>city</td>\n",
       "      <td>AC</td>\n",
       "      <td>1</td>\n",
       "      <td>0</td>\n",
       "    </tr>\n",
       "  </tbody>\n",
       "</table>\n",
       "</div>"
      ],
      "text/plain": [
       "         city  city_ibge_code        date  epidemiological_week  \\\n",
       "0  Rio Branco       1200401.0  2020-03-17                202012   \n",
       "1         NaN            12.0  2020-03-17                202012   \n",
       "2  Rio Branco       1200401.0  2020-03-18                202012   \n",
       "3         NaN            12.0  2020-03-18                202012   \n",
       "4  Rio Branco       1200401.0  2020-03-19                202012   \n",
       "\n",
       "   estimated_population  estimated_population_2019  is_last  is_repeated  \\\n",
       "0              413418.0                   407319.0    False        False   \n",
       "1              894470.0                   881935.0    False        False   \n",
       "2              413418.0                   407319.0    False        False   \n",
       "3              894470.0                   881935.0    False        False   \n",
       "4              413418.0                   407319.0    False        False   \n",
       "\n",
       "   last_available_confirmed  last_available_confirmed_per_100k_inhabitants  \\\n",
       "0                         3                                        0.72566   \n",
       "1                         3                                        0.33539   \n",
       "2                         3                                        0.72566   \n",
       "3                         3                                        0.33539   \n",
       "4                         4                                        0.96754   \n",
       "\n",
       "  last_available_date  last_available_death_rate  last_available_deaths  \\\n",
       "0          2020-03-17                        0.0                      0   \n",
       "1          2020-03-17                        0.0                      0   \n",
       "2          2020-03-18                        0.0                      0   \n",
       "3          2020-03-18                        0.0                      0   \n",
       "4          2020-03-19                        0.0                      0   \n",
       "\n",
       "   order_for_place place_type state  new_confirmed  new_deaths  \n",
       "0                1       city    AC              3           0  \n",
       "1                1      state    AC              3           0  \n",
       "2                2       city    AC              0           0  \n",
       "3                2      state    AC              0           0  \n",
       "4                3       city    AC              1           0  "
      ]
     },
     "execution_count": 3,
     "metadata": {},
     "output_type": "execute_result"
    }
   ],
   "source": [
    "df.head()"
   ]
  },
  {
   "cell_type": "code",
   "execution_count": 33,
   "id": "2330fe2a",
   "metadata": {},
   "outputs": [
    {
     "name": "stdout",
     "output_type": "stream",
     "text": [
      "<class 'pandas.core.frame.DataFrame'>\n",
      "RangeIndex: 2258704 entries, 0 to 2258703\n",
      "Data columns (total 18 columns):\n",
      " #   Column                                         Dtype   \n",
      "---  ------                                         -----   \n",
      " 0   city                                           object  \n",
      " 1   city_ibge_code                                 float64 \n",
      " 2   date                                           object  \n",
      " 3   epidemiological_week                           int64   \n",
      " 4   estimated_population                           float64 \n",
      " 5   estimated_population_2019                      float64 \n",
      " 6   is_last                                        category\n",
      " 7   is_repeated                                    category\n",
      " 8   last_available_confirmed                       int64   \n",
      " 9   last_available_confirmed_per_100k_inhabitants  float64 \n",
      " 10  last_available_date                            object  \n",
      " 11  last_available_death_rate                      float64 \n",
      " 12  last_available_deaths                          int64   \n",
      " 13  order_for_place                                int64   \n",
      " 14  place_type                                     object  \n",
      " 15  state                                          object  \n",
      " 16  new_confirmed                                  int64   \n",
      " 17  new_deaths                                     int64   \n",
      "dtypes: category(2), float64(5), int64(6), object(5)\n",
      "memory usage: 910.2 MB\n"
     ]
    }
   ],
   "source": [
    "df.info(memory_usage = 'deep')"
   ]
  },
  {
   "cell_type": "code",
   "execution_count": 13,
   "id": "a517702b",
   "metadata": {},
   "outputs": [
    {
     "data": {
      "text/plain": [
       "False    2253088\n",
       "True        5616\n",
       "Name: is_last, dtype: int64"
      ]
     },
     "execution_count": 13,
     "metadata": {},
     "output_type": "execute_result"
    }
   ],
   "source": [
    "df['is_last'].value_counts()"
   ]
  },
  {
   "cell_type": "code",
   "execution_count": 18,
   "id": "e11113fd",
   "metadata": {},
   "outputs": [
    {
     "data": {
      "image/png": "[encoded data removed]",
      "text/plain": [
       "<Figure size 432x288 with 1 Axes>"
      ]
     },
     "metadata": {
      "needs_background": "light"
     },
     "output_type": "display_data"
    }
   ],
   "source": [
    "plt.hist(df['is_last'].value_counts())\n",
    "# plt.ylim(2253088)\n",
    "plt.show()"
   ]
  },
  {
   "cell_type": "code",
   "execution_count": 19,
   "id": "a9b5c4da",
   "metadata": {},
   "outputs": [
    {
     "data": {
      "text/plain": [
       "0            1\n",
       "1            1\n",
       "2            2\n",
       "3            2\n",
       "4            3\n",
       "          ... \n",
       "2258699    390\n",
       "2258700    390\n",
       "2258701    415\n",
       "2258702    404\n",
       "2258703    456\n",
       "Name: order_for_place, Length: 2258704, dtype: int64"
      ]
     },
     "execution_count": 19,
     "metadata": {},
     "output_type": "execute_result"
    }
   ],
   "source": [
    "df['order_for_place']"
   ]
  },
  {
   "cell_type": "code",
   "execution_count": 36,
   "id": "763ea020",
   "metadata": {},
   "outputs": [
    {
     "data": {
      "text/plain": [
       "city                                             12451\n",
       "city_ibge_code                                    8250\n",
       "date                                                 0\n",
       "epidemiological_week                                 0\n",
       "estimated_population                              8250\n",
       "estimated_population_2019                         8250\n",
       "is_last                                              0\n",
       "is_repeated                                          0\n",
       "last_available_confirmed                             0\n",
       "last_available_confirmed_per_100k_inhabitants    23769\n",
       "last_available_date                                  0\n",
       "last_available_death_rate                            0\n",
       "last_available_deaths                                0\n",
       "order_for_place                                      0\n",
       "place_type                                           0\n",
       "state                                                0\n",
       "new_confirmed                                        0\n",
       "new_deaths                                           0\n",
       "dtype: int64"
      ]
     },
     "execution_count": 36,
     "metadata": {},
     "output_type": "execute_result"
    }
   ],
   "source": [
    "df.isnull().sum()"
   ]
  },
  {
   "cell_type": "code",
   "execution_count": 37,
   "id": "8c331160",
   "metadata": {},
   "outputs": [
    {
     "data": {
      "text/plain": [
       "(2258704, 18)"
      ]
     },
     "execution_count": 37,
     "metadata": {},
     "output_type": "execute_result"
    }
   ],
   "source": [
    "df.shape"
   ]
  },
  {
   "cell_type": "code",
   "execution_count": null,
   "id": "aef00016",
   "metadata": {},
   "outputs": [],
   "source": []
  }
 ],
 "metadata": {
  "kernelspec": {
   "display_name": "Python 3",
   "language": "python",
   "name": "python3"
  },
  "language_info": {
   "codemirror_mode": {
    "name": "ipython",
    "version": 3
   },
   "file_extension": ".py",
   "mimetype": "text/x-python",
   "name": "python",
   "nbconvert_exporter": "python",
   "pygments_lexer": "ipython3",
   "version": "3.8.8"
  }
 },
 "nbformat": 4,
 "nbformat_minor": 5
}
