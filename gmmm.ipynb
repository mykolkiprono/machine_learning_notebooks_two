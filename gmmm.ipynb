{
 "cells": [
  {
   "cell_type": "code",
   "execution_count": 1,
   "id": "55c9ab22",
   "metadata": {},
   "outputs": [],
   "source": [
    "import numpy as np\n",
    "import matplotlib.pyplot as plt\n",
    "\n",
    "from sklearn.model_selection import train_test_split\n",
    "from sklearn.mixture import GaussianMixture\n",
    "from sklearn.datasets import load_iris"
   ]
  },
  {
   "cell_type": "code",
   "execution_count": 2,
   "id": "0d0fffac",
   "metadata": {},
   "outputs": [],
   "source": [
    "X,y = load_iris(return_X_y = True)"
   ]
  },
  {
   "cell_type": "code",
   "execution_count": 3,
   "id": "15ed8d5c",
   "metadata": {},
   "outputs": [],
   "source": [
    "X_train,X_test, y_train, y_test = train_test_split(X,y,test_size = 0.2, random_state = 0)"
   ]
  },
  {
   "cell_type": "code",
   "execution_count": 4,
   "id": "b0ae965a",
   "metadata": {},
   "outputs": [],
   "source": [
    "gmm = GaussianMixture(n_components = 3, init_params = 'kmeans', covariance_type = 'full', )"
   ]
  },
  {
   "cell_type": "code",
   "execution_count": 5,
   "id": "d13cef4e",
   "metadata": {},
   "outputs": [
    {
     "data": {
      "text/plain": [
       "GaussianMixture(n_components=3)"
      ]
     },
     "execution_count": 5,
     "metadata": {},
     "output_type": "execute_result"
    }
   ],
   "source": [
    "gmm.fit(X)"
   ]
  },
  {
   "cell_type": "code",
   "execution_count": 9,
   "id": "3c972f16",
   "metadata": {},
   "outputs": [
    {
     "data": {
      "text/plain": [
       "array([[5.9170732 , 2.77804839, 4.20540364, 1.29848217],\n",
       "       [5.006     , 3.428     , 1.462     , 0.246     ],\n",
       "       [6.54639415, 2.94946365, 5.48364578, 1.98726565]])"
      ]
     },
     "execution_count": 9,
     "metadata": {},
     "output_type": "execute_result"
    }
   ],
   "source": [
    "gmm.means_"
   ]
  },
  {
   "cell_type": "code",
   "execution_count": 55,
   "id": "4d615aee",
   "metadata": {},
   "outputs": [
    {
     "data": {
      "text/plain": [
       "array([[0.121765, 0.097232],\n",
       "       [0.097232, 0.140817]])"
      ]
     },
     "execution_count": 55,
     "metadata": {},
     "output_type": "execute_result"
    }
   ],
   "source": [
    "gmm.covariances_[1][:2,:2]"
   ]
  },
  {
   "cell_type": "code",
   "execution_count": 70,
   "id": "54a0ddfa",
   "metadata": {},
   "outputs": [
    {
     "data": {
      "text/plain": [
       "array([[-0.21643836, -0.44627907, -0.40878364],\n",
       "       [-1.18588998,  0.42754211, -1.0761055 ],\n",
       "       [ 1.4653039 ,  0.51846278,  1.30279995]])"
      ]
     },
     "execution_count": 70,
     "metadata": {},
     "output_type": "execute_result"
    }
   ],
   "source": [
    "c = np.random.randn(3,3)\n",
    "c"
   ]
  },
  {
   "cell_type": "code",
   "execution_count": 73,
   "id": "6bb289db",
   "metadata": {},
   "outputs": [
    {
     "ename": "TypeError",
     "evalue": "only integer scalar arrays can be converted to a scalar index",
     "output_type": "error",
     "traceback": [
      "\u001b[0;31m---------------------------------------------------------------------------\u001b[0m",
      "\u001b[0;31mTypeError\u001b[0m                                 Traceback (most recent call last)",
      "\u001b[0;32m<ipython-input-73-f7f1ebad9023>\u001b[0m in \u001b[0;36m<module>\u001b[0;34m\u001b[0m\n\u001b[1;32m      1\u001b[0m \u001b[0;31m# c = np.diag(c)\u001b[0m\u001b[0;34m\u001b[0m\u001b[0;34m\u001b[0m\u001b[0;34m\u001b[0m\u001b[0m\n\u001b[1;32m      2\u001b[0m \u001b[0;31m# c\u001b[0m\u001b[0;34m\u001b[0m\u001b[0;34m\u001b[0m\u001b[0;34m\u001b[0m\u001b[0m\n\u001b[0;32m----> 3\u001b[0;31m \u001b[0mc\u001b[0m \u001b[0;34m=\u001b[0m \u001b[0mnp\u001b[0m\u001b[0;34m.\u001b[0m\u001b[0meye\u001b[0m\u001b[0;34m(\u001b[0m\u001b[0mc\u001b[0m\u001b[0;34m)\u001b[0m\u001b[0;34m\u001b[0m\u001b[0;34m\u001b[0m\u001b[0m\n\u001b[0m",
      "\u001b[0;32m~/anaconda3/lib/python3.8/site-packages/numpy/lib/twodim_base.py\u001b[0m in \u001b[0;36meye\u001b[0;34m(N, M, k, dtype, order, like)\u001b[0m\n\u001b[1;32m    207\u001b[0m     \u001b[0;32mif\u001b[0m \u001b[0mM\u001b[0m \u001b[0;32mis\u001b[0m \u001b[0;32mNone\u001b[0m\u001b[0;34m:\u001b[0m\u001b[0;34m\u001b[0m\u001b[0;34m\u001b[0m\u001b[0m\n\u001b[1;32m    208\u001b[0m         \u001b[0mM\u001b[0m \u001b[0;34m=\u001b[0m \u001b[0mN\u001b[0m\u001b[0;34m\u001b[0m\u001b[0;34m\u001b[0m\u001b[0m\n\u001b[0;32m--> 209\u001b[0;31m     \u001b[0mm\u001b[0m \u001b[0;34m=\u001b[0m \u001b[0mzeros\u001b[0m\u001b[0;34m(\u001b[0m\u001b[0;34m(\u001b[0m\u001b[0mN\u001b[0m\u001b[0;34m,\u001b[0m \u001b[0mM\u001b[0m\u001b[0;34m)\u001b[0m\u001b[0;34m,\u001b[0m \u001b[0mdtype\u001b[0m\u001b[0;34m=\u001b[0m\u001b[0mdtype\u001b[0m\u001b[0;34m,\u001b[0m \u001b[0morder\u001b[0m\u001b[0;34m=\u001b[0m\u001b[0morder\u001b[0m\u001b[0;34m)\u001b[0m\u001b[0;34m\u001b[0m\u001b[0;34m\u001b[0m\u001b[0m\n\u001b[0m\u001b[1;32m    210\u001b[0m     \u001b[0;32mif\u001b[0m \u001b[0mk\u001b[0m \u001b[0;34m>=\u001b[0m \u001b[0mM\u001b[0m\u001b[0;34m:\u001b[0m\u001b[0;34m\u001b[0m\u001b[0;34m\u001b[0m\u001b[0m\n\u001b[1;32m    211\u001b[0m         \u001b[0;32mreturn\u001b[0m \u001b[0mm\u001b[0m\u001b[0;34m\u001b[0m\u001b[0;34m\u001b[0m\u001b[0m\n",
      "\u001b[0;31mTypeError\u001b[0m: only integer scalar arrays can be converted to a scalar index"
     ]
    }
   ],
   "source": [
    "# c = np.diag(c)\n",
    "# c\n",
    "c = np.eye(c)"
   ]
  },
  {
   "cell_type": "code",
   "execution_count": 34,
   "id": "491d4c8f",
   "metadata": {},
   "outputs": [
    {
     "data": {
      "image/png": "[encoded data removed]",
      "text/plain": [
       "<Figure size 720x504 with 3 Axes>"
      ]
     },
     "metadata": {
      "needs_background": "light"
     },
     "output_type": "display_data"
    }
   ],
   "source": [
    "fig,ax = plt.subplots(ncols = 3, nrows = 1, figsize = (10,7))\n",
    "\n",
    "ax[0].imshow(gmm.covariances_[0])\n",
    "ax[1].imshow(gmm.covariances_[1])\n",
    "ax[2].imshow(gmm.covariances_[2])\n",
    "plt.xticks()\n",
    "plt.show()"
   ]
  },
  {
   "cell_type": "code",
   "execution_count": 15,
   "id": "e628712e",
   "metadata": {},
   "outputs": [
    {
     "data": {
      "text/plain": [
       "array([[[ 10.14275566,  -4.47443487,  -9.22764153,   6.37514372],\n",
       "        [ -4.47443487,  31.02318411,   0.98855283, -35.55669159],\n",
       "        [ -9.22764153,   0.98855283,  20.54483439, -24.88837106],\n",
       "        [  6.37514372, -35.55669159, -24.88837106, 114.89887997]],\n",
       "\n",
       "       [[ 19.32946088, -12.65754535,  -4.59185187,  -4.873089  ],\n",
       "        [-12.65754535,  15.88788775,   1.13359394,  -2.14681312],\n",
       "        [ -4.59185187,   1.13359394,  39.56563246, -18.29837222],\n",
       "        [ -4.873089  ,  -2.14681312, -18.29837222, 108.19803695]],\n",
       "\n",
       "       [[  9.86127199,  -2.57914524,  -9.01249795,   2.34892532],\n",
       "        [ -2.57914524,  15.19775497,   0.37050911,  -8.45225454],\n",
       "        [ -9.01249795,   0.37050911,  12.30380089,  -4.32962099],\n",
       "        [  2.34892532,  -8.45225454,  -4.32962099,  19.36736812]]])"
      ]
     },
     "execution_count": 15,
     "metadata": {},
     "output_type": "execute_result"
    }
   ],
   "source": [
    "gmm.precisions_"
   ]
  },
  {
   "cell_type": "code",
   "execution_count": 38,
   "id": "fc3aff3b",
   "metadata": {},
   "outputs": [
    {
     "data": {
      "text/plain": [
       "array([[[ 1.90513485, -1.44789764, -2.0157097 ,  0.59474676],\n",
       "        [ 0.        ,  4.12863165, -1.72458255, -3.31713729],\n",
       "        [ 0.        ,  0.        ,  3.89278015, -2.32187361],\n",
       "        [ 0.        ,  0.        ,  0.        , 10.71908951]],\n",
       "\n",
       "       [[ 2.86575305, -3.176974  , -0.89681626, -0.46848388],\n",
       "        [ 0.        ,  3.97856918,  0.1275891 , -0.20638805],\n",
       "        [ 0.        ,  0.        ,  6.03912454, -1.75914957],\n",
       "        [ 0.        ,  0.        ,  0.        , 10.40182854]],\n",
       "\n",
       "       [[ 1.60656112, -0.80043213, -2.52084468,  0.53374511],\n",
       "        [ 0.        ,  3.3623648 , -0.45116276, -1.9206015 ],\n",
       "        [ 0.        ,  0.        ,  3.36688341, -0.98381758],\n",
       "        [ 0.        ,  0.        ,  0.        ,  4.40083721]]])"
      ]
     },
     "execution_count": 38,
     "metadata": {},
     "output_type": "execute_result"
    }
   ],
   "source": [
    "gmm.precisions_cholesky_"
   ]
  },
  {
   "cell_type": "code",
   "execution_count": 40,
   "id": "6a7ddb35",
   "metadata": {},
   "outputs": [
    {
     "data": {
      "text/plain": [
       "True"
      ]
     },
     "execution_count": 40,
     "metadata": {},
     "output_type": "execute_result"
    }
   ],
   "source": [
    "gmm.converged_"
   ]
  },
  {
   "cell_type": "code",
   "execution_count": 41,
   "id": "7e0c425f",
   "metadata": {},
   "outputs": [
    {
     "data": {
      "text/plain": [
       "17"
      ]
     },
     "execution_count": 41,
     "metadata": {},
     "output_type": "execute_result"
    }
   ],
   "source": [
    "gmm.n_iter_"
   ]
  },
  {
   "cell_type": "code",
   "execution_count": 42,
   "id": "d0e3f579",
   "metadata": {},
   "outputs": [
    {
     "data": {
      "text/plain": [
       "-1.2014746139064725"
      ]
     },
     "execution_count": 42,
     "metadata": {},
     "output_type": "execute_result"
    }
   ],
   "source": [
    "gmm.lower_bound_"
   ]
  },
  {
   "cell_type": "code",
   "execution_count": 45,
   "id": "65fae4dc",
   "metadata": {},
   "outputs": [
    {
     "data": {
      "text/plain": [
       "496.3679935842245"
      ]
     },
     "execution_count": 45,
     "metadata": {},
     "output_type": "execute_result"
    }
   ],
   "source": [
    "# bayesian information criterion ; the lower the better\n",
    "gmm.bic(X_train)"
   ]
  },
  {
   "cell_type": "code",
   "execution_count": 46,
   "id": "90bb262d",
   "metadata": {},
   "outputs": [
    {
     "data": {
      "text/plain": [
       "373.7183569018145"
      ]
     },
     "execution_count": 46,
     "metadata": {},
     "output_type": "execute_result"
    }
   ],
   "source": [
    "# akaike infirmation criterion ; the lower the better\n",
    "gmm.aic(X_train)"
   ]
  },
  {
   "cell_type": "code",
   "execution_count": null,
   "id": "db51027e",
   "metadata": {},
   "outputs": [],
   "source": [
    "gmm.score_"
   ]
  }
 ],
 "metadata": {
  "kernelspec": {
   "display_name": "Python 3",
   "language": "python",
   "name": "python3"
  },
  "language_info": {
   "codemirror_mode": {
    "name": "ipython",
    "version": 3
   },
   "file_extension": ".py",
   "mimetype": "text/x-python",
   "name": "python",
   "nbconvert_exporter": "python",
   "pygments_lexer": "ipython3",
   "version": "3.8.8"
  }
 },
 "nbformat": 4,
 "nbformat_minor": 5
}
