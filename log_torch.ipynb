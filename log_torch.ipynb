{
 "cells": [
  {
   "cell_type": "code",
   "execution_count": 6,
   "id": "5aa73092",
   "metadata": {},
   "outputs": [],
   "source": [
    "import torch\n",
    "import numpy as np\n",
    "from sklearn import datasets\n",
    "from sklearn import metrics\n",
    "from sklearn.model_selection import train_test_split\n",
    "import torch.nn as nn\n",
    "from sklearn.preprocessing import StandardScaler"
   ]
  },
  {
   "cell_type": "code",
   "execution_count": 44,
   "id": "6e82aa0d",
   "metadata": {},
   "outputs": [],
   "source": [
    "X, y = datasets.load_iris(return_X_y = True)"
   ]
  },
  {
   "cell_type": "code",
   "execution_count": 45,
   "id": "8136e3e1",
   "metadata": {},
   "outputs": [],
   "source": [
    "x_train, x_test, y_train, y_test = train_test_split(X,y, test_size = 0.2, shuffle = True, random_state=0)"
   ]
  },
  {
   "cell_type": "code",
   "execution_count": 46,
   "id": "05799103",
   "metadata": {},
   "outputs": [],
   "source": [
    "scaler = StandardScaler()\n",
    "\n",
    "x_train = scaler.fit_transform(x_train)\n",
    "x_test = scaler.transform(x_test)"
   ]
  },
  {
   "cell_type": "code",
   "execution_count": 47,
   "id": "216f2d29",
   "metadata": {},
   "outputs": [],
   "source": [
    "x_train = torch.from_numpy(x_train.astype(np.float32))\n",
    "x_test = torch.from_numpy(x_test.astype(np.float32))\n",
    "\n",
    "y_train = torch.from_numpy(y_train.astype(np.float32))\n",
    "y_test  = torch.from_numpy(y_test.astype(np.float32))"
   ]
  },
  {
   "cell_type": "code",
   "execution_count": 48,
   "id": "232fd0a6",
   "metadata": {},
   "outputs": [
    {
     "data": {
      "text/plain": [
       "torch.Size([120, 4])"
      ]
     },
     "execution_count": 48,
     "metadata": {},
     "output_type": "execute_result"
    }
   ],
   "source": [
    "x_train.shape"
   ]
  },
  {
   "cell_type": "code",
   "execution_count": 49,
   "id": "f9cf1c56",
   "metadata": {},
   "outputs": [
    {
     "data": {
      "text/plain": [
       "torch.Size([30])"
      ]
     },
     "execution_count": 49,
     "metadata": {},
     "output_type": "execute_result"
    }
   ],
   "source": [
    "y_test.shape"
   ]
  },
  {
   "cell_type": "code",
   "execution_count": 50,
   "id": "da6bfc7b",
   "metadata": {},
   "outputs": [],
   "source": [
    "y_train = y_train.view(y_train.shape[0], 1)\n",
    "y_test = y_test.view(y_test.shape[0], 1)"
   ]
  },
  {
   "cell_type": "code",
   "execution_count": 51,
   "id": "d409fbd9",
   "metadata": {},
   "outputs": [
    {
     "data": {
      "text/plain": [
       "torch.Size([120, 1])"
      ]
     },
     "execution_count": 51,
     "metadata": {},
     "output_type": "execute_result"
    }
   ],
   "source": [
    "y_train.shape"
   ]
  },
  {
   "cell_type": "code",
   "execution_count": 114,
   "id": "38d44b4b",
   "metadata": {},
   "outputs": [],
   "source": [
    "class Logistic(nn.Module):\n",
    "    def __init__(self, intput_features):\n",
    "        super(Logistic, self).__init__()\n",
    "        self.linear = nn.Linear(intput_features, 1)\n",
    "        \n",
    "    def forward(self, x):\n",
    "        y_preds = torch.sigmoid(self.linear(x))\n",
    "        \n",
    "        return y_preds"
   ]
  },
  {
   "cell_type": "code",
   "execution_count": 115,
   "id": "37f1f2e9",
   "metadata": {},
   "outputs": [],
   "source": [
    "model = Logistic(n_features)"
   ]
  },
  {
   "cell_type": "code",
   "execution_count": 116,
   "id": "86094a69",
   "metadata": {},
   "outputs": [],
   "source": [
    "criterion = nn.BCELoss()\n",
    "\n",
    "opt = torch.optim.SGD(model.parameters(), lr = 0.001)"
   ]
  },
  {
   "cell_type": "code",
   "execution_count": 117,
   "id": "620725bf",
   "metadata": {},
   "outputs": [
    {
     "name": "stdout",
     "output_type": "stream",
     "text": [
      "epoch 0 / 100 loss 0.035198044031858444\n",
      "epoch 10 / 100 loss 0.020839234814047813\n",
      "epoch 20 / 100 loss 0.0066290139220654964\n",
      "epoch 30 / 100 loss -0.007435147184878588\n",
      "epoch 40 / 100 loss -0.02135622873902321\n",
      "epoch 50 / 100 loss -0.03513682633638382\n",
      "epoch 60 / 100 loss -0.04877965524792671\n",
      "epoch 70 / 100 loss -0.062287338078022\n",
      "epoch 80 / 100 loss -0.07566235214471817\n",
      "epoch 90 / 100 loss -0.08890721201896667\n"
     ]
    }
   ],
   "source": [
    "num_epochs = 100\n",
    "\n",
    "for epoch in range(num_epochs):\n",
    "    y_pred = model(x_train)\n",
    "    \n",
    "    loss = criterion(y_pred, y_train)\n",
    "    loss.backward()\n",
    "    opt.step()\n",
    "    \n",
    "    opt.zero_grad()\n",
    "    \n",
    "    if (epoch%10) == 0:\n",
    "        print(\"epoch {} / {} loss {}\".format(epoch, num_epochs, loss))"
   ]
  },
  {
   "cell_type": "markdown",
   "id": "ce76719b",
   "metadata": {},
   "source": [
    "preds = model(x_test)\n",
    "preds"
   ]
  },
  {
   "cell_type": "code",
   "execution_count": 118,
   "id": "a15082c2",
   "metadata": {},
   "outputs": [],
   "source": [
    "# metrics.accuracy_score(preds.detach().numpy(), y_test.detach().numpy())"
   ]
  },
  {
   "cell_type": "code",
   "execution_count": 119,
   "id": "8b79b737",
   "metadata": {},
   "outputs": [],
   "source": [
    "y = model(x_train)"
   ]
  },
  {
   "cell_type": "code",
   "execution_count": 120,
   "id": "b4a31ccb",
   "metadata": {},
   "outputs": [
    {
     "data": {
      "text/plain": [
       "torch.Size([120, 1])"
      ]
     },
     "execution_count": 120,
     "metadata": {},
     "output_type": "execute_result"
    }
   ],
   "source": [
    "y.shape"
   ]
  },
  {
   "cell_type": "code",
   "execution_count": 121,
   "id": "85faac44",
   "metadata": {},
   "outputs": [],
   "source": [
    "n_samples, n_features = X.shape"
   ]
  },
  {
   "cell_type": "code",
   "execution_count": 122,
   "id": "fbbc3020",
   "metadata": {},
   "outputs": [
    {
     "data": {
      "text/plain": [
       "4"
      ]
     },
     "execution_count": 122,
     "metadata": {},
     "output_type": "execute_result"
    }
   ],
   "source": [
    "n_features"
   ]
  },
  {
   "cell_type": "code",
   "execution_count": 123,
   "id": "d4721a04",
   "metadata": {},
   "outputs": [
    {
     "name": "stdout",
     "output_type": "stream",
     "text": [
      "accuracy :  0.633333\n"
     ]
    }
   ],
   "source": [
    "with torch.no_grad():\n",
    "    y_preds = model(x_test)\n",
    "    y_pred_cls = y_preds.round()\n",
    "    acc = y_pred_cls.eq(y_test).sum()/float(y_test.shape[0])\n",
    "    print(f\"accuracy : {acc: 4f}\")"
   ]
  },
  {
   "cell_type": "code",
   "execution_count": null,
   "id": "950e88e7",
   "metadata": {},
   "outputs": [],
   "source": []
  },
  {
   "cell_type": "code",
   "execution_count": null,
   "id": "6d039b42",
   "metadata": {},
   "outputs": [],
   "source": []
  }
 ],
 "metadata": {
  "kernelspec": {
   "display_name": "Python 3",
   "language": "python",
   "name": "python3"
  },
  "language_info": {
   "codemirror_mode": {
    "name": "ipython",
    "version": 3
   },
   "file_extension": ".py",
   "mimetype": "text/x-python",
   "name": "python",
   "nbconvert_exporter": "python",
   "pygments_lexer": "ipython3",
   "version": "3.8.8"
  }
 },
 "nbformat": 4,
 "nbformat_minor": 5
}
