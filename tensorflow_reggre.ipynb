{
 "cells": [
  {
   "cell_type": "raw",
   "id": "c8e4e78b",
   "metadata": {},
   "source": []
  },
  {
   "cell_type": "markdown",
   "id": "9c8464e3",
   "metadata": {},
   "source": [
    "we are going to cover***\n",
    "- Introduction to tensorflow\n",
    "- getting information out of tesors\n",
    "- Manipulating tensors\n",
    "- Tensors and numpy\n",
    "- Using @tf.funtion\n",
    "- Using gpus\n",
    "- Exercise"
   ]
  },
  {
   "cell_type": "code",
   "execution_count": 2,
   "id": "455a4c6f",
   "metadata": {},
   "outputs": [
    {
     "name": "stdout",
     "output_type": "stream",
     "text": [
      "2.4.1\n"
     ]
    }
   ],
   "source": [
    "import tensorflow as tf\n",
    "\n",
    "print(tf.__version__)"
   ]
  },
  {
   "cell_type": "code",
   "execution_count": 5,
   "id": "15076e39",
   "metadata": {},
   "outputs": [
    {
     "data": {
      "text/plain": [
       "<tf.Tensor: shape=(), dtype=int32, numpy=7>"
      ]
     },
     "execution_count": 5,
     "metadata": {},
     "output_type": "execute_result"
    }
   ],
   "source": [
    "#  creatig tensors using tf.constant()\n",
    "\n",
    "scalar = tf.constant(7)\n",
    "\n",
    "scalar"
   ]
  },
  {
   "cell_type": "code",
   "execution_count": 6,
   "id": "94c69363",
   "metadata": {},
   "outputs": [
    {
     "data": {
      "text/plain": [
       "0"
      ]
     },
     "execution_count": 6,
     "metadata": {},
     "output_type": "execute_result"
    }
   ],
   "source": [
    "#check the number of dimensions\n",
    "\n",
    "scalar.ndim"
   ]
  },
  {
   "cell_type": "code",
   "execution_count": 7,
   "id": "319c0762",
   "metadata": {},
   "outputs": [
    {
     "data": {
      "text/plain": [
       "<tf.Tensor: shape=(2,), dtype=int32, numpy=array([4, 5], dtype=int32)>"
      ]
     },
     "execution_count": 7,
     "metadata": {},
     "output_type": "execute_result"
    }
   ],
   "source": [
    "# create a vector\n",
    "vector = tf.constant([4,5])\n",
    "vector"
   ]
  },
  {
   "cell_type": "code",
   "execution_count": 8,
   "id": "410e85c5",
   "metadata": {},
   "outputs": [
    {
     "data": {
      "text/plain": [
       "1"
      ]
     },
     "execution_count": 8,
     "metadata": {},
     "output_type": "execute_result"
    }
   ],
   "source": [
    " vector.ndim"
   ]
  },
  {
   "cell_type": "code",
   "execution_count": 11,
   "id": "6dfaf2a3",
   "metadata": {},
   "outputs": [
    {
     "data": {
      "text/plain": [
       "<tf.Tensor: shape=(2, 3), dtype=int32, numpy=\n",
       "array([[1, 2, 3],\n",
       "       [1, 2, 3]], dtype=int32)>"
      ]
     },
     "execution_count": 11,
     "metadata": {},
     "output_type": "execute_result"
    }
   ],
   "source": [
    "matrix = tf.constant([[1,2,3],[1,2,3]])\n",
    "\n",
    "matrix"
   ]
  },
  {
   "cell_type": "code",
   "execution_count": 12,
   "id": "818cc24f",
   "metadata": {},
   "outputs": [
    {
     "data": {
      "text/plain": [
       "2"
      ]
     },
     "execution_count": 12,
     "metadata": {},
     "output_type": "execute_result"
    }
   ],
   "source": [
    "matrix.ndim"
   ]
  },
  {
   "cell_type": "code",
   "execution_count": 13,
   "id": "3b250291",
   "metadata": {},
   "outputs": [],
   "source": [
    "# create another matrix\n",
    "\n",
    "another_tensor = tf.constant([[10,7],[3,4],[7,8]], dtype = tf.float16)"
   ]
  },
  {
   "cell_type": "code",
   "execution_count": 14,
   "id": "e7cf1b88",
   "metadata": {},
   "outputs": [
    {
     "data": {
      "text/plain": [
       "2"
      ]
     },
     "execution_count": 14,
     "metadata": {},
     "output_type": "execute_result"
    }
   ],
   "source": [
    "another_tensor.ndim"
   ]
  },
  {
   "cell_type": "code",
   "execution_count": 16,
   "id": "07c30437",
   "metadata": {},
   "outputs": [
    {
     "data": {
      "text/plain": [
       "<tf.Tensor: shape=(3, 2), dtype=float16, numpy=\n",
       "array([[10.,  7.],\n",
       "       [ 3.,  4.],\n",
       "       [ 7.,  8.]], dtype=float16)>"
      ]
     },
     "execution_count": 16,
     "metadata": {},
     "output_type": "execute_result"
    }
   ],
   "source": [
    "another_tensor"
   ]
  },
  {
   "cell_type": "code",
   "execution_count": 18,
   "id": "b1ec8323",
   "metadata": {},
   "outputs": [
    {
     "data": {
      "text/plain": [
       "2"
      ]
     },
     "execution_count": 18,
     "metadata": {},
     "output_type": "execute_result"
    }
   ],
   "source": [
    "# what do you think the number of dimension is for anther matrix\n",
    "\n",
    "another_tensor.ndim"
   ]
  },
  {
   "cell_type": "code",
   "execution_count": 26,
   "id": "037c3e38",
   "metadata": {},
   "outputs": [
    {
     "data": {
      "text/plain": [
       "<tf.Tensor: shape=(2, 2, 3), dtype=int32, numpy=\n",
       "array([[[1, 2, 3],\n",
       "        [4, 5, 6]],\n",
       "\n",
       "       [[6, 7, 8],\n",
       "        [3, 4, 5]]], dtype=int32)>"
      ]
     },
     "execution_count": 26,
     "metadata": {},
     "output_type": "execute_result"
    }
   ],
   "source": [
    "tensor= tf.constant([[[1,2,3],[4,5,6]],[[6,7,8],[3,4,5]]])\n",
    "\n",
    "tensor"
   ]
  },
  {
   "cell_type": "code",
   "execution_count": 27,
   "id": "d6fa71c7",
   "metadata": {},
   "outputs": [
    {
     "data": {
      "text/plain": [
       "3"
      ]
     },
     "execution_count": 27,
     "metadata": {},
     "output_type": "execute_result"
    }
   ],
   "source": [
    "tensor.ndim"
   ]
  },
  {
   "cell_type": "markdown",
   "id": "a7b97e1b",
   "metadata": {},
   "source": [
    "## create tensors with `tf.Variable`"
   ]
  },
  {
   "cell_type": "code",
   "execution_count": 46,
   "id": "10f387e9",
   "metadata": {},
   "outputs": [
    {
     "data": {
      "text/plain": [
       "(<tf.Variable 'Variable:0' shape=(2,) dtype=int32, numpy=array([10,  7], dtype=int32)>,\n",
       " <tf.Tensor: shape=(2,), dtype=int32, numpy=array([10,  7], dtype=int32)>)"
      ]
     },
     "execution_count": 46,
     "metadata": {},
     "output_type": "execute_result"
    }
   ],
   "source": [
    "# changeable tensor\n",
    "changeable_tensor = tf.Variable([10,7])\n",
    "unchangeable_tensor = tf.constant([10,7])\n",
    "\n",
    "changeable_tensor, unchangeable_tensor"
   ]
  },
  {
   "cell_type": "code",
   "execution_count": 47,
   "id": "8b280a25",
   "metadata": {},
   "outputs": [
    {
     "ename": "TypeError",
     "evalue": "'ResourceVariable' object does not support item assignment",
     "output_type": "error",
     "traceback": [
      "\u001b[0;31m---------------------------------------------------------------------------\u001b[0m",
      "\u001b[0;31mTypeError\u001b[0m                                 Traceback (most recent call last)",
      "\u001b[0;32m<ipython-input-47-d50dc7875b37>\u001b[0m in \u001b[0;36m<module>\u001b[0;34m\u001b[0m\n\u001b[1;32m      2\u001b[0m \u001b[0;31m# not working\u001b[0m\u001b[0;34m\u001b[0m\u001b[0;34m\u001b[0m\u001b[0;34m\u001b[0m\u001b[0m\n\u001b[1;32m      3\u001b[0m \u001b[0;34m\u001b[0m\u001b[0m\n\u001b[0;32m----> 4\u001b[0;31m \u001b[0mchangeable_tensor\u001b[0m\u001b[0;34m[\u001b[0m\u001b[0;36m0\u001b[0m\u001b[0;34m]\u001b[0m \u001b[0;34m=\u001b[0m \u001b[0;36m7\u001b[0m\u001b[0;34m\u001b[0m\u001b[0;34m\u001b[0m\u001b[0m\n\u001b[0m",
      "\u001b[0;31mTypeError\u001b[0m: 'ResourceVariable' object does not support item assignment"
     ]
    }
   ],
   "source": [
    "# try to change one of the elements in chaneable tensor\n",
    "# not working\n",
    "\n",
    "changeable_tensor[0] = 7"
   ]
  },
  {
   "cell_type": "code",
   "execution_count": 48,
   "id": "440cd15c",
   "metadata": {},
   "outputs": [
    {
     "data": {
      "text/plain": [
       "<tf.Variable 'UnreadVariable' shape=(2,) dtype=int32, numpy=array([7, 7], dtype=int32)>"
      ]
     },
     "execution_count": 48,
     "metadata": {},
     "output_type": "execute_result"
    }
   ],
   "source": [
    "# try .assign()\n",
    "\n",
    "changeable_tensor[0].assign(7)\n",
    "# changeable_tensor"
   ]
  },
  {
   "cell_type": "code",
   "execution_count": 52,
   "id": "d0e23c63",
   "metadata": {},
   "outputs": [
    {
     "ename": "AttributeError",
     "evalue": "'tensorflow.python.framework.ops.EagerTensor' object has no attribute 'assign'",
     "output_type": "error",
     "traceback": [
      "\u001b[0;31m---------------------------------------------------------------------------\u001b[0m",
      "\u001b[0;31mAttributeError\u001b[0m                            Traceback (most recent call last)",
      "\u001b[0;32m<ipython-input-52-c8c973b2e293>\u001b[0m in \u001b[0;36m<module>\u001b[0;34m\u001b[0m\n\u001b[0;32m----> 1\u001b[0;31m \u001b[0munchangeable_tensor\u001b[0m\u001b[0;34m[\u001b[0m\u001b[0;36m0\u001b[0m\u001b[0;34m]\u001b[0m\u001b[0;34m.\u001b[0m\u001b[0massign\u001b[0m\u001b[0;34m(\u001b[0m\u001b[0;36m7\u001b[0m\u001b[0;34m)\u001b[0m\u001b[0;34m\u001b[0m\u001b[0;34m\u001b[0m\u001b[0m\n\u001b[0m",
      "\u001b[0;31mAttributeError\u001b[0m: 'tensorflow.python.framework.ops.EagerTensor' object has no attribute 'assign'"
     ]
    }
   ],
   "source": [
    "unchangeable_tensor[0].assign(7)"
   ]
  },
  {
   "cell_type": "markdown",
   "id": "c9e18366",
   "metadata": {},
   "source": [
    "# creating random tensors"
   ]
  },
  {
   "cell_type": "code",
   "execution_count": 74,
   "id": "d48a20c9",
   "metadata": {},
   "outputs": [
    {
     "data": {
      "text/plain": [
       "(<tf.Tensor: shape=(3, 2), dtype=float32, numpy=\n",
       " array([[-0.7565803 , -0.06854702],\n",
       "        [ 0.07595026, -1.2573844 ],\n",
       "        [-0.23193763, -1.8107855 ]], dtype=float32)>,\n",
       " <tensorflow.python.ops.stateful_random_ops.Generator at 0x7f069fd8c040>,\n",
       " <tf.Tensor: shape=(3, 2), dtype=bool, numpy=\n",
       " array([[ True,  True],\n",
       "        [ True,  True],\n",
       "        [ True,  True]])>)"
      ]
     },
     "execution_count": 74,
     "metadata": {},
     "output_type": "execute_result"
    }
   ],
   "source": [
    "random_1  = tf.random.Generator.from_seed(42)\n",
    "random_1 = random_1.normal(shape = (3,2))\n",
    "\n",
    "random_2 = tf.random.Generator.from_seed(42)\n",
    "random_2_ = random_2.normal(shape = (3,2))\n",
    "\n",
    "random_1, random_2, random_1 == random_1"
   ]
  },
  {
   "cell_type": "code",
   "execution_count": 76,
   "id": "77febfe3",
   "metadata": {},
   "outputs": [
    {
     "data": {
      "text/plain": [
       "<tf.Tensor: shape=(5, 4), dtype=float32, numpy=\n",
       "array([[-0.7565803 , -0.06854702,  0.07595026, -1.2573844 ],\n",
       "       [-0.23193763, -1.8107855 ,  0.09988727, -0.50998646],\n",
       "       [-0.7535805 , -0.57166284,  0.1480774 , -0.23362993],\n",
       "       [-0.3522796 ,  0.40621263, -1.0523509 ,  1.2054597 ],\n",
       "       [ 1.6874489 , -0.4462975 , -2.3410842 ,  0.99009085]],\n",
       "      dtype=float32)>"
      ]
     },
     "execution_count": 76,
     "metadata": {},
     "output_type": "execute_result"
    }
   ],
   "source": [
    "random_3 = tf.random.Generator.from_seed(42)\n",
    "\n",
    "random_3 = random_3.normal(shape = (5,4))\n",
    "random_3"
   ]
  },
  {
   "cell_type": "code",
   "execution_count": 78,
   "id": "ee3deeaf",
   "metadata": {},
   "outputs": [
    {
     "data": {
      "text/plain": [
       "2"
      ]
     },
     "execution_count": 78,
     "metadata": {},
     "output_type": "execute_result"
    }
   ],
   "source": [
    "# shuffle a tensor\n",
    "not_shuffled = tf.constant([[10,7],[3,4],[2,5]])\n",
    "not_shuffled.ndim"
   ]
  },
  {
   "cell_type": "code",
   "execution_count": 79,
   "id": "2a19752c",
   "metadata": {},
   "outputs": [
    {
     "data": {
      "text/plain": [
       "<tf.Tensor: shape=(3, 2), dtype=int32, numpy=\n",
       "array([[10,  7],\n",
       "       [ 3,  4],\n",
       "       [ 2,  5]], dtype=int32)>"
      ]
     },
     "execution_count": 79,
     "metadata": {},
     "output_type": "execute_result"
    }
   ],
   "source": [
    "not_shuffled"
   ]
  },
  {
   "cell_type": "code",
   "execution_count": 85,
   "id": "18bf4462",
   "metadata": {},
   "outputs": [
    {
     "data": {
      "text/plain": [
       "<tf.Tensor: shape=(3, 2), dtype=int32, numpy=\n",
       "array([[10,  7],\n",
       "       [ 3,  4],\n",
       "       [ 2,  5]], dtype=int32)>"
      ]
     },
     "execution_count": 85,
     "metadata": {},
     "output_type": "execute_result"
    }
   ],
   "source": [
    "# shuffle our non shuffled tensor\n",
    "tf.random.shuffle(not_shuffled, seed = 9)"
   ]
  },
  {
   "cell_type": "code",
   "execution_count": 92,
   "id": "73a8659f",
   "metadata": {},
   "outputs": [
    {
     "data": {
      "text/plain": [
       "<tf.Tensor: shape=(3, 2), dtype=int32, numpy=\n",
       "array([[10,  7],\n",
       "       [ 3,  4],\n",
       "       [ 2,  5]], dtype=int32)>"
      ]
     },
     "execution_count": 92,
     "metadata": {},
     "output_type": "execute_result"
    }
   ],
   "source": [
    "tf.random.set_seed(42)\n",
    "\n",
    "tf.random.shuffle(not_shuffled, seed = 42)"
   ]
  },
  {
   "cell_type": "code",
   "execution_count": 99,
   "id": "8bcf57ec",
   "metadata": {},
   "outputs": [
    {
     "data": {
      "text/plain": [
       "<tf.Tensor: shape=(3, 2), dtype=int32, numpy=\n",
       "array([[10,  7],\n",
       "       [ 2,  5],\n",
       "       [ 3,  4]], dtype=int32)>"
      ]
     },
     "execution_count": 99,
     "metadata": {},
     "output_type": "execute_result"
    }
   ],
   "source": [
    "tf.random.set_seed(10)\n",
    "\n",
    "tf.random.shuffle(not_shuffled, seed = 10)"
   ]
  },
  {
   "cell_type": "code",
   "execution_count": 105,
   "id": "8afbd764",
   "metadata": {},
   "outputs": [],
   "source": [
    "rank_4 = tf.zeros(shape = (4,3,4, 10))"
   ]
  },
  {
   "cell_type": "code",
   "execution_count": 106,
   "id": "1d53956f",
   "metadata": {},
   "outputs": [
    {
     "data": {
      "text/plain": [
       "<tf.Tensor: shape=(4, 3, 4, 10), dtype=float32, numpy=\n",
       "array([[[[0., 0., 0., 0., 0., 0., 0., 0., 0., 0.],\n",
       "         [0., 0., 0., 0., 0., 0., 0., 0., 0., 0.],\n",
       "         [0., 0., 0., 0., 0., 0., 0., 0., 0., 0.],\n",
       "         [0., 0., 0., 0., 0., 0., 0., 0., 0., 0.]],\n",
       "\n",
       "        [[0., 0., 0., 0., 0., 0., 0., 0., 0., 0.],\n",
       "         [0., 0., 0., 0., 0., 0., 0., 0., 0., 0.],\n",
       "         [0., 0., 0., 0., 0., 0., 0., 0., 0., 0.],\n",
       "         [0., 0., 0., 0., 0., 0., 0., 0., 0., 0.]],\n",
       "\n",
       "        [[0., 0., 0., 0., 0., 0., 0., 0., 0., 0.],\n",
       "         [0., 0., 0., 0., 0., 0., 0., 0., 0., 0.],\n",
       "         [0., 0., 0., 0., 0., 0., 0., 0., 0., 0.],\n",
       "         [0., 0., 0., 0., 0., 0., 0., 0., 0., 0.]]],\n",
       "\n",
       "\n",
       "       [[[0., 0., 0., 0., 0., 0., 0., 0., 0., 0.],\n",
       "         [0., 0., 0., 0., 0., 0., 0., 0., 0., 0.],\n",
       "         [0., 0., 0., 0., 0., 0., 0., 0., 0., 0.],\n",
       "         [0., 0., 0., 0., 0., 0., 0., 0., 0., 0.]],\n",
       "\n",
       "        [[0., 0., 0., 0., 0., 0., 0., 0., 0., 0.],\n",
       "         [0., 0., 0., 0., 0., 0., 0., 0., 0., 0.],\n",
       "         [0., 0., 0., 0., 0., 0., 0., 0., 0., 0.],\n",
       "         [0., 0., 0., 0., 0., 0., 0., 0., 0., 0.]],\n",
       "\n",
       "        [[0., 0., 0., 0., 0., 0., 0., 0., 0., 0.],\n",
       "         [0., 0., 0., 0., 0., 0., 0., 0., 0., 0.],\n",
       "         [0., 0., 0., 0., 0., 0., 0., 0., 0., 0.],\n",
       "         [0., 0., 0., 0., 0., 0., 0., 0., 0., 0.]]],\n",
       "\n",
       "\n",
       "       [[[0., 0., 0., 0., 0., 0., 0., 0., 0., 0.],\n",
       "         [0., 0., 0., 0., 0., 0., 0., 0., 0., 0.],\n",
       "         [0., 0., 0., 0., 0., 0., 0., 0., 0., 0.],\n",
       "         [0., 0., 0., 0., 0., 0., 0., 0., 0., 0.]],\n",
       "\n",
       "        [[0., 0., 0., 0., 0., 0., 0., 0., 0., 0.],\n",
       "         [0., 0., 0., 0., 0., 0., 0., 0., 0., 0.],\n",
       "         [0., 0., 0., 0., 0., 0., 0., 0., 0., 0.],\n",
       "         [0., 0., 0., 0., 0., 0., 0., 0., 0., 0.]],\n",
       "\n",
       "        [[0., 0., 0., 0., 0., 0., 0., 0., 0., 0.],\n",
       "         [0., 0., 0., 0., 0., 0., 0., 0., 0., 0.],\n",
       "         [0., 0., 0., 0., 0., 0., 0., 0., 0., 0.],\n",
       "         [0., 0., 0., 0., 0., 0., 0., 0., 0., 0.]]],\n",
       "\n",
       "\n",
       "       [[[0., 0., 0., 0., 0., 0., 0., 0., 0., 0.],\n",
       "         [0., 0., 0., 0., 0., 0., 0., 0., 0., 0.],\n",
       "         [0., 0., 0., 0., 0., 0., 0., 0., 0., 0.],\n",
       "         [0., 0., 0., 0., 0., 0., 0., 0., 0., 0.]],\n",
       "\n",
       "        [[0., 0., 0., 0., 0., 0., 0., 0., 0., 0.],\n",
       "         [0., 0., 0., 0., 0., 0., 0., 0., 0., 0.],\n",
       "         [0., 0., 0., 0., 0., 0., 0., 0., 0., 0.],\n",
       "         [0., 0., 0., 0., 0., 0., 0., 0., 0., 0.]],\n",
       "\n",
       "        [[0., 0., 0., 0., 0., 0., 0., 0., 0., 0.],\n",
       "         [0., 0., 0., 0., 0., 0., 0., 0., 0., 0.],\n",
       "         [0., 0., 0., 0., 0., 0., 0., 0., 0., 0.],\n",
       "         [0., 0., 0., 0., 0., 0., 0., 0., 0., 0.]]]], dtype=float32)>"
      ]
     },
     "execution_count": 106,
     "metadata": {},
     "output_type": "execute_result"
    }
   ],
   "source": [
    "rank_4"
   ]
  },
  {
   "cell_type": "code",
   "execution_count": 107,
   "id": "15d3a6f0",
   "metadata": {},
   "outputs": [
    {
     "data": {
      "text/plain": [
       "4"
      ]
     },
     "execution_count": 107,
     "metadata": {},
     "output_type": "execute_result"
    }
   ],
   "source": [
    "rank_4.ndim"
   ]
  },
  {
   "cell_type": "code",
   "execution_count": 120,
   "id": "b0007945",
   "metadata": {},
   "outputs": [
    {
     "data": {
      "text/plain": [
       "<tf.Tensor: shape=(3, 4, 10), dtype=float32, numpy=\n",
       "array([[[0., 0., 0., 0., 0., 0., 0., 0., 0., 0.],\n",
       "        [0., 0., 0., 0., 0., 0., 0., 0., 0., 0.],\n",
       "        [0., 0., 0., 0., 0., 0., 0., 0., 0., 0.],\n",
       "        [0., 0., 0., 0., 0., 0., 0., 0., 0., 0.]],\n",
       "\n",
       "       [[0., 0., 0., 0., 0., 0., 0., 0., 0., 0.],\n",
       "        [0., 0., 0., 0., 0., 0., 0., 0., 0., 0.],\n",
       "        [0., 0., 0., 0., 0., 0., 0., 0., 0., 0.],\n",
       "        [0., 0., 0., 0., 0., 0., 0., 0., 0., 0.]],\n",
       "\n",
       "       [[0., 0., 0., 0., 0., 0., 0., 0., 0., 0.],\n",
       "        [0., 0., 0., 0., 0., 0., 0., 0., 0., 0.],\n",
       "        [0., 0., 0., 0., 0., 0., 0., 0., 0., 0.],\n",
       "        [0., 0., 0., 0., 0., 0., 0., 0., 0., 0.]]], dtype=float32)>"
      ]
     },
     "execution_count": 120,
     "metadata": {},
     "output_type": "execute_result"
    }
   ],
   "source": [
    "rank_4[0]"
   ]
  },
  {
   "cell_type": "code",
   "execution_count": 122,
   "id": "73f9da69",
   "metadata": {},
   "outputs": [
    {
     "data": {
      "text/plain": [
       "<tf.Tensor: shape=(), dtype=int32, numpy=480>"
      ]
     },
     "execution_count": 122,
     "metadata": {},
     "output_type": "execute_result"
    }
   ],
   "source": [
    "tf.size(rank_4)"
   ]
  },
  {
   "cell_type": "code",
   "execution_count": 142,
   "id": "199b3684",
   "metadata": {},
   "outputs": [
    {
     "data": {
      "text/plain": [
       "<tf.Tensor: shape=(3, 2), dtype=float32, numpy=\n",
       "array([[ 0.28183395,  2.3878284 ],\n",
       "       [ 2.2804048 , -0.308662  ],\n",
       "       [-0.4475815 , -0.807146  ]], dtype=float32)>"
      ]
     },
     "execution_count": 142,
     "metadata": {},
     "output_type": "execute_result"
    }
   ],
   "source": [
    "tf.random.set_seed(1)\n",
    "\n",
    "rank_2 = tf.random.normal(shape = (3,2), seed = 1)\n",
    "rank_2"
   ]
  },
  {
   "cell_type": "code",
   "execution_count": 140,
   "id": "92218c5c",
   "metadata": {},
   "outputs": [],
   "source": [
    "# create an extra axis at the beginning\n",
    "rank_2 = rank_2[tf.newaxis,...]\n",
    "\n",
    "rank_2 = rank_2[...,tf.newaxis]"
   ]
  },
  {
   "cell_type": "code",
   "execution_count": 141,
   "id": "010338a8",
   "metadata": {},
   "outputs": [
    {
     "data": {
      "text/plain": [
       "<tf.Tensor: shape=(1, 1, 3, 2, 1), dtype=float32, numpy=\n",
       "array([[[[[ 0.28183395],\n",
       "          [ 2.3878284 ]],\n",
       "\n",
       "         [[ 2.2804048 ],\n",
       "          [-0.308662  ]],\n",
       "\n",
       "         [[-0.4475815 ],\n",
       "          [-0.807146  ]]]]], dtype=float32)>"
      ]
     },
     "execution_count": 141,
     "metadata": {},
     "output_type": "execute_result"
    }
   ],
   "source": [
    "rank_2"
   ]
  },
  {
   "cell_type": "code",
   "execution_count": 148,
   "id": "f649cdc7",
   "metadata": {},
   "outputs": [
    {
     "data": {
      "text/plain": [
       "<tf.Tensor: shape=(1, 3, 2), dtype=float32, numpy=\n",
       "array([[[ 0.28183395,  2.3878284 ],\n",
       "        [ 2.2804048 , -0.308662  ],\n",
       "        [-0.4475815 , -0.807146  ]]], dtype=float32)>"
      ]
     },
     "execution_count": 148,
     "metadata": {},
     "output_type": "execute_result"
    }
   ],
   "source": [
    "# alternative to tf.newaxis\n",
    "\n",
    "tf.expand_dims(rank_2, axis = 0) # -1 means expand the last axis, 0 expand the zero axis"
   ]
  },
  {
   "cell_type": "markdown",
   "id": "b01ee83c",
   "metadata": {},
   "source": [
    "## Manipulating tensors"
   ]
  },
  {
   "cell_type": "code",
   "execution_count": 150,
   "id": "d62b7ca4",
   "metadata": {},
   "outputs": [
    {
     "data": {
      "text/plain": [
       "<tf.Tensor: shape=(2, 2), dtype=int32, numpy=\n",
       "array([[20, 17],\n",
       "       [13, 14]], dtype=int32)>"
      ]
     },
     "execution_count": 150,
     "metadata": {},
     "output_type": "execute_result"
    }
   ],
   "source": [
    "# add values using basic addition opertaor\n",
    "\n",
    "tensor = tf.constant([[10,7],[3,4]])\n",
    "tensor+10"
   ]
  },
  {
   "cell_type": "code",
   "execution_count": 152,
   "id": "365fa0c2",
   "metadata": {},
   "outputs": [
    {
     "data": {
      "text/plain": [
       "<tf.Tensor: shape=(2, 2), dtype=int32, numpy=\n",
       "array([[30, 27],\n",
       "       [23, 24]], dtype=int32)>"
      ]
     },
     "execution_count": 152,
     "metadata": {},
     "output_type": "execute_result"
    }
   ],
   "source": [
    "# the original tensor is unchanged\n",
    "# the only way to change is\n",
    "\n",
    "tensor = tensor+10\n",
    "tensor"
   ]
  },
  {
   "cell_type": "code",
   "execution_count": 153,
   "id": "47f15309",
   "metadata": {},
   "outputs": [
    {
     "data": {
      "text/plain": [
       "<tf.Tensor: shape=(2, 3), dtype=int32, numpy=\n",
       "array([[3, 4, 5],\n",
       "       [6, 7, 8]], dtype=int32)>"
      ]
     },
     "execution_count": 153,
     "metadata": {},
     "output_type": "execute_result"
    }
   ],
   "source": [
    "tensor2 = tf.constant([[3,4,5],[6,7,8]])\n",
    "tensor2"
   ]
  },
  {
   "cell_type": "code",
   "execution_count": 156,
   "id": "6effad80",
   "metadata": {},
   "outputs": [
    {
     "data": {
      "text/plain": [
       "<tf.Tensor: shape=(2, 3), dtype=int32, numpy=\n",
       "array([[13, 14, 15],\n",
       "       [16, 17, 18]], dtype=int32)>"
      ]
     },
     "execution_count": 156,
     "metadata": {},
     "output_type": "execute_result"
    }
   ],
   "source": [
    "# proof that the tensor doesn't change\n",
    "tensor2 + 10"
   ]
  },
  {
   "cell_type": "code",
   "execution_count": 157,
   "id": "b1e4a039",
   "metadata": {},
   "outputs": [
    {
     "data": {
      "text/plain": [
       "<tf.Tensor: shape=(2, 3), dtype=int32, numpy=\n",
       "array([[3, 4, 5],\n",
       "       [6, 7, 8]], dtype=int32)>"
      ]
     },
     "execution_count": 157,
     "metadata": {},
     "output_type": "execute_result"
    }
   ],
   "source": [
    "tensor2"
   ]
  },
  {
   "cell_type": "code",
   "execution_count": 159,
   "id": "ae712539",
   "metadata": {},
   "outputs": [
    {
     "data": {
      "text/plain": [
       "<tf.Tensor: shape=(2, 2), dtype=int32, numpy=\n",
       "array([[300, 270],\n",
       "       [230, 240]], dtype=int32)>"
      ]
     },
     "execution_count": 159,
     "metadata": {},
     "output_type": "execute_result"
    }
   ],
   "source": [
    "# multiplication\n",
    "\n",
    "tensor *10"
   ]
  },
  {
   "cell_type": "code",
   "execution_count": 160,
   "id": "2ad0e839",
   "metadata": {},
   "outputs": [
    {
     "data": {
      "text/plain": [
       "<tf.Tensor: shape=(2, 2), dtype=int32, numpy=\n",
       "array([[20, 17],\n",
       "       [13, 14]], dtype=int32)>"
      ]
     },
     "execution_count": 160,
     "metadata": {},
     "output_type": "execute_result"
    }
   ],
   "source": [
    "tensor-10"
   ]
  },
  {
   "cell_type": "code",
   "execution_count": 162,
   "id": "777570bc",
   "metadata": {},
   "outputs": [
    {
     "data": {
      "text/plain": [
       "<tf.Tensor: shape=(2, 2), dtype=int32, numpy=\n",
       "array([[300, 270],\n",
       "       [230, 240]], dtype=int32)>"
      ]
     },
     "execution_count": 162,
     "metadata": {},
     "output_type": "execute_result"
    }
   ],
   "source": [
    "# we can use the tensoflow builtin function tf.ma\n",
    "\n",
    "tf.multiply(tensor, 10)"
   ]
  },
  {
   "cell_type": "code",
   "execution_count": 163,
   "id": "fd0c404f",
   "metadata": {},
   "outputs": [
    {
     "data": {
      "text/plain": [
       "<tf.Tensor: shape=(2, 2), dtype=int32, numpy=\n",
       "array([[30, 27],\n",
       "       [23, 24]], dtype=int32)>"
      ]
     },
     "execution_count": 163,
     "metadata": {},
     "output_type": "execute_result"
    }
   ],
   "source": [
    "tensor"
   ]
  },
  {
   "cell_type": "markdown",
   "id": "7356ce8d",
   "metadata": {},
   "source": [
    "### Matrix multiplication"
   ]
  },
  {
   "cell_type": "code",
   "execution_count": 169,
   "id": "2f845610",
   "metadata": {},
   "outputs": [
    {
     "name": "stdout",
     "output_type": "stream",
     "text": [
      "tf.Tensor(\n",
      "[[30 27]\n",
      " [23 24]], shape=(2, 2), dtype=int32)\n"
     ]
    },
    {
     "data": {
      "text/plain": [
       "<tf.Tensor: shape=(2, 2), dtype=int32, numpy=\n",
       "array([[30, 27],\n",
       "       [23, 24]], dtype=int32)>"
      ]
     },
     "execution_count": 169,
     "metadata": {},
     "output_type": "execute_result"
    }
   ],
   "source": [
    "#  elementwise multiplicaton\n",
    "print(tensor)\n",
    "tensor*tensor\n",
    "\n",
    "tensor"
   ]
  },
  {
   "cell_type": "code",
   "execution_count": 164,
   "id": "bd2b628e",
   "metadata": {},
   "outputs": [
    {
     "name": "stdout",
     "output_type": "stream",
     "text": [
      "tf.Tensor(\n",
      "[[30 27]\n",
      " [23 24]], shape=(2, 2), dtype=int32)\n"
     ]
    },
    {
     "data": {
      "text/plain": [
       "<tf.Tensor: shape=(2, 2), dtype=int32, numpy=\n",
       "array([[1521, 1458],\n",
       "       [1242, 1197]], dtype=int32)>"
      ]
     },
     "execution_count": 164,
     "metadata": {},
     "output_type": "execute_result"
    }
   ],
   "source": [
    "# in machine learming matrix multiplication is a mmost common operation\n",
    "\n",
    "# matrix multiplication in tensorflow\n",
    "print(tensor)\n",
    "tf.matmul(tensor, tensor)"
   ]
  },
  {
   "cell_type": "code",
   "execution_count": 172,
   "id": "b60e4759",
   "metadata": {},
   "outputs": [
    {
     "data": {
      "text/plain": [
       "<tf.Tensor: shape=(2, 2), dtype=int32, numpy=\n",
       "array([[30, 27],\n",
       "       [23, 24]], dtype=int32)>"
      ]
     },
     "execution_count": 172,
     "metadata": {},
     "output_type": "execute_result"
    }
   ],
   "source": [
    "# matrix multiplication witth python we use \"@\"\n",
    "tensor@tensor\n",
    "tensor"
   ]
  },
  {
   "cell_type": "code",
   "execution_count": 173,
   "id": "ee828900",
   "metadata": {},
   "outputs": [],
   "source": [
    "# create a tensor"
   ]
  },
  {
   "cell_type": "code",
   "execution_count": 175,
   "id": "28305c71",
   "metadata": {},
   "outputs": [
    {
     "data": {
      "text/plain": [
       "<tf.Tensor: shape=(2, 2), dtype=int32, numpy=\n",
       "array([[30, 27],\n",
       "       [23, 24]], dtype=int32)>"
      ]
     },
     "execution_count": 175,
     "metadata": {},
     "output_type": "execute_result"
    }
   ],
   "source": [
    "#  let's change the shape\n",
    "\n",
    "tf.reshape(tensor, shape = (1,4))\n",
    "tensor"
   ]
  },
  {
   "cell_type": "code",
   "execution_count": 179,
   "id": "7038a976",
   "metadata": {},
   "outputs": [
    {
     "data": {
      "text/plain": [
       "<tf.Tensor: shape=(2, 2), dtype=int32, numpy=\n",
       "array([[30, 23],\n",
       "       [27, 24]], dtype=int32)>"
      ]
     },
     "execution_count": 179,
     "metadata": {},
     "output_type": "execute_result"
    }
   ],
   "source": [
    "tf.transpose(tensor)"
   ]
  },
  {
   "cell_type": "code",
   "execution_count": 178,
   "id": "5206bb82",
   "metadata": {},
   "outputs": [
    {
     "data": {
      "text/plain": [
       "<tf.Tensor: shape=(2, 2), dtype=int32, numpy=\n",
       "array([[30, 27],\n",
       "       [23, 24]], dtype=int32)>"
      ]
     },
     "execution_count": 178,
     "metadata": {},
     "output_type": "execute_result"
    }
   ],
   "source": [
    "tensor"
   ]
  },
  {
   "cell_type": "markdown",
   "id": "6ae6eb4f",
   "metadata": {},
   "source": [
    "## The dot product\n",
    "- Matrix multiplication is also reffered to as dot product\n",
    "- `tf.matmul()`\n",
    "- `tf.tensordot()`"
   ]
  },
  {
   "cell_type": "code",
   "execution_count": 181,
   "id": "0f5d4cac",
   "metadata": {},
   "outputs": [
    {
     "data": {
      "text/plain": [
       "(<tf.Tensor: shape=(3, 2), dtype=int32, numpy=\n",
       " array([[1, 2],\n",
       "        [3, 4],\n",
       "        [5, 6]], dtype=int32)>,\n",
       " <tf.Tensor: shape=(3, 2), dtype=int32, numpy=\n",
       " array([[ 7,  8],\n",
       "        [ 9, 10],\n",
       "        [11, 12]], dtype=int32)>)"
      ]
     },
     "execution_count": 181,
     "metadata": {},
     "output_type": "execute_result"
    }
   ],
   "source": [
    "X = tf.constant([[1,2],[3,4],[5,6]])\n",
    "y = tf.constant([[7,8],[9,10],[11,12]])\n",
    "X, y"
   ]
  },
  {
   "cell_type": "code",
   "execution_count": 184,
   "id": "078c382d",
   "metadata": {},
   "outputs": [
    {
     "data": {
      "text/plain": [
       "<tf.Tensor: shape=(2, 2), dtype=int32, numpy=\n",
       "array([[ 89,  98],\n",
       "       [116, 128]], dtype=int32)>"
      ]
     },
     "execution_count": 184,
     "metadata": {},
     "output_type": "execute_result"
    }
   ],
   "source": [
    "#  Peform the dot produuct on X and y , This requires X or y to be transppose\n",
    "tf.tensordot(tf.transpose(X), y, axes = 1)"
   ]
  },
  {
   "cell_type": "code",
   "execution_count": 186,
   "id": "4b5abeba",
   "metadata": {},
   "outputs": [
    {
     "data": {
      "text/plain": [
       "<tf.Tensor: shape=(2, 2), dtype=int32, numpy=\n",
       "array([[ 89,  98],\n",
       "       [116, 128]], dtype=int32)>"
      ]
     },
     "execution_count": 186,
     "metadata": {},
     "output_type": "execute_result"
    }
   ],
   "source": [
    "tf.matmul(tf.transpose(X),y)"
   ]
  },
  {
   "cell_type": "code",
   "execution_count": 191,
   "id": "fddf593c",
   "metadata": {},
   "outputs": [
    {
     "data": {
      "text/plain": [
       "<tf.Variable 'Variable:0' shape=(1,) dtype=float32, numpy=array([9907988.], dtype=float32)>"
      ]
     },
     "execution_count": 191,
     "metadata": {},
     "output_type": "execute_result"
    }
   ],
   "source": [
    "c = tf.Variable([9907987.8897898087776])\n",
    "c"
   ]
  },
  {
   "cell_type": "code",
   "execution_count": 196,
   "id": "c1ca856c",
   "metadata": {},
   "outputs": [
    {
     "data": {
      "text/plain": [
       "tf.float32"
      ]
     },
     "execution_count": 196,
     "metadata": {},
     "output_type": "execute_result"
    }
   ],
   "source": [
    "# change from float32 to float26; called reduced precision\n",
    "c = tf.constant([7,10])\n",
    "b  = tf.cast(c, dtype = tf.float32)\n",
    "b.dtype"
   ]
  },
  {
   "cell_type": "code",
   "execution_count": 199,
   "id": "5a8dd748",
   "metadata": {},
   "outputs": [
    {
     "data": {
      "text/plain": [
       "tf.float16"
      ]
     },
     "execution_count": 199,
     "metadata": {},
     "output_type": "execute_result"
    }
   ],
   "source": [
    "# change from int32 to float32\n",
    "g = tf.constant([3,5])\n",
    "g = tf.cast(g, dtype = tf.float16)\n",
    "g.dtype"
   ]
  },
  {
   "cell_type": "markdown",
   "id": "4e95a31a",
   "metadata": {},
   "source": [
    "## Aggregating tensors\n",
    "\n",
    "Agregating tensors = condensing them from multipe values down to a smaller amoubt of values"
   ]
  },
  {
   "cell_type": "code",
   "execution_count": null,
   "id": "5f469915",
   "metadata": {},
   "outputs": [],
   "source": []
  },
  {
   "cell_type": "code",
   "execution_count": 200,
   "id": "2977de25",
   "metadata": {},
   "outputs": [],
   "source": [
    "#  Get the absolute values\n",
    "d = tf.constant([--7,-10])"
   ]
  },
  {
   "cell_type": "code",
   "execution_count": 201,
   "id": "5ab09ba9",
   "metadata": {},
   "outputs": [
    {
     "data": {
      "text/plain": [
       "<tf.Tensor: shape=(2,), dtype=int32, numpy=array([ 7, 10], dtype=int32)>"
      ]
     },
     "execution_count": 201,
     "metadata": {},
     "output_type": "execute_result"
    }
   ],
   "source": [
    "# get the absolute value\n",
    "tf.abs(d)"
   ]
  },
  {
   "cell_type": "markdown",
   "id": "67e6e39d",
   "metadata": {},
   "source": [
    "#### lets's vo through the d==following forms of aggregation\n",
    "- get thew minimum\n",
    "- get the maximum\n",
    "- get the mean of a tensor"
   ]
  },
  {
   "cell_type": "code",
   "execution_count": 202,
   "id": "6ebe8855",
   "metadata": {},
   "outputs": [],
   "source": [
    "import numpy as np"
   ]
  },
  {
   "cell_type": "code",
   "execution_count": 204,
   "id": "2e8a3dd7",
   "metadata": {},
   "outputs": [],
   "source": [
    "#  create a random tensor with vales btw zero and hundred\n",
    "\n",
    "e = tf.constant(np.random.randint(0,100, size = 50))"
   ]
  },
  {
   "cell_type": "code",
   "execution_count": 206,
   "id": "46456dc4",
   "metadata": {},
   "outputs": [
    {
     "data": {
      "text/plain": [
       "tf.int64"
      ]
     },
     "execution_count": 206,
     "metadata": {},
     "output_type": "execute_result"
    }
   ],
   "source": [
    "e.dtype"
   ]
  },
  {
   "cell_type": "code",
   "execution_count": 207,
   "id": "0af9afc3",
   "metadata": {},
   "outputs": [
    {
     "data": {
      "text/plain": [
       "TensorShape([50])"
      ]
     },
     "execution_count": 207,
     "metadata": {},
     "output_type": "execute_result"
    }
   ],
   "source": [
    "e.shape"
   ]
  },
  {
   "cell_type": "code",
   "execution_count": 208,
   "id": "7ed5d2e0",
   "metadata": {},
   "outputs": [
    {
     "data": {
      "text/plain": [
       "1"
      ]
     },
     "execution_count": 208,
     "metadata": {},
     "output_type": "execute_result"
    }
   ],
   "source": [
    "e.ndim"
   ]
  },
  {
   "cell_type": "code",
   "execution_count": 210,
   "id": "d972c58a",
   "metadata": {},
   "outputs": [
    {
     "data": {
      "text/plain": [
       "<tf.Tensor: shape=(), dtype=int32, numpy=50>"
      ]
     },
     "execution_count": 210,
     "metadata": {},
     "output_type": "execute_result"
    }
   ],
   "source": [
    "tf.size(e)"
   ]
  },
  {
   "cell_type": "code",
   "execution_count": 211,
   "id": "1518ca22",
   "metadata": {
    "scrolled": true
   },
   "outputs": [
    {
     "data": {
      "text/plain": [
       "<tf.Tensor: shape=(), dtype=int64, numpy=0>"
      ]
     },
     "execution_count": 211,
     "metadata": {},
     "output_type": "execute_result"
    }
   ],
   "source": [
    "#  Find the min\n",
    "tf.reduce_min(e)"
   ]
  },
  {
   "cell_type": "code",
   "execution_count": 212,
   "id": "326a20d1",
   "metadata": {},
   "outputs": [
    {
     "data": {
      "text/plain": [
       "<tf.Tensor: shape=(50,), dtype=int64, numpy=\n",
       "array([25, 37, 99, 42, 48, 13, 23,  1, 20,  3,  6, 23, 11, 63, 56, 39, 25,\n",
       "       12, 95, 82, 76, 86, 81, 24, 18, 88, 79, 56, 93, 50, 65, 67, 62, 83,\n",
       "       86, 87, 41, 16, 50, 39, 48, 33,  0, 22, 62, 84, 89, 47, 14, 12])>"
      ]
     },
     "execution_count": 212,
     "metadata": {},
     "output_type": "execute_result"
    }
   ],
   "source": [
    "e"
   ]
  },
  {
   "cell_type": "code",
   "execution_count": 213,
   "id": "6d3d9e6a",
   "metadata": {},
   "outputs": [
    {
     "data": {
      "text/plain": [
       "<tf.Tensor: shape=(), dtype=int64, numpy=99>"
      ]
     },
     "execution_count": 213,
     "metadata": {},
     "output_type": "execute_result"
    }
   ],
   "source": [
    "#  find the max\n",
    "\n",
    "tf.reduce_max(e)"
   ]
  },
  {
   "cell_type": "code",
   "execution_count": 216,
   "id": "ad282dbf",
   "metadata": {},
   "outputs": [
    {
     "data": {
      "text/plain": [
       "<tf.Tensor: shape=(), dtype=int64, numpy=47>"
      ]
     },
     "execution_count": 216,
     "metadata": {},
     "output_type": "execute_result"
    }
   ],
   "source": [
    "#  find the mean\n",
    "tf.reduce_mean(e)"
   ]
  },
  {
   "cell_type": "code",
   "execution_count": 217,
   "id": "b5f60b01",
   "metadata": {},
   "outputs": [
    {
     "data": {
      "text/plain": [
       "<tf.Tensor: shape=(), dtype=int64, numpy=2381>"
      ]
     },
     "execution_count": 217,
     "metadata": {},
     "output_type": "execute_result"
    }
   ],
   "source": [
    "#  find the sum\n",
    "tf.reduce_sum(e)"
   ]
  },
  {
   "cell_type": "markdown",
   "id": "f5947d26",
   "metadata": {},
   "source": [
    "********find the variance and std of our e tensor in our e tensor**"
   ]
  },
  {
   "cell_type": "code",
   "execution_count": 219,
   "id": "9d738c2a",
   "metadata": {},
   "outputs": [],
   "source": [
    "import tensorflow_probability as tfp"
   ]
  },
  {
   "cell_type": "code",
   "execution_count": 221,
   "id": "00036b19",
   "metadata": {},
   "outputs": [
    {
     "ename": "AttributeError",
     "evalue": "module 'tensorflow' has no attribute 'reduce_variance'",
     "output_type": "error",
     "traceback": [
      "\u001b[0;31m---------------------------------------------------------------------------\u001b[0m",
      "\u001b[0;31mAttributeError\u001b[0m                            Traceback (most recent call last)",
      "\u001b[0;32m<ipython-input-221-b86cf40222de>\u001b[0m in \u001b[0;36m<module>\u001b[0;34m\u001b[0m\n\u001b[1;32m      1\u001b[0m \u001b[0;31m#  wont work\u001b[0m\u001b[0;34m\u001b[0m\u001b[0;34m\u001b[0m\u001b[0;34m\u001b[0m\u001b[0m\n\u001b[0;32m----> 2\u001b[0;31m \u001b[0mtf\u001b[0m\u001b[0;34m.\u001b[0m\u001b[0mreduce_variance\u001b[0m\u001b[0;34m(\u001b[0m\u001b[0me\u001b[0m\u001b[0;34m)\u001b[0m\u001b[0;34m\u001b[0m\u001b[0;34m\u001b[0m\u001b[0m\n\u001b[0m",
      "\u001b[0;31mAttributeError\u001b[0m: module 'tensorflow' has no attribute 'reduce_variance'"
     ]
    }
   ],
   "source": [
    "#  wont work\n",
    "tf.reduce_variance(e)"
   ]
  },
  {
   "cell_type": "code",
   "execution_count": 222,
   "id": "c7a81fd0",
   "metadata": {},
   "outputs": [
    {
     "data": {
      "text/plain": [
       "<tf.Tensor: shape=(), dtype=int64, numpy=879>"
      ]
     },
     "execution_count": 222,
     "metadata": {},
     "output_type": "execute_result"
    }
   ],
   "source": [
    "#  find the variance\n",
    "\n",
    "tfp.stats.variance(e)\n"
   ]
  },
  {
   "cell_type": "code",
   "execution_count": 232,
   "id": "ca07f220",
   "metadata": {},
   "outputs": [
    {
     "data": {
      "text/plain": [
       "<tf.Tensor: shape=(), dtype=float32, numpy=878.75555>"
      ]
     },
     "execution_count": 232,
     "metadata": {},
     "output_type": "execute_result"
    }
   ],
   "source": [
    "#  variance\n",
    "tf.math.reduce_variance(tf.cast(e, dtype = tf.float32 ))"
   ]
  },
  {
   "cell_type": "code",
   "execution_count": 226,
   "id": "80f2613b",
   "metadata": {},
   "outputs": [
    {
     "data": {
      "text/plain": [
       "<tf.Tensor: shape=(), dtype=float32, numpy=29.643812>"
      ]
     },
     "execution_count": 226,
     "metadata": {},
     "output_type": "execute_result"
    }
   ],
   "source": [
    "#  Find the std\n",
    "tf.math.reduce_std(tf.cast(e,dtype = tf.float32))"
   ]
  },
  {
   "cell_type": "markdown",
   "id": "30543dd1",
   "metadata": {},
   "source": [
    "*** Find the positional maximum and minimum of a tensor***"
   ]
  },
  {
   "cell_type": "code",
   "execution_count": 240,
   "id": "2126b46f",
   "metadata": {},
   "outputs": [
    {
     "data": {
      "text/plain": [
       "<tf.Tensor: shape=(50,), dtype=float32, numpy=\n",
       "array([0.35557675, 0.04640651, 0.4299122 , 0.06953716, 0.6977596 ,\n",
       "       0.14093244, 0.27604806, 0.0883975 , 0.26191568, 0.8146517 ,\n",
       "       0.64363575, 0.47054517, 0.15543795, 0.7185929 , 0.09850168,\n",
       "       0.31211555, 0.33725405, 0.7131622 , 0.24237263, 0.7147795 ,\n",
       "       0.28028512, 0.37993717, 0.3871237 , 0.658684  , 0.9236132 ,\n",
       "       0.69641876, 0.05440629, 0.8219104 , 0.71466625, 0.5205053 ,\n",
       "       0.698874  , 0.50196886, 0.73813415, 0.8705375 , 0.05154383,\n",
       "       0.22742355, 0.12300825, 0.90719306, 0.36541235, 0.5586027 ,\n",
       "       0.07865596, 0.2738738 , 0.11129963, 0.33042562, 0.9850422 ,\n",
       "       0.1550417 , 0.07874548, 0.55022097, 0.444548  , 0.17932427],\n",
       "      dtype=float32)>"
      ]
     },
     "execution_count": 240,
     "metadata": {},
     "output_type": "execute_result"
    }
   ],
   "source": [
    "#  create a new tensor \n",
    "tf.random.set_seed(8)\n",
    "\n",
    "f = tf.random.uniform(shape = [50], seed = 8)\n",
    "f"
   ]
  },
  {
   "cell_type": "code",
   "execution_count": 241,
   "id": "9fbaae87",
   "metadata": {},
   "outputs": [
    {
     "data": {
      "text/plain": [
       "<tf.Tensor: shape=(), dtype=int64, numpy=44>"
      ]
     },
     "execution_count": 241,
     "metadata": {},
     "output_type": "execute_result"
    }
   ],
   "source": [
    "#  find the positional max \n",
    "tf.argmax(f)"
   ]
  },
  {
   "cell_type": "code",
   "execution_count": 242,
   "id": "7f1f386d",
   "metadata": {},
   "outputs": [
    {
     "data": {
      "text/plain": [
       "<tf.Tensor: shape=(), dtype=float32, numpy=0.9850422>"
      ]
     },
     "execution_count": 242,
     "metadata": {},
     "output_type": "execute_result"
    }
   ],
   "source": [
    "#  index on our largest value posision\n",
    "f[tf.argmax(f)]"
   ]
  },
  {
   "cell_type": "code",
   "execution_count": 244,
   "id": "3b921c7a",
   "metadata": {},
   "outputs": [
    {
     "data": {
      "text/plain": [
       "<tf.Tensor: shape=(), dtype=float32, numpy=0.9850422>"
      ]
     },
     "execution_count": 244,
     "metadata": {},
     "output_type": "execute_result"
    }
   ],
   "source": [
    "#  find the max value of f\n",
    "tf.reduce_max(f)"
   ]
  },
  {
   "cell_type": "code",
   "execution_count": 246,
   "id": "15b75e12",
   "metadata": {},
   "outputs": [],
   "source": [
    "# check for equality\n",
    "assert f[tf.argmax(f)] == tf.reduce_max(f)"
   ]
  },
  {
   "cell_type": "code",
   "execution_count": 247,
   "id": "f61e18b0",
   "metadata": {},
   "outputs": [
    {
     "data": {
      "text/plain": [
       "<tf.Tensor: shape=(), dtype=int64, numpy=1>"
      ]
     },
     "execution_count": 247,
     "metadata": {},
     "output_type": "execute_result"
    }
   ],
   "source": [
    "# find the pos mnimum\n",
    "tf.argmin(f)"
   ]
  },
  {
   "cell_type": "code",
   "execution_count": 249,
   "id": "f326bc58",
   "metadata": {},
   "outputs": [
    {
     "data": {
      "text/plain": [
       "<tf.Tensor: shape=(), dtype=float32, numpy=0.046406507>"
      ]
     },
     "execution_count": 249,
     "metadata": {},
     "output_type": "execute_result"
    }
   ],
   "source": [
    "f[tf.argmin(f)]"
   ]
  },
  {
   "cell_type": "code",
   "execution_count": 255,
   "id": "2548d70a",
   "metadata": {},
   "outputs": [
    {
     "data": {
      "text/plain": [
       "<tf.Tensor: shape=(1, 1, 1, 50), dtype=float32, numpy=\n",
       "array([[[[0.3654405 , 0.33800936, 0.58849275, 0.38295197, 0.03967929,\n",
       "          0.7868792 , 0.86955893, 0.41382527, 0.57872975, 0.4035679 ,\n",
       "          0.3268162 , 0.7909788 , 0.84162605, 0.5040089 , 0.64847255,\n",
       "          0.855749  , 0.0896858 , 0.5986353 , 0.27876437, 0.10400105,\n",
       "          0.5209594 , 0.12287998, 0.82404053, 0.12953532, 0.43485928,\n",
       "          0.45827782, 0.3759321 , 0.5020915 , 0.06105852, 0.6359985 ,\n",
       "          0.68580365, 0.22726703, 0.8691689 , 0.71161187, 0.38431954,\n",
       "          0.58297825, 0.5733441 , 0.3017658 , 0.26428688, 0.17978573,\n",
       "          0.17696989, 0.29042315, 0.77083623, 0.14604008, 0.8028511 ,\n",
       "          0.85627604, 0.7079444 , 0.4913106 , 0.7064265 , 0.6764469 ]]]],\n",
       "      dtype=float32)>"
      ]
     },
     "execution_count": 255,
     "metadata": {},
     "output_type": "execute_result"
    }
   ],
   "source": [
    "### Squezing a tensor (removing all the single dimensions)\n",
    "\n",
    "g = tf.constant(tf.random.uniform(shape = [50]),shape = (1,1,1,50))\n",
    "g"
   ]
  },
  {
   "cell_type": "code",
   "execution_count": 257,
   "id": "2b7ac43a",
   "metadata": {},
   "outputs": [
    {
     "data": {
      "text/plain": [
       "4"
      ]
     },
     "execution_count": 257,
     "metadata": {},
     "output_type": "execute_result"
    }
   ],
   "source": [
    "g.ndim"
   ]
  },
  {
   "cell_type": "code",
   "execution_count": 258,
   "id": "d6dc1397",
   "metadata": {},
   "outputs": [
    {
     "data": {
      "text/plain": [
       "TensorShape([1, 1, 1, 50])"
      ]
     },
     "execution_count": 258,
     "metadata": {},
     "output_type": "execute_result"
    }
   ],
   "source": [
    "g.shape"
   ]
  },
  {
   "cell_type": "code",
   "execution_count": 260,
   "id": "172b0076",
   "metadata": {},
   "outputs": [
    {
     "data": {
      "text/plain": [
       "TensorShape([50])"
      ]
     },
     "execution_count": 260,
     "metadata": {},
     "output_type": "execute_result"
    }
   ],
   "source": [
    "g_squezed = tf.squeeze(g)\n",
    "g_squezed.shape"
   ]
  },
  {
   "cell_type": "code",
   "execution_count": 261,
   "id": "65a15dc2",
   "metadata": {},
   "outputs": [
    {
     "data": {
      "text/plain": [
       "1"
      ]
     },
     "execution_count": 261,
     "metadata": {},
     "output_type": "execute_result"
    }
   ],
   "source": [
    "g_squezed.ndim"
   ]
  },
  {
   "cell_type": "markdown",
   "id": "2bc2a1ca",
   "metadata": {},
   "source": [
    "### One hot encoding"
   ]
  },
  {
   "cell_type": "code",
   "execution_count": 264,
   "id": "91602c8b",
   "metadata": {},
   "outputs": [
    {
     "data": {
      "text/plain": [
       "<tf.Tensor: shape=(5, 5), dtype=float32, numpy=\n",
       "array([[1., 0., 0., 0., 0.],\n",
       "       [0., 0., 1., 0., 0.],\n",
       "       [0., 0., 0., 1., 0.],\n",
       "       [0., 0., 0., 0., 1.],\n",
       "       [0., 0., 0., 0., 0.]], dtype=float32)>"
      ]
     },
     "execution_count": 264,
     "metadata": {},
     "output_type": "execute_result"
    }
   ],
   "source": [
    "#   create a list of indexes\n",
    "\n",
    "some_list = [0,2,3,4,5]\n",
    "tf.one_hot(some_list, depth = 5)"
   ]
  },
  {
   "cell_type": "code",
   "execution_count": 267,
   "id": "7d1404f8",
   "metadata": {},
   "outputs": [
    {
     "data": {
      "text/plain": [
       "<tf.Tensor: shape=(5, 5), dtype=string, numpy=\n",
       "array([[b'Range lexus bentley lamborghini',\n",
       "        b'mercedese bmw dodge audi royce',\n",
       "        b'mercedese bmw dodge audi royce',\n",
       "        b'mercedese bmw dodge audi royce',\n",
       "        b'mercedese bmw dodge audi royce'],\n",
       "       [b'mercedese bmw dodge audi royce',\n",
       "        b'mercedese bmw dodge audi royce',\n",
       "        b'Range lexus bentley lamborghini',\n",
       "        b'mercedese bmw dodge audi royce',\n",
       "        b'mercedese bmw dodge audi royce'],\n",
       "       [b'mercedese bmw dodge audi royce',\n",
       "        b'mercedese bmw dodge audi royce',\n",
       "        b'mercedese bmw dodge audi royce',\n",
       "        b'Range lexus bentley lamborghini',\n",
       "        b'mercedese bmw dodge audi royce'],\n",
       "       [b'mercedese bmw dodge audi royce',\n",
       "        b'mercedese bmw dodge audi royce',\n",
       "        b'mercedese bmw dodge audi royce',\n",
       "        b'mercedese bmw dodge audi royce',\n",
       "        b'Range lexus bentley lamborghini'],\n",
       "       [b'mercedese bmw dodge audi royce',\n",
       "        b'mercedese bmw dodge audi royce',\n",
       "        b'mercedese bmw dodge audi royce',\n",
       "        b'mercedese bmw dodge audi royce',\n",
       "        b'mercedese bmw dodge audi royce']], dtype=object)>"
      ]
     },
     "execution_count": 267,
     "metadata": {},
     "output_type": "execute_result"
    }
   ],
   "source": [
    "#  pecify xcustom values for one one hot encode\n",
    "tf.one_hot(some_list, depth = 5, on_value = \"Range lexus bentley lamborghini\", off_value = \"mercedese bmw dodge audi royce\")"
   ]
  },
  {
   "cell_type": "markdown",
   "id": "6a38ab64",
   "metadata": {},
   "source": [
    "### a few common math operations\n"
   ]
  },
  {
   "cell_type": "code",
   "execution_count": 270,
   "id": "09ac5ded",
   "metadata": {},
   "outputs": [
    {
     "data": {
      "text/plain": [
       "<tf.Tensor: shape=(9,), dtype=int32, numpy=array([1, 2, 3, 4, 5, 6, 7, 8, 9], dtype=int32)>"
      ]
     },
     "execution_count": 270,
     "metadata": {},
     "output_type": "execute_result"
    }
   ],
   "source": [
    "#  create a new tensor\n",
    "\n",
    "h = tf.range(1,10)\n",
    "h"
   ]
  },
  {
   "cell_type": "code",
   "execution_count": 271,
   "id": "59a49574",
   "metadata": {},
   "outputs": [
    {
     "data": {
      "text/plain": [
       "<tf.Tensor: shape=(9,), dtype=int32, numpy=array([ 1,  4,  9, 16, 25, 36, 49, 64, 81], dtype=int32)>"
      ]
     },
     "execution_count": 271,
     "metadata": {},
     "output_type": "execute_result"
    }
   ],
   "source": [
    "tf.square(h)"
   ]
  },
  {
   "cell_type": "code",
   "execution_count": 274,
   "id": "f55c91ca",
   "metadata": {},
   "outputs": [
    {
     "data": {
      "text/plain": [
       "<tf.Tensor: shape=(9,), dtype=float32, numpy=\n",
       "array([0.99999994, 1.4142134 , 1.7320508 , 1.9999999 , 2.236068  ,\n",
       "       2.4494896 , 2.6457512 , 2.8284268 , 3.        ], dtype=float32)>"
      ]
     },
     "execution_count": 274,
     "metadata": {},
     "output_type": "execute_result"
    }
   ],
   "source": [
    "tf.sqrt(tf.cast(h, dtype = tf.float32))"
   ]
  },
  {
   "cell_type": "code",
   "execution_count": 276,
   "id": "dcc2d98b",
   "metadata": {},
   "outputs": [
    {
     "data": {
      "text/plain": [
       "<tf.Tensor: shape=(9,), dtype=float32, numpy=\n",
       "array([0.       , 0.6931472, 1.0986123, 1.3862944, 1.609438 , 1.7917595,\n",
       "       1.9459102, 2.0794415, 2.1972246], dtype=float32)>"
      ]
     },
     "execution_count": 276,
     "metadata": {},
     "output_type": "execute_result"
    }
   ],
   "source": [
    "#  find the log\n",
    "tf.math.log(tf.cast(h, dtype = tf.float32))"
   ]
  },
  {
   "cell_type": "markdown",
   "id": "c0238410",
   "metadata": {},
   "source": [
    "### tensors and numpy"
   ]
  },
  {
   "cell_type": "code",
   "execution_count": 279,
   "id": "5605ba9a",
   "metadata": {},
   "outputs": [
    {
     "data": {
      "text/plain": [
       "<tf.Tensor: shape=(3,), dtype=float64, numpy=array([2., 4., 6.])>"
      ]
     },
     "execution_count": 279,
     "metadata": {},
     "output_type": "execute_result"
    }
   ],
   "source": [
    "# tensorfow interacts beatifully with numpy array?\n",
    "\n",
    "j = tf.constant(np.array([2.,4,6]))\n",
    "j"
   ]
  },
  {
   "cell_type": "code",
   "execution_count": 284,
   "id": "41608373",
   "metadata": {},
   "outputs": [
    {
     "data": {
      "text/plain": [
       "(array([2., 4., 6.]), numpy.ndarray)"
      ]
     },
     "execution_count": 284,
     "metadata": {},
     "output_type": "execute_result"
    }
   ],
   "source": [
    "# converte back to our nnumpy array\n",
    "np.array(j), type(np.array(j))"
   ]
  },
  {
   "cell_type": "code",
   "execution_count": 286,
   "id": "cbb3173f",
   "metadata": {},
   "outputs": [
    {
     "data": {
      "text/plain": [
       "(array([2., 4., 6.]), numpy.ndarray)"
      ]
     },
     "execution_count": 286,
     "metadata": {},
     "output_type": "execute_result"
    }
   ],
   "source": [
    "# converte a tensor  j to a nummpy array\n",
    "j.numpy(), type(j.numpy())"
   ]
  },
  {
   "cell_type": "code",
   "execution_count": 288,
   "id": "7b0ad4ae",
   "metadata": {},
   "outputs": [
    {
     "data": {
      "text/plain": [
       "3.0"
      ]
     },
     "execution_count": 288,
     "metadata": {},
     "output_type": "execute_result"
    }
   ],
   "source": [
    "j = tf.constant([3.])\n",
    "j.numpy()[0]"
   ]
  },
  {
   "cell_type": "code",
   "execution_count": 289,
   "id": "4829674c",
   "metadata": {},
   "outputs": [
    {
     "data": {
      "text/plain": [
       "(tf.float64, tf.float32)"
      ]
     },
     "execution_count": 289,
     "metadata": {},
     "output_type": "execute_result"
    }
   ],
   "source": [
    "#  default types of each are different\n",
    "numpy_j = tf.constant(np.array([4.,7.]))\n",
    "tensor_j = tf.constant([4.,7.])\n",
    "numpy_j.dtype, tensor_j.dtype"
   ]
  },
  {
   "cell_type": "code",
   "execution_count": null,
   "id": "a5108be4",
   "metadata": {},
   "outputs": [],
   "source": []
  }
 ],
 "metadata": {
  "kernelspec": {
   "display_name": "Python 3",
   "language": "python",
   "name": "python3"
  },
  "language_info": {
   "codemirror_mode": {
    "name": "ipython",
    "version": 3
   },
   "file_extension": ".py",
   "mimetype": "text/x-python",
   "name": "python",
   "nbconvert_exporter": "python",
   "pygments_lexer": "ipython3",
   "version": "3.7.10"
  }
 },
 "nbformat": 4,
 "nbformat_minor": 5
}
