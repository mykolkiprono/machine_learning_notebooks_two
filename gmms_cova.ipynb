{
 "cells": [
  {
   "cell_type": "code",
   "execution_count": 4,
   "id": "81d57f1e",
   "metadata": {},
   "outputs": [
    {
     "name": "stdout",
     "output_type": "stream",
     "text": [
      "Automatically created module for IPython interactive environment\n"
     ]
    }
   ],
   "source": [
    "import numpy as np\n",
    "import matplotlib.pyplot as plt\n",
    "from sklearn.model_selection import StratifiedKFold\n",
    "from sklearn.mixture import GaussianMixture\n",
    "from sklearn.datasets import load_iris\n",
    "\n",
    "print(__doc__)"
   ]
  },
  {
   "cell_type": "raw",
   "id": "5945df7f",
   "metadata": {},
   "source": [
    "'full' (each component has its own general covariance matrix),\n",
    "'tied' (all components share the same general covariance matrix),\n",
    "'diag' (each component has its own diagonal covariance matrix),\n",
    "'spherical' (each component has its own single variance)"
   ]
  },
  {
   "cell_type": "code",
   "execution_count": null,
   "id": "e51e4612",
   "metadata": {},
   "outputs": [],
   "source": [
    "# <!-- # colors = ['red', 'blue', 'green'] -->\n",
    "\n",
    "def ellipse(gmm, ax):\n",
    "    for n,color in enumerate(color):\n",
    "        if gmm.covariance_type == 'full':\n",
    "            \n",
    "            \n",
    "        \n",
    "        "
   ]
  },
  {
   "cell_type": "code",
   "execution_count": null,
   "id": "8a203f06",
   "metadata": {},
   "outputs": [],
   "source": [
    "GaussianMixture()"
   ]
  }
 ],
 "metadata": {
  "kernelspec": {
   "display_name": "Python 3",
   "language": "python",
   "name": "python3"
  },
  "language_info": {
   "codemirror_mode": {
    "name": "ipython",
    "version": 3
   },
   "file_extension": ".py",
   "mimetype": "text/x-python",
   "name": "python",
   "nbconvert_exporter": "python",
   "pygments_lexer": "ipython3",
   "version": "3.8.8"
  }
 },
 "nbformat": 4,
 "nbformat_minor": 5
}
